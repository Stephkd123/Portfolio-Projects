{
 "cells": [
  {
   "cell_type": "code",
   "execution_count": 1,
   "metadata": {},
   "outputs": [],
   "source": [
    "from langchain_community.document_loaders import PyMuPDFLoader\n",
    "from IPython.display import Markdown\n",
    "from pprint import pprint  # Import pprint for better metadata readability\n",
    "import textwrap\n",
    "import os\n",
    "from dotenv import load_dotenv\n",
    "\n",
    "from langchain_openai import OpenAIEmbeddings\n",
    "from langchain_community.document_loaders.firecrawl import FireCrawlLoader"
   ]
  },
  {
   "cell_type": "code",
   "execution_count": 2,
   "metadata": {},
   "outputs": [
    {
     "name": "stdout",
     "output_type": "stream",
     "text": [
      "All environment variables loaded successfully\n"
     ]
    }
   ],
   "source": [
    "load_dotenv()\n",
    "\n",
    "# Access the environments variable\n",
    "openai_api_key = os.getenv(\"OPENAI_API_KEY\")\n",
    "connection_string = os.getenv(\"DB_CONNECTION\")\n",
    "llama_cloud_api_key =os.getenv(\"LLAMA_CLOUD_API_KEY\")\n",
    "firecrawl_api_key = os.getenv(\"FIRECRAWL_API_KEY\")\n",
    "\n",
    "# Quick check environment variables\n",
    "if not os.getenv(\"OPENAI_API_KEY\") or not os.getenv(\"DB_CONNECTION\") or not os.getenv(\"LLAMA_CLOUD_API_KEY\") or not os.getenv(\"FIRECRAWL_API_KEY\"):\n",
    "    print(f\"Error: Missing one or more required environment variables\") # If so, print out your key to check\n",
    "else:\n",
    "    print(\"All environment variables loaded successfully\")"
   ]
  },
  {
   "cell_type": "markdown",
   "metadata": {},
   "source": [
    "## Loading the different Department PDfs"
   ]
  },
  {
   "cell_type": "markdown",
   "metadata": {},
   "source": [
    "## Art Department"
   ]
  },
  {
   "cell_type": "code",
   "execution_count": 3,
   "metadata": {},
   "outputs": [
    {
     "name": "stdout",
     "output_type": "stream",
     "text": [
      "2024-25 Art Department Handbook\n"
     ]
    }
   ],
   "source": [
    "pdf_Art_file_path = \"/Users/stephenkeyen/Documents/GENAI/Assignments/2024-25 Art Department Handbook.pdf\"\n",
    "\n",
    "\n",
    "# Get the file name without extension\n",
    "pdf_name = os.path.splitext(os.path.basename(pdf_Art_file_path))[0]\n",
    "print(pdf_name)\n",
    "\n",
    "# Create a PyMuPDFLoader instance with the specified file path\n",
    "Art_loader = PyMuPDFLoader(file_path = pdf_Art_file_path, \n",
    "                     mode='page')\n",
    "\n",
    "# Load data into Document objects\n",
    "Art_docs = Art_loader.load()"
   ]
  },
  {
   "cell_type": "markdown",
   "metadata": {},
   "source": [
    "## Math Department"
   ]
  },
  {
   "cell_type": "code",
   "execution_count": 4,
   "metadata": {},
   "outputs": [
    {
     "name": "stdout",
     "output_type": "stream",
     "text": [
      "2024-25 student handbook CGU Math programs\n"
     ]
    }
   ],
   "source": [
    "pdf_Math_file_path = \"/Users/stephenkeyen/Documents/GENAI/Assignments/2024-25 student handbook CGU Math programs.pdf\"\n",
    "\n",
    "\n",
    "# Get the file name without extension\n",
    "pdf_name = os.path.splitext(os.path.basename(pdf_Math_file_path))[0]\n",
    "print(pdf_name)\n",
    "\n",
    "# Create a PyMuPDFLoader instance with the specified file path\n",
    "Math_loader = PyMuPDFLoader(file_path = pdf_Math_file_path, \n",
    "                     mode='page')\n",
    "\n",
    "# Load data into Document objects\n",
    "Math_docs = Math_loader.load()"
   ]
  },
  {
   "cell_type": "markdown",
   "metadata": {},
   "source": [
    "## DBOS department "
   ]
  },
  {
   "cell_type": "code",
   "execution_count": 5,
   "metadata": {},
   "outputs": [
    {
     "name": "stdout",
     "output_type": "stream",
     "text": [
      "DBOS PSYCH Handbook 2023-2024 (final)\n"
     ]
    }
   ],
   "source": [
    "pdf_DbosPsych_file_path = \"/Users/stephenkeyen/Documents/GENAI/Assignments/DBOS PSYCH Handbook 2023-2024 (final).pdf\"\n",
    "\n",
    "\n",
    "# Get the file name without extension\n",
    "pdf_name = os.path.splitext(os.path.basename(pdf_DbosPsych_file_path))[0]\n",
    "print(pdf_name)\n",
    "\n",
    "# Create a PyMuPDFLoader instance with the specified file path\n",
    "DbosPsych_loader = PyMuPDFLoader(file_path = pdf_DbosPsych_file_path, \n",
    "                     mode='page')\n",
    "\n",
    "# Load data into Document objects\n",
    "DbosPsych_docs = DbosPsych_loader.load()"
   ]
  },
  {
   "cell_type": "markdown",
   "metadata": {},
   "source": [
    "## Drucker school "
   ]
  },
  {
   "cell_type": "code",
   "execution_count": 6,
   "metadata": {},
   "outputs": [
    {
     "name": "stdout",
     "output_type": "stream",
     "text": [
      "Drucker Management handbook\n"
     ]
    }
   ],
   "source": [
    "pdf_Drucker_file_path = \"/Users/stephenkeyen/Documents/GENAI/Assignments/Drucker Management handbook.pdf\"\n",
    "\n",
    "\n",
    "# Get the file name without extension\n",
    "pdf_name = os.path.splitext(os.path.basename(pdf_Drucker_file_path))[0]\n",
    "print(pdf_name)\n",
    "\n",
    "# Create a PyMuPDFLoader instance with the specified file path\n",
    "Drucker_loader = PyMuPDFLoader(file_path = pdf_Drucker_file_path, \n",
    "                     mode='page')\n",
    "\n",
    "# Load data into Document objects\n",
    "Drucker_docs = Drucker_loader.load()"
   ]
  },
  {
   "cell_type": "markdown",
   "metadata": {},
   "source": [
    "## Public Health DEPt - PhD & Masters "
   ]
  },
  {
   "cell_type": "code",
   "execution_count": 7,
   "metadata": {},
   "outputs": [
    {
     "name": "stdout",
     "output_type": "stream",
     "text": [
      "DrPH Student Handbook_2024-2025_v08292024\n",
      "MPH-Student-Handbook-2023-2024\n"
     ]
    }
   ],
   "source": [
    "pdf_PubHelPhd_file_path = \"/Users/stephenkeyen/Documents/GENAI/Assignments/DrPH Student Handbook_2024-2025_v08292024.pdf\"\n",
    "pdf_PubHelMsc_file_path = \"/Users/stephenkeyen/Documents/GENAI/Assignments/MPH-Student-Handbook-2023-2024.pdf\"\n",
    "\n",
    "\n",
    "# Get the file name without extension\n",
    "pdf_name1 = os.path.splitext(os.path.basename(pdf_PubHelPhd_file_path))[0]\n",
    "pdf_name2 = os.path.splitext(os.path.basename(pdf_PubHelMsc_file_path))[0]\n",
    "print(pdf_name1)\n",
    "print(pdf_name2)\n",
    "\n",
    "\n",
    "# Create a PyMuPDFLoader instance with the specified file path\n",
    "PubHelPhd_loader = PyMuPDFLoader(file_path = pdf_PubHelPhd_file_path, \n",
    "                     mode='page')\n",
    "PubHelMsc_loader = PyMuPDFLoader(file_path = pdf_PubHelMsc_file_path, \n",
    "                     mode='page')\n",
    "\n",
    "# Load data into Document objects\n",
    "PubHelPhd_docs = PubHelPhd_loader.load()\n",
    "PubHelMsc_docs = PubHelMsc_loader.load()"
   ]
  },
  {
   "cell_type": "markdown",
   "metadata": {},
   "source": [
    "## Dept of Social Science"
   ]
  },
  {
   "cell_type": "code",
   "execution_count": 8,
   "metadata": {},
   "outputs": [
    {
     "name": "stdout",
     "output_type": "stream",
     "text": [
      "NEW - 2024-2025 DPE Student Handbook\n"
     ]
    }
   ],
   "source": [
    "pdf_SSPnE_file_path = \"/Users/stephenkeyen/Documents/GENAI/Assignments/NEW - 2024-2025 DPE Student Handbook.pdf\"\n",
    "\n",
    "\n",
    "# Get the file name without extension\n",
    "pdf_name = os.path.splitext(os.path.basename(pdf_SSPnE_file_path))[0]\n",
    "print(pdf_name)\n",
    "\n",
    "# Create a PyMuPDFLoader instance with the specified file path\n",
    "SSPnE_loader = PyMuPDFLoader(file_path = pdf_SSPnE_file_path, \n",
    "                     mode='page')\n",
    "\n",
    "# Load data into Document objects\n",
    "SSPnE_docs = SSPnE_loader.load()"
   ]
  },
  {
   "cell_type": "markdown",
   "metadata": {},
   "source": [
    "## Exploring each document structure"
   ]
  },
  {
   "cell_type": "markdown",
   "metadata": {},
   "source": [
    "## Art Department"
   ]
  },
  {
   "cell_type": "code",
   "execution_count": 9,
   "metadata": {},
   "outputs": [
    {
     "name": "stdout",
     "output_type": "stream",
     "text": [
      "Document collection size: 43\n",
      "\n",
      "LangChain Document Object Structure:\n",
      "Available attributes: ['id', 'metadata', 'page_content', 'type']\n",
      "\n",
      "Key Attributes:\n",
      "1. metadata:\n",
      "(\"   {'producer': '', 'creator': 'Microsoft Word', 'creationdate': \"\n",
      " \"'2024-08-19T22:01:04+00:00', 'source': \"\n",
      " \"'/Users/stephenkeyen/Documents/GENAI/Assignments/2024-25 Art Department \"\n",
      " \"Handbook.pdf', 'file_path': \"\n",
      " \"'/Users/stephenkeyen/Documents/GENAI/Assignments/2024-25 Art Department \"\n",
      " \"Handbook.pdf', 'total_pages': 43, 'format': 'PDF 1.7', 'title': '', \"\n",
      " \"'author': 'Susan Hampson', 'subject': '', 'keywords': '', 'moddate': \"\n",
      " \"'2024-08-19T22:01:04+00:00', 'trapped': '', 'modDate': \"\n",
      " '\"D:20240819220104+00\\'00\\'\", \\'creationDate\\': \"D:20240819220104+00\\'00\\'\", '\n",
      " \"'page': 0}\")\n",
      "\n",
      "2. page_content (excerpt):\n",
      "   2024-25 Handbook \n",
      " \n",
      "Degree requirements for students are governed by the program information published in the archived \n",
      "Bulletin and the Department Handbook for the academic year in which a student began coursework at the \n",
      "University.  This handbook can also be found online listed with all SAH handb...\n"
     ]
    }
   ],
   "source": [
    "# explore the Document object structure\n",
    "print(\"Document collection size:\", len(Art_docs))\n",
    "\n",
    "# Displaying the structure of the first document\n",
    "Art_doc = Art_docs[0]\n",
    "\n",
    "print(\"\\nLangChain Document Object Structure:\")\n",
    "print(f\"Available attributes: {list(vars(Art_doc).keys())}\")\n",
    "\n",
    "# Focus on the two most important attributes\n",
    "print(\"\\nKey Attributes:\")\n",
    "\n",
    "# 1. Metadata - Contains document information like source file, page numbers, etc.\n",
    "print(\"1. metadata:\")\n",
    "pprint(f\"   {Art_doc.metadata}\")\n",
    "\n",
    "# 2. Page Content - The actual text content\n",
    "print(\"\\n2. page_content (excerpt):\")\n",
    "Art_content_preview = Art_doc.page_content[:300] + \"...\" if len(Art_doc.page_content) > 300 else Art_doc.page_content\n",
    "print(f\"   {Art_content_preview}\")"
   ]
  },
  {
   "cell_type": "markdown",
   "metadata": {},
   "source": [
    "## Drucker Department"
   ]
  },
  {
   "cell_type": "code",
   "execution_count": 10,
   "metadata": {},
   "outputs": [
    {
     "name": "stdout",
     "output_type": "stream",
     "text": [
      "Document collection size: 14\n",
      "\n",
      "LangChain Document Object Structure:\n",
      "Available attributes: ['id', 'metadata', 'page_content', 'type']\n",
      "\n",
      "Key Attributes:\n",
      "1. metadata:\n",
      "(\"   {'producer': 'www.ilovepdf.com', 'creator': 'Microsoft® Word 2016', \"\n",
      " \"'creationdate': '2025-03-25T20:39:16+00:00', 'source': \"\n",
      " \"'/Users/stephenkeyen/Documents/GENAI/Assignments/Drucker Management \"\n",
      " \"handbook.pdf', 'file_path': \"\n",
      " \"'/Users/stephenkeyen/Documents/GENAI/Assignments/Drucker Management \"\n",
      " \"handbook.pdf', 'total_pages': 14, 'format': 'PDF 1.5', 'title': '', \"\n",
      " \"'author': 'Stephen Keyen', 'subject': '', 'keywords': '', 'moddate': \"\n",
      " \"'2025-03-25T20:39:17+00:00', 'trapped': '', 'modDate': 'D:20250325203917Z', \"\n",
      " '\\'creationDate\\': \"D:20250325203916+00\\'00\\'\", \\'page\\': 0}')\n",
      "\n",
      "2. page_content (excerpt):\n",
      "   Drucker Management Programs Handbook  \n",
      "The Drucker School of Management  \n",
      " Vision  \n",
      " Mission  \n",
      " What We Value  \n",
      "Program Requirements  \n",
      " Management Certificates & Concentrations  \n",
      "Drucker Administrative Policies  \n",
      " Fellowships  \n",
      " Registration (Enrollment in Courses)  \n",
      " Exceptional Course Loads...\n"
     ]
    }
   ],
   "source": [
    "# explore the Document object structure\n",
    "print(\"Document collection size:\", len(Drucker_docs))\n",
    "\n",
    "# Displaying the structure of the first document\n",
    "Drucker_doc = Drucker_docs[0]\n",
    "\n",
    "print(\"\\nLangChain Document Object Structure:\")\n",
    "print(f\"Available attributes: {list(vars(Drucker_doc).keys())}\")\n",
    "\n",
    "# Focus on the two most important attributes\n",
    "print(\"\\nKey Attributes:\")\n",
    "\n",
    "# 1. Metadata - Contains document information like source file, page numbers, etc.\n",
    "print(\"1. metadata:\")\n",
    "pprint(f\"   {Drucker_doc.metadata}\")\n",
    "\n",
    "# 2. Page Content - The actual text content\n",
    "print(\"\\n2. page_content (excerpt):\")\n",
    "Drucker_content_preview = Drucker_doc.page_content[:300] + \"...\" if len(Drucker_doc.page_content) > 300 else Drucker_doc.page_content\n",
    "print(f\"   {Drucker_content_preview}\")"
   ]
  },
  {
   "cell_type": "markdown",
   "metadata": {},
   "source": [
    "## Math Department"
   ]
  },
  {
   "cell_type": "code",
   "execution_count": 11,
   "metadata": {},
   "outputs": [
    {
     "name": "stdout",
     "output_type": "stream",
     "text": [
      "Document collection size: 17\n",
      "\n",
      "LangChain Document Object Structure:\n",
      "Available attributes: ['id', 'metadata', 'page_content', 'type']\n",
      "\n",
      "Key Attributes:\n",
      "1. metadata:\n",
      "(\"   {'producer': 'Acrobat Distiller 9.5.5 (Windows)', 'creator': \"\n",
      " \"'PScript5.dll Version 5.2.2', 'creationdate': '2024-08-19T15:41:23-07:00', \"\n",
      " \"'source': '/Users/stephenkeyen/Documents/GENAI/Assignments/2024-25 student \"\n",
      " \"handbook CGU Math programs.pdf', 'file_path': \"\n",
      " \"'/Users/stephenkeyen/Documents/GENAI/Assignments/2024-25 student handbook \"\n",
      " \"CGU Math programs.pdf', 'total_pages': 17, 'format': 'PDF 1.5', 'title': \"\n",
      " \"'Microsoft Word - 2024-25 handbook', 'author': 'allon', 'subject': '', \"\n",
      " \"'keywords': '', 'moddate': '2024-08-19T15:41:23-07:00', 'trapped': '', \"\n",
      " '\\'modDate\\': \"D:20240819154123-07\\'00\\'\", \\'creationDate\\': '\n",
      " '\"D:20240819154123-07\\'00\\'\", \\'page\\': 0}')\n",
      "\n",
      "2. page_content (excerpt):\n",
      "   2024-2025 \n",
      " \n",
      "Institute of Mathematical \n",
      "Sciences \n",
      " \n",
      "Student Handbook\n"
     ]
    }
   ],
   "source": [
    "# explore the Document object structure\n",
    "print(\"Document collection size:\", len(Math_docs))\n",
    "\n",
    "# Displaying the structure of the first document\n",
    "Math_doc = Math_docs[0]\n",
    "\n",
    "print(\"\\nLangChain Document Object Structure:\")\n",
    "print(f\"Available attributes: {list(vars(Math_doc).keys())}\")\n",
    "\n",
    "# Focus on the two most important attributes\n",
    "print(\"\\nKey Attributes:\")\n",
    "\n",
    "# 1. Metadata - Contains document information like source file, page numbers, etc.\n",
    "print(\"1. metadata:\")\n",
    "pprint(f\"   {Math_doc.metadata}\")\n",
    "\n",
    "# 2. Page Content - The actual text content\n",
    "print(\"\\n2. page_content (excerpt):\")\n",
    "Math_content_preview = Math_doc.page_content[:300] + \"...\" if len(Math_doc.page_content) > 300 else Math_doc.page_content\n",
    "print(f\"   {Math_content_preview}\")"
   ]
  },
  {
   "cell_type": "markdown",
   "metadata": {},
   "source": [
    "## DBOS Department"
   ]
  },
  {
   "cell_type": "code",
   "execution_count": 12,
   "metadata": {},
   "outputs": [
    {
     "name": "stdout",
     "output_type": "stream",
     "text": [
      "Document collection size: 38\n",
      "\n",
      "LangChain Document Object Structure:\n",
      "Available attributes: ['id', 'metadata', 'page_content', 'type']\n",
      "\n",
      "Key Attributes:\n",
      "1. metadata:\n",
      "(\"   {'producer': 'Adobe Acrobat Pro (64-bit) 23.3.20269', 'creator': 'Adobe \"\n",
      " \"Acrobat Pro (64-bit) 23.3.20269', 'creationdate': \"\n",
      " \"'2023-08-17T16:57:25-07:00', 'source': \"\n",
      " \"'/Users/stephenkeyen/Documents/GENAI/Assignments/DBOS PSYCH Handbook \"\n",
      " \"2023-2024 (final).pdf', 'file_path': \"\n",
      " \"'/Users/stephenkeyen/Documents/GENAI/Assignments/DBOS PSYCH Handbook \"\n",
      " \"2023-2024 (final).pdf', 'total_pages': 38, 'format': 'PDF 1.7', 'title': '', \"\n",
      " \"'author': 'Annekah Hall', 'subject': '', 'keywords': '', 'moddate': \"\n",
      " \"'2023-08-17T16:57:54-07:00', 'trapped': '', 'modDate': \"\n",
      " '\"D:20230817165754-07\\'00\\'\", \\'creationDate\\': \"D:20230817165725-07\\'00\\'\", '\n",
      " \"'page': 0}\")\n",
      "\n",
      "2. page_content (excerpt):\n",
      "   This student handbook is updated annually.  \n",
      "Information is subject to change. Last amended August 2023. \n",
      " \n",
      " \n",
      " \n",
      " \n",
      " \n",
      " \n",
      " \n",
      " \n",
      " \n",
      " \n",
      " \n",
      "Psychology Student Handbook \n",
      "2023-2024\n"
     ]
    }
   ],
   "source": [
    "# explore the Document object structure\n",
    "print(\"Document collection size:\", len(DbosPsych_docs))\n",
    "\n",
    "# Displaying the structure of the first document\n",
    "DbosPsych_doc = DbosPsych_docs[0]\n",
    "\n",
    "print(\"\\nLangChain Document Object Structure:\")\n",
    "print(f\"Available attributes: {list(vars(DbosPsych_doc).keys())}\")\n",
    "\n",
    "# Focus on the two most important attributes\n",
    "print(\"\\nKey Attributes:\")\n",
    "\n",
    "# 1. Metadata - Contains document information like source file, page numbers, etc.\n",
    "print(\"1. metadata:\")\n",
    "pprint(f\"   {DbosPsych_doc.metadata}\")\n",
    "\n",
    "# 2. Page Content - The actual text content\n",
    "print(\"\\n2. page_content (excerpt):\")\n",
    "DbosPsych_content_preview = DbosPsych_doc.page_content[:300] + \"...\" if len(DbosPsych_doc.page_content) > 300 else DbosPsych_doc.page_content\n",
    "print(f\"   {DbosPsych_content_preview}\")"
   ]
  },
  {
   "cell_type": "markdown",
   "metadata": {},
   "source": [
    "## Public Health Department (PhD & Masters)"
   ]
  },
  {
   "cell_type": "code",
   "execution_count": 13,
   "metadata": {},
   "outputs": [
    {
     "name": "stdout",
     "output_type": "stream",
     "text": [
      "Document collection size: 43\n",
      "\n",
      "LangChain Document Object Structure:\n",
      "Available attributes: ['id', 'metadata', 'page_content', 'type']\n",
      "\n",
      "Key Attributes:\n",
      "1. metadata:\n",
      "(\"   {'producer': 'Adobe PDF Library 20.5.191', 'creator': 'Acrobat PDFMaker \"\n",
      " \"20 for Word', 'creationdate': '2024-08-29T23:30:22-07:00', 'source': \"\n",
      " \"'/Users/stephenkeyen/Documents/GENAI/Assignments/DrPH Student \"\n",
      " \"Handbook_2024-2025_v08292024.pdf', 'file_path': \"\n",
      " \"'/Users/stephenkeyen/Documents/GENAI/Assignments/DrPH Student \"\n",
      " \"Handbook_2024-2025_v08292024.pdf', 'total_pages': 43, 'format': 'PDF 1.6', \"\n",
      " \"'title': '', 'author': 'dschuste', 'subject': '', 'keywords': '', 'moddate': \"\n",
      " \"'2024-08-29T23:30:40-07:00', 'trapped': '', 'modDate': \"\n",
      " '\"D:20240829233040-07\\'00\\'\", \\'creationDate\\': \"D:20240829233022-07\\'00\\'\", '\n",
      " \"'page': 0}\")\n",
      "\n",
      "2. page_content (excerpt):\n",
      "   1  \n",
      " \n",
      " \n",
      " \n",
      " \n",
      "Student Handbook \n",
      "v08292024\n",
      "----------------------------------------------------------------\n",
      "Document collection size: 59\n",
      "\n",
      "LangChain Document Object Structure:\n",
      "Available attributes: ['id', 'metadata', 'page_content', 'type']\n",
      "\n",
      "Key Attributes:\n",
      "1. metadata:\n",
      "(\"   {'producer': '', 'creator': 'Microsoft Word', 'creationdate': \"\n",
      " \"'2024-01-11T21:37:30+00:00', 'source': \"\n",
      " \"'/Users/stephenkeyen/Documents/GENAI/Assignments/MPH-Student-Handbook-2023-2024.pdf', \"\n",
      " \"'file_path': \"\n",
      " \"'/Users/stephenkeyen/Documents/GENAI/Assignments/MPH-Student-Handbook-2023-2024.pdf', \"\n",
      " \"'total_pages': 59, 'format': 'PDF 1.7', 'title': '', 'author': 'dschuste', \"\n",
      " \"'subject': '', 'keywords': '', 'moddate': '2024-01-11T21:37:30+00:00', \"\n",
      " '\\'trapped\\': \\'\\', \\'modDate\\': \"D:20240111213730+00\\'00\\'\", '\n",
      " '\\'creationDate\\': \"D:20240111213730+00\\'00\\'\", \\'page\\': 0}')\n",
      "\n",
      "2. page_content (excerpt):\n",
      "   1 \n",
      " \n",
      " \n",
      " \n",
      " \n",
      " \n",
      " \n",
      " \n",
      " \n",
      " \n",
      " \n",
      " \n",
      " \n",
      " \n",
      " \n",
      " \n",
      " \n",
      " \n",
      " \n",
      "Student Handbook \n",
      "Master of Public Health Programs\n",
      "Standard & Accelerated\n",
      "2023 - 2024\n"
     ]
    }
   ],
   "source": [
    "# explore the Document object structure\n",
    "print(\"Document collection size:\", len(PubHelPhd_docs))\n",
    "\n",
    "# Displaying the structure of the first document\n",
    "PubHelPhd_doc = PubHelPhd_docs[0]\n",
    "\n",
    "print(\"\\nLangChain Document Object Structure:\")\n",
    "print(f\"Available attributes: {list(vars(PubHelPhd_doc).keys())}\")\n",
    "\n",
    "# Focus on the two most important attributes\n",
    "print(\"\\nKey Attributes:\")\n",
    "\n",
    "# 1. Metadata - Contains document information like source file, page numbers, etc.\n",
    "print(\"1. metadata:\")\n",
    "pprint(f\"   {PubHelPhd_doc.metadata}\")\n",
    "\n",
    "# 2. Page Content - The actual text content\n",
    "print(\"\\n2. page_content (excerpt):\")\n",
    "PubHelPhd_content_preview = PubHelPhd_doc.page_content[:300] + \"...\" if len(PubHelPhd_doc.page_content) > 300 else PubHelPhd_doc.page_content\n",
    "print(f\"   {PubHelPhd_content_preview}\")\n",
    "print(\"----------------------------------------------------------------\")\n",
    "# explore the Document object structure\n",
    "print(\"Document collection size:\", len(PubHelMsc_docs))\n",
    "\n",
    "# Displaying the structure of the first document\n",
    "PubHelMsc_doc = PubHelMsc_docs[0]\n",
    "\n",
    "print(\"\\nLangChain Document Object Structure:\")\n",
    "print(f\"Available attributes: {list(vars(PubHelMsc_doc).keys())}\")\n",
    "\n",
    "# Focus on the two most important attributes\n",
    "print(\"\\nKey Attributes:\")\n",
    "\n",
    "# 1. Metadata - Contains document information like source file, page numbers, etc.\n",
    "print(\"1. metadata:\")\n",
    "pprint(f\"   {PubHelMsc_doc.metadata}\")\n",
    "\n",
    "# 2. Page Content - The actual text content\n",
    "print(\"\\n2. page_content (excerpt):\")\n",
    "PubHelMsc_content_preview = PubHelMsc_doc.page_content[:300] + \"...\" if len(PubHelMsc_doc.page_content) > 300 else PubHelMsc_doc.page_content\n",
    "print(f\"   {PubHelMsc_content_preview}\")"
   ]
  },
  {
   "cell_type": "markdown",
   "metadata": {},
   "source": [
    "## SSP&E Department"
   ]
  },
  {
   "cell_type": "code",
   "execution_count": 14,
   "metadata": {},
   "outputs": [
    {
     "name": "stdout",
     "output_type": "stream",
     "text": [
      "Document collection size: 84\n",
      "\n",
      "LangChain Document Object Structure:\n",
      "Available attributes: ['id', 'metadata', 'page_content', 'type']\n",
      "\n",
      "Key Attributes:\n",
      "1. metadata:\n",
      "(\"   {'producer': 'Skia/PDF m131 Google Docs Renderer', 'creator': '', \"\n",
      " \"'creationdate': '', 'source': \"\n",
      " \"'/Users/stephenkeyen/Documents/GENAI/Assignments/NEW - 2024-2025 DPE Student \"\n",
      " \"Handbook.pdf', 'file_path': \"\n",
      " \"'/Users/stephenkeyen/Documents/GENAI/Assignments/NEW - 2024-2025 DPE Student \"\n",
      " \"Handbook.pdf', 'total_pages': 84, 'format': 'PDF 1.4', 'title': 'AY \"\n",
      " \"2024-2025 DPE Student Handbook', 'author': '', 'subject': '', 'keywords': \"\n",
      " \"'', 'moddate': '', 'trapped': '', 'modDate': '', 'creationDate': '', 'page': \"\n",
      " '0}')\n",
      "\n",
      "2. page_content (excerpt):\n",
      "   ,\n",
      "School of Social Science, Policy & Evaluation\n",
      "Division of Politics and Economics\n",
      "2024-2025 Student Handbook\n",
      "Included in this is information critical to your success at CGU. We\n",
      "highly recommend that you take the time to review this\n",
      "material.\n",
      "Welcome to Claremont Graduate University!\n"
     ]
    }
   ],
   "source": [
    "# explore the Document object structure\n",
    "print(\"Document collection size:\", len(SSPnE_docs))\n",
    "\n",
    "# Displaying the structure of the first document\n",
    "SSPnE_doc = SSPnE_docs[0]\n",
    "\n",
    "print(\"\\nLangChain Document Object Structure:\")\n",
    "print(f\"Available attributes: {list(vars(SSPnE_doc).keys())}\")\n",
    "\n",
    "# Focus on the two most important attributes\n",
    "print(\"\\nKey Attributes:\")\n",
    "\n",
    "# 1. Metadata - Contains document information like source file, page numbers, etc.\n",
    "print(\"1. metadata:\")\n",
    "pprint(f\"   {SSPnE_doc.metadata}\")\n",
    "\n",
    "# 2. Page Content - The actual text content\n",
    "print(\"\\n2. page_content (excerpt):\")\n",
    "SSPnE_content_preview = SSPnE_doc.page_content[:300] + \"...\" if len(SSPnE_doc.page_content) > 300 else SSPnE_doc.page_content\n",
    "print(f\"   {SSPnE_content_preview}\")"
   ]
  },
  {
   "cell_type": "markdown",
   "metadata": {},
   "source": [
    "## Random look into page content of each deprtment handbook"
   ]
  },
  {
   "cell_type": "code",
   "execution_count": 15,
   "metadata": {},
   "outputs": [
    {
     "name": "stdout",
     "output_type": "stream",
     "text": [
      "\n",
      "======================================== PAGE 3 ========================================\n",
      "\n",
      "Page Content: Receiving Your Degree/Graduating ............................................................................................................... 11 \n",
      "Brief Overview of ART Programs ....................................................................................................................... 12 \n",
      "Master’s Programs ......................................................................................................................................... 12 \n",
      "Certificate Programs available to Art Students ............................................................................................. 12 \n",
      "Degree Program Requirements ......................................................................................................................... 13 \n",
      "Art - MFA ........................................................................................................................................................ 13 \n",
      "Art – MA ......................................................................................................................................................... 14 \n",
      "Certificate Program Requirements .................................................................................................................... 15 \n",
      "Africana Studies Certificate ........................................................................................................................... 15 \n",
      "Women and Gender Studies Certificate ........................................................................................................ 15 \n",
      "Art Department Lecture Series .......................................................................................................................... 16 \n",
      "Orientation Meetings and Faculty Lectures .................................................................................................. 16 \n",
      "Visiting Artist Lecture Series .......................................................................................................................... 16 \n",
      "Atlantic Lecture Series ................................................................................................................................... 16 \n",
      "Studio Art & Studio Policies & Procedures ........................................................................................................ 17 \n",
      "Appointments for Studio Units ...................................................................................................................... 17 \n",
      "Studios ........................................................................................................................................................... 18 \n",
      "Student Leadership Opportunities .................................................................................................................... 21 \n",
      "Student Representatives ............................................................................................................................... 21 \n",
      "Discussion Groups (DISCOS) .......................................................................................................................... 21 \n",
      "Assistantships ................................................................................................................................................ 21 \n",
      "Working with your Exhibition Committee ......................................................................................................... 22 \n",
      "Choosing an Exhibition Committee ............................................................................................................... 22 \n",
      "Advancement to Candidacy ........................................................................................................................... 22 \n",
      "Final Exhibition Committee Meeting ............................................................................................................. 23 \n",
      "Final Solo Exhibition ....................................................................................................................................... 24 \n",
      "CGU Arts Facilities .............................................................................................................................................. 26 \n",
      "Building Security ............................................................................................................................................ 26 \n",
      "General Rules ................................................................................................................................................. 26 \n",
      "Emergency Procedures .................................................................................................................................. 27 \n",
      "Digital Project Studio ..................................................................................................................................... 27 \n",
      "Large Format Printers .................................................................................................................................... 27 \n",
      "Fabrication Shops and Shared Work Areas ................................................................................................... 28 \n",
      "Galleries ............................................................................................................................................................. 35\n",
      "(\"Metadata: {'producer': '', 'creator': 'Microsoft Word', 'creationdate': \"\n",
      " \"'2024-08-19T22:01:04+00:00', 'source': \"\n",
      " \"'/Users/stephenkeyen/Documents/GENAI/Assignments/2024-25 Art Department \"\n",
      " \"Handbook.pdf', 'file_path': \"\n",
      " \"'/Users/stephenkeyen/Documents/GENAI/Assignments/2024-25 Art Department \"\n",
      " \"Handbook.pdf', 'total_pages': 43, 'format': 'PDF 1.7', 'title': '', \"\n",
      " \"'author': 'Susan Hampson', 'subject': '', 'keywords': '', 'moddate': \"\n",
      " \"'2024-08-19T22:01:04+00:00', 'trapped': '', 'modDate': \"\n",
      " '\"D:20240819220104+00\\'00\\'\", \\'creationDate\\': \"D:20240819220104+00\\'00\\'\", '\n",
      " \"'page': 2}\")\n",
      "\n",
      "==========================================================================================\n",
      "\n",
      "\n",
      "======================================== PAGE 32 ========================================\n",
      "\n",
      "Page Content: 33 \n",
      " \n",
      "Wood Shop \n",
      "Clean your work area each time you use the shop. This includes wiping down machines and sweeping \n",
      "the surrounding floor space. It is not the responsibility of the Shop Manager, Shop Technicians, or building \n",
      "custodian to clean the shop. \n",
      "Make sure that your materials have been labeled and are returned to the appropriate storage areas \n",
      "designated in each shop. Lumber may be stored in the designated bins in the breezeway. The bins on the \n",
      "exterior north wall of the metal shop may be used for metal storage. The casting booth has several \n",
      "cabinets and storage racks. Make sure that all chemicals are labeled, dated, and stored in the flammable \n",
      "cabinets when not in use. \n",
      "Any materials lacking identification/ ownership are subject to disposal. The wood shop should never be \n",
      "used for storage of material or projects. Remove your work and materials after each work session—the \n",
      "shop is a common area that should be available for all students. Completed work must be stored in your \n",
      "studio or in a personal storage facility. Anything left in the woodshop, or the back yard will be red \n",
      "tagged and disposed of on the day indicated by the tag. If, for any reason, you need to use the back yard \n",
      "to work on a piece for an extended period of time, please clear it with the Shop Manager. \n",
      "No food or beverages are allowed in the shops. \n",
      "Return tools and equipment to their designated storage areas and notify the Shop Technician on duty of \n",
      "any irregular performance. Restore equipment to its original and safe position after each use. If you have \n",
      "changed blades, make sure the original blade has been reinstalled. Return saws and grinder to a \n",
      "perpendicular spindle position. Wind all pneumatic, water hoses and extension cords to their retracted \n",
      "position. \n",
      "Doors to the shop should be closed at all times. The lights turned out, rolling gates and machines locked \n",
      "at 5 pm or as the last person leaves the shop. \n",
      "Please do not use any materials containing nails or metal with the power tools or machinery. When \n",
      "depositing wood into the scrap bins, please carefully inspect each piece and remove any nails, screws, \n",
      "staples etc. All other materials such as paint, plaster and resins are prohibited in the wood shop. \n",
      "Painting and Gesso-ing should be done outside or in the paint booth. \n",
      "Only new wood is to be run through the joiner and planer. \n",
      "Exercise courtesy when using worktables, and only use one table at a time. Please do not leave work on \n",
      "the tables if you are not present for more than half an hour. Please do not leave work against the walls \n",
      "or on the floor overnight. \n",
      "Metal Shop \n",
      "The metal shop is available 9AM to 5PM, Monday through Friday. \n",
      "The metal shop is for welding and metal work only. Only mild steel, stainless and aluminum are to be \n",
      "used in the shop. Any other material requires permission from the Shop Manager. \n",
      "Return all machines to their designated positions and sweep after welding, cutting, machining, and \n",
      "grinding. \n",
      "Turn off fan and vents and return shop key when closing the shop.\n",
      "(\"Metadata: {'producer': '', 'creator': 'Microsoft Word', 'creationdate': \"\n",
      " \"'2024-08-19T22:01:04+00:00', 'source': \"\n",
      " \"'/Users/stephenkeyen/Documents/GENAI/Assignments/2024-25 Art Department \"\n",
      " \"Handbook.pdf', 'file_path': \"\n",
      " \"'/Users/stephenkeyen/Documents/GENAI/Assignments/2024-25 Art Department \"\n",
      " \"Handbook.pdf', 'total_pages': 43, 'format': 'PDF 1.7', 'title': '', \"\n",
      " \"'author': 'Susan Hampson', 'subject': '', 'keywords': '', 'moddate': \"\n",
      " \"'2024-08-19T22:01:04+00:00', 'trapped': '', 'modDate': \"\n",
      " '\"D:20240819220104+00\\'00\\'\", \\'creationDate\\': \"D:20240819220104+00\\'00\\'\", '\n",
      " \"'page': 31}\")\n",
      "\n",
      "==========================================================================================\n",
      "\n",
      "\n",
      "======================================== PAGE 1 ========================================\n",
      "\n",
      "Page Content: 2024-25 Handbook \n",
      " \n",
      "Degree requirements for students are governed by the program information published in the archived \n",
      "Bulletin and the Department Handbook for the academic year in which a student began coursework at the \n",
      "University.  This handbook can also be found online listed with all SAH handbooks by year at \n",
      "https://cgu0.sharepoint.com/sites/SAH/SitePages/Handbooks.aspx  \n",
      "Updated August 2024\n",
      "(\"Metadata: {'producer': '', 'creator': 'Microsoft Word', 'creationdate': \"\n",
      " \"'2024-08-19T22:01:04+00:00', 'source': \"\n",
      " \"'/Users/stephenkeyen/Documents/GENAI/Assignments/2024-25 Art Department \"\n",
      " \"Handbook.pdf', 'file_path': \"\n",
      " \"'/Users/stephenkeyen/Documents/GENAI/Assignments/2024-25 Art Department \"\n",
      " \"Handbook.pdf', 'total_pages': 43, 'format': 'PDF 1.7', 'title': '', \"\n",
      " \"'author': 'Susan Hampson', 'subject': '', 'keywords': '', 'moddate': \"\n",
      " \"'2024-08-19T22:01:04+00:00', 'trapped': '', 'modDate': \"\n",
      " '\"D:20240819220104+00\\'00\\'\", \\'creationDate\\': \"D:20240819220104+00\\'00\\'\", '\n",
      " \"'page': 0}\")\n",
      "\n",
      "==========================================================================================\n",
      "\n",
      "\n",
      "======================================== PAGE 24 ========================================\n",
      "\n",
      "Page Content: 23 \n",
      " \n",
      "The Advancement Meeting \n",
      "The advancement meeting is held in your studio with your three committee members typically during \n",
      "your second semester for MA students and third semester for MFA students. The meeting will be \n",
      "scheduled by the SAH Administrative Assistant, and you will be notified of the time and date. \n",
      "It is recommended that you display in your studio the work you consider most relevant for this \n",
      "discussion.  If you do installations or very large work that cannot be viewed in your studio space, provide \n",
      "some photographic documentation for the faculty to refer to in the meeting.  Committee members will \n",
      "have read your Advancement Statement and will base their questions and comments on the information \n",
      "you present in your statement and the work in your studio. \n",
      "In your Advancement Meeting, faculty will invite you to clarify, articulate, and defend your \n",
      "commitments and priorities as an artist, to explain your goals and aspirations, the purposes behind the \n",
      "materials you are using, and the choices you have made and plan to make in terms of approach, \n",
      "engagement, and impact.  You are not expected to have all the answers.  But you are expected to have a \n",
      "substantial understanding of the parameters of your endeavors, the histories and contexts your works \n",
      "engage, and the reasons why you do what you do in the studio, and beyond.   \n",
      "The committee chair guides the discussion and opens the meeting with a question to the candidate.  \n",
      "Toward the end of the meeting, you will be asked to step out of your studio so that your committee can \n",
      "confer and consolidate their opinions and recommendations.  When you return, the chair or a \n",
      "designated member will convey to you a brief version of their deliberations.  If the committee’s decision \n",
      "is to advance the candidate, they will sign the requisite forms.  If they determine that your work needs \n",
      "further development, they may not advance you to candidacy or may require a second advancement \n",
      "meeting, later in the semester.  In all cases, they may also request revisions to the advancement \n",
      "statement.  \n",
      "FINAL EXHIBITION COMMITTEE MEETING \n",
      "Your final Exhibition Committee meeting takes place in the gallery during the week of your Final Solo \n",
      "Exhibition, usually on Tuesday.  The SAH Administrative Assistant will schedule this meeting with your \n",
      "committee members. \n",
      "Final Exhibition Statement \n",
      "At least ONE WEEK before you meet with your Exhibition Committee at your Final Solo Exhibition you \n",
      "will submit to each member, as well as to the Written Statement Seminar instructor and the SAH \n",
      "Administrative Assistant) an approximately 1,000-word (approx. 3-4 pages) Artist’s Statement.  Your \n",
      "statement introduces exhibition visitors to your work, explaining the thinking that went into it, your \n",
      "goals for its impact, and the reasons you made it.  \n",
      "Your statement will also serve, along with your exhibition, as a springboard for the discussion that takes \n",
      "place in your Final Exhibition Committee meeting.  As with your advancement meeting, the chair of your \n",
      "committee will lead the wide-ranging discussion, in which you articulate the goals and purposes of your \n",
      "work, explain the audiences your work addresses or hopes to address, and defend the aesthetic \n",
      "decisions you have made concerning every element of your work, including materials, forms, \n",
      "installation, context, history, and effects.\n",
      "(\"Metadata: {'producer': '', 'creator': 'Microsoft Word', 'creationdate': \"\n",
      " \"'2024-08-19T22:01:04+00:00', 'source': \"\n",
      " \"'/Users/stephenkeyen/Documents/GENAI/Assignments/2024-25 Art Department \"\n",
      " \"Handbook.pdf', 'file_path': \"\n",
      " \"'/Users/stephenkeyen/Documents/GENAI/Assignments/2024-25 Art Department \"\n",
      " \"Handbook.pdf', 'total_pages': 43, 'format': 'PDF 1.7', 'title': '', \"\n",
      " \"'author': 'Susan Hampson', 'subject': '', 'keywords': '', 'moddate': \"\n",
      " \"'2024-08-19T22:01:04+00:00', 'trapped': '', 'modDate': \"\n",
      " '\"D:20240819220104+00\\'00\\'\", \\'creationDate\\': \"D:20240819220104+00\\'00\\'\", '\n",
      " \"'page': 23}\")\n",
      "\n",
      "==========================================================================================\n",
      "\n"
     ]
    }
   ],
   "source": [
    "import random\n",
    "\n",
    "#  Number of pages (max 4) to check\n",
    "num_pages = min(4, len(Art_docs))  # Ensuring not exceeding available pages\n",
    "\n",
    "# Randomly select 'num_pages' \n",
    "sampled_pages = random.sample(range(len(Art_docs)), num_pages)  # Selects 'num_samples' random pages\n",
    "\n",
    "# Iterate through the randomly selected pages and print their content\n",
    "for i in sampled_pages:\n",
    "    print(f\"\\n{'='*40} PAGE {i+1} {'='*40}\\n\")  # Display page number\n",
    "    print(f\"Page Content: {Art_docs[i].page_content}\")  # Print page content\n",
    "    pprint(f\"Metadata: {Art_docs[i].metadata}\")  # Print metadata associated with the page\n",
    "    print(\"\\n\" + \"=\"*90 + \"\\n\")  # Separator for readability"
   ]
  },
  {
   "cell_type": "markdown",
   "metadata": {},
   "source": [
    "## Pdf cleaning for each document"
   ]
  },
  {
   "cell_type": "code",
   "execution_count": 16,
   "metadata": {},
   "outputs": [],
   "source": [
    "# Simple PDF Document Cleaning\n",
    "\n",
    "def clean_pdf_documents(docs, min_content_length=20, verbose=True):\n",
    "    \"\"\"\n",
    "    Cleans a list of PDF document objects by removing:\n",
    "    - Pages with very short content (e.g., subheaders, blank pages)\n",
    "    - Duplicate pages based on exact text content\n",
    "\n",
    "    Parameters:\n",
    "        - docs (list): A list of document objects, each with `page_content` and `metadata`.\n",
    "        - min_content_length (int): Minimum number of characters required for a page to be kept.\n",
    "        - verbose (bool): If True, prints detailed logs of the cleaning process.\n",
    "\n",
    "    Returns:\n",
    "        tuple: (cleaned_docs, stats)\n",
    "            - cleaned_docs (list): A list of cleaned document objects.\n",
    "            - stats (dict): A dictionary with counts of total, removed, and remaining pages.\n",
    "    \"\"\"\n",
    "\n",
    "    stats = {\"total\": len(docs), \"short\": 0, \"duplicate\": 0}\n",
    "\n",
    "    # Dictionary to store unique content for duplicate detection\n",
    "    content_map = {}  \n",
    "\n",
    "    # List to store cleaned documents\n",
    "    cleaned_docs = []\n",
    "    \n",
    "    # Iterate through all document pages\n",
    "    for i, doc in enumerate(docs):\n",
    "\n",
    "        # Assign proper page numbering in metadata\n",
    "        doc.metadata[\"page\"] = i + 1\n",
    "        \n",
    "        # Get the page content and remove unnecessary whitespace\n",
    "        content = doc.page_content.strip()\n",
    "\n",
    "        # Check if content is too short (likely irrelevant)\n",
    "        if len(content) < min_content_length: \n",
    "            stats[\"short\"] += 1     # count short pages\n",
    "            if verbose:\n",
    "                print(f\"Skipping page {i+1}: Short content ({len(content)} chars)\")\n",
    "            continue    # Skip this page\n",
    "            \n",
    "        # Check for duplicates\n",
    "        if content in content_map: \n",
    "            stats[\"duplicate\"] += 1     # Count duplicate pages\n",
    "            if verbose:\n",
    "                print(f\"Skipping page {i+1}: Duplicate of page {content_map[content]+1}\")\n",
    "            continue    # Skip this page\n",
    "            \n",
    "        # Add unique content to tracking dictionary (avoid future duplicates)\n",
    "        content_map[content] = i\n",
    "\n",
    "        # Append the valid document to the cleaned list\n",
    "        cleaned_docs.append(doc)\n",
    "    \n",
    "    # Calculate the number of valid pages after cleaning\n",
    "    stats[\"valid\"] = stats[\"total\"] - stats[\"short\"] - stats[\"duplicate\"]\n",
    "    \n",
    "    # Print a cleaning summary if verbose mode is enabled\n",
    "    if verbose:\n",
    "        print(f\"\\nCleaning Summary:\")\n",
    "        print(f\"  Total pages: {stats['total']}\")\n",
    "        print(f\"  Removed: {stats['short']} short pages, {stats['duplicate']} duplicates\")\n",
    "        print(f\"  Remaining: {stats['valid']} valid pages\")\n",
    "    \n",
    "    # Return cleaned documents and summary statistics\n",
    "    return cleaned_docs, stats"
   ]
  },
  {
   "cell_type": "markdown",
   "metadata": {},
   "source": [
    "## Art Department"
   ]
  },
  {
   "cell_type": "code",
   "execution_count": 17,
   "metadata": {},
   "outputs": [
    {
     "name": "stdout",
     "output_type": "stream",
     "text": [
      "\n",
      "Cleaning Summary:\n",
      "  Total pages: 43\n",
      "  Removed: 0 short pages, 0 duplicates\n",
      "  Remaining: 43 valid pages\n",
      "\n",
      "--- Sample Page 1 ---\n",
      "Content (preview): 2024-25 Handbook \n",
      " \n",
      "Degree requirements for students are governed by the program information publish...\n",
      "Metadata: {'producer': '', 'creator': 'Microsoft Word', 'creationdate': '2024-08-19T22:01:04+00:00', 'source': '/Users/stephenkeyen/Documents/GENAI/Assignments/2024-25 Art Department Handbook.pdf', 'file_path': '/Users/stephenkeyen/Documents/GENAI/Assignments/2024-25 Art Department Handbook.pdf', 'total_pages': 43, 'format': 'PDF 1.7', 'title': '', 'author': 'Susan Hampson', 'subject': '', 'keywords': '', 'moddate': '2024-08-19T22:01:04+00:00', 'trapped': '', 'modDate': \"D:20240819220104+00'00'\", 'creationDate': \"D:20240819220104+00'00'\", 'page': 1}\n",
      "\n",
      "--- Sample Page 2 ---\n",
      "Content (preview): 2024-25 Handbook \n",
      " \n",
      "Degree requirements for students are governed by the program information publish...\n",
      "Metadata: {'producer': '', 'creator': 'Microsoft Word', 'creationdate': '2024-08-19T22:01:04+00:00', 'source': '/Users/stephenkeyen/Documents/GENAI/Assignments/2024-25 Art Department Handbook.pdf', 'file_path': '/Users/stephenkeyen/Documents/GENAI/Assignments/2024-25 Art Department Handbook.pdf', 'total_pages': 43, 'format': 'PDF 1.7', 'title': '', 'author': 'Susan Hampson', 'subject': '', 'keywords': '', 'moddate': '2024-08-19T22:01:04+00:00', 'trapped': '', 'modDate': \"D:20240819220104+00'00'\", 'creationDate': \"D:20240819220104+00'00'\", 'page': 1}\n"
     ]
    }
   ],
   "source": [
    "# Clean the PDF documents\n",
    "# Removing pages that are 20 characters or less\n",
    "Art_cleaned_docs, cleaning_stats = clean_pdf_documents(Art_docs, min_content_length=20)\n",
    "\n",
    "# Check if any documents remain after cleaning\n",
    "if Art_cleaned_docs:\n",
    "    # Display a sample preview of the first 2 cleaned documents\n",
    "    for i, doc in enumerate(Art_cleaned_docs[:2]):\n",
    "        print(f\"\\n--- Sample Page {i+1} ---\")\n",
    "\n",
    "        # Show a preview of the first 100 characters of page content\n",
    "        print(f\"Content (preview): {Art_doc.page_content[:100]}...\")\n",
    "\n",
    "        # Display associated metadata\n",
    "        print(f\"Metadata: {Art_doc.metadata}\")\n",
    "else:\n",
    "    print(\"No valid documents remain after cleaning.\")"
   ]
  },
  {
   "cell_type": "markdown",
   "metadata": {},
   "source": [
    "## Math Handbook"
   ]
  },
  {
   "cell_type": "code",
   "execution_count": 18,
   "metadata": {},
   "outputs": [
    {
     "name": "stdout",
     "output_type": "stream",
     "text": [
      "\n",
      "Cleaning Summary:\n",
      "  Total pages: 17\n",
      "  Removed: 0 short pages, 0 duplicates\n",
      "  Remaining: 17 valid pages\n",
      "\n",
      "--- Sample Page 1 ---\n",
      "Content (preview): 2024-2025 \n",
      " \n",
      "Institute of Mathematical \n",
      "Sciences \n",
      " \n",
      "Student Handbook...\n",
      "(\"Metadata: {'producer': 'Acrobat Distiller 9.5.5 (Windows)', 'creator': \"\n",
      " \"'PScript5.dll Version 5.2.2', 'creationdate': '2024-08-19T15:41:23-07:00', \"\n",
      " \"'source': '/Users/stephenkeyen/Documents/GENAI/Assignments/2024-25 student \"\n",
      " \"handbook CGU Math programs.pdf', 'file_path': \"\n",
      " \"'/Users/stephenkeyen/Documents/GENAI/Assignments/2024-25 student handbook \"\n",
      " \"CGU Math programs.pdf', 'total_pages': 17, 'format': 'PDF 1.5', 'title': \"\n",
      " \"'Microsoft Word - 2024-25 handbook', 'author': 'allon', 'subject': '', \"\n",
      " \"'keywords': '', 'moddate': '2024-08-19T15:41:23-07:00', 'trapped': '', \"\n",
      " '\\'modDate\\': \"D:20240819154123-07\\'00\\'\", \\'creationDate\\': '\n",
      " '\"D:20240819154123-07\\'00\\'\", \\'page\\': 1}')\n",
      "\n",
      "--- Sample Page 2 ---\n",
      "Content (preview): 2024-2025 \n",
      " \n",
      "Institute of Mathematical \n",
      "Sciences \n",
      " \n",
      "Student Handbook...\n",
      "(\"Metadata: {'producer': 'Acrobat Distiller 9.5.5 (Windows)', 'creator': \"\n",
      " \"'PScript5.dll Version 5.2.2', 'creationdate': '2024-08-19T15:41:23-07:00', \"\n",
      " \"'source': '/Users/stephenkeyen/Documents/GENAI/Assignments/2024-25 student \"\n",
      " \"handbook CGU Math programs.pdf', 'file_path': \"\n",
      " \"'/Users/stephenkeyen/Documents/GENAI/Assignments/2024-25 student handbook \"\n",
      " \"CGU Math programs.pdf', 'total_pages': 17, 'format': 'PDF 1.5', 'title': \"\n",
      " \"'Microsoft Word - 2024-25 handbook', 'author': 'allon', 'subject': '', \"\n",
      " \"'keywords': '', 'moddate': '2024-08-19T15:41:23-07:00', 'trapped': '', \"\n",
      " '\\'modDate\\': \"D:20240819154123-07\\'00\\'\", \\'creationDate\\': '\n",
      " '\"D:20240819154123-07\\'00\\'\", \\'page\\': 1}')\n"
     ]
    }
   ],
   "source": [
    "# Clean the PDF documents\n",
    "# Remove pages that are 20 characters or less\n",
    "math_cleaned_docs, cleaning_stats = clean_pdf_documents(Math_docs, min_content_length=20)\n",
    "\n",
    "# Check if any documents remain after cleaning\n",
    "if math_cleaned_docs:\n",
    "    # Display a sample preview of the first 2 cleaned documents\n",
    "    for i, doc in enumerate(math_cleaned_docs[:2]):\n",
    "        print(f\"\\n--- Sample Page {i+1} ---\")\n",
    "\n",
    "        # Show a preview of the first 100 characters of page content\n",
    "        print(f\"Content (preview): {Math_doc.page_content[:100]}...\")\n",
    "\n",
    "        # Display associated metadata\n",
    "        pprint(f\"Metadata: {Math_doc.metadata}\")\n",
    "else:\n",
    "    print(\"No valid documents remain after cleaning.\")"
   ]
  },
  {
   "cell_type": "markdown",
   "metadata": {},
   "source": [
    "## DBOS Handbook"
   ]
  },
  {
   "cell_type": "code",
   "execution_count": 19,
   "metadata": {},
   "outputs": [
    {
     "name": "stdout",
     "output_type": "stream",
     "text": [
      "\n",
      "Cleaning Summary:\n",
      "  Total pages: 38\n",
      "  Removed: 0 short pages, 0 duplicates\n",
      "  Remaining: 38 valid pages\n",
      "\n",
      "--- Sample Page 1 ---\n",
      "Content (preview): This student handbook is updated annually.  \n",
      "Information is subject to change. Last amended August 2...\n",
      "(\"Metadata: {'producer': 'Adobe Acrobat Pro (64-bit) 23.3.20269', 'creator': \"\n",
      " \"'Adobe Acrobat Pro (64-bit) 23.3.20269', 'creationdate': \"\n",
      " \"'2023-08-17T16:57:25-07:00', 'source': \"\n",
      " \"'/Users/stephenkeyen/Documents/GENAI/Assignments/DBOS PSYCH Handbook \"\n",
      " \"2023-2024 (final).pdf', 'file_path': \"\n",
      " \"'/Users/stephenkeyen/Documents/GENAI/Assignments/DBOS PSYCH Handbook \"\n",
      " \"2023-2024 (final).pdf', 'total_pages': 38, 'format': 'PDF 1.7', 'title': '', \"\n",
      " \"'author': 'Annekah Hall', 'subject': '', 'keywords': '', 'moddate': \"\n",
      " \"'2023-08-17T16:57:54-07:00', 'trapped': '', 'modDate': \"\n",
      " '\"D:20230817165754-07\\'00\\'\", \\'creationDate\\': \"D:20230817165725-07\\'00\\'\", '\n",
      " \"'page': 1}\")\n",
      "\n",
      "--- Sample Page 2 ---\n",
      "Content (preview): This student handbook is updated annually.  \n",
      "Information is subject to change. Last amended August 2...\n",
      "(\"Metadata: {'producer': 'Adobe Acrobat Pro (64-bit) 23.3.20269', 'creator': \"\n",
      " \"'Adobe Acrobat Pro (64-bit) 23.3.20269', 'creationdate': \"\n",
      " \"'2023-08-17T16:57:25-07:00', 'source': \"\n",
      " \"'/Users/stephenkeyen/Documents/GENAI/Assignments/DBOS PSYCH Handbook \"\n",
      " \"2023-2024 (final).pdf', 'file_path': \"\n",
      " \"'/Users/stephenkeyen/Documents/GENAI/Assignments/DBOS PSYCH Handbook \"\n",
      " \"2023-2024 (final).pdf', 'total_pages': 38, 'format': 'PDF 1.7', 'title': '', \"\n",
      " \"'author': 'Annekah Hall', 'subject': '', 'keywords': '', 'moddate': \"\n",
      " \"'2023-08-17T16:57:54-07:00', 'trapped': '', 'modDate': \"\n",
      " '\"D:20230817165754-07\\'00\\'\", \\'creationDate\\': \"D:20230817165725-07\\'00\\'\", '\n",
      " \"'page': 1}\")\n"
     ]
    }
   ],
   "source": [
    "# Clean the PDF documents\n",
    "# Remove pages that are 20 characters or less\n",
    "DbosPsych_cleaned_docs, cleaning_stats = clean_pdf_documents(DbosPsych_docs, min_content_length=20)\n",
    "\n",
    "# Check if any documents remain after cleaning\n",
    "if DbosPsych_cleaned_docs:\n",
    "    # Display a sample preview of the first 2 cleaned documents\n",
    "    for i, doc in enumerate(DbosPsych_cleaned_docs[:2]):\n",
    "        print(f\"\\n--- Sample Page {i+1} ---\")\n",
    "\n",
    "        # Show a preview of the first 100 characters of page content\n",
    "        print(f\"Content (preview): {DbosPsych_doc.page_content[:100]}...\")\n",
    "\n",
    "        # Display associated metadata\n",
    "        pprint(f\"Metadata: {DbosPsych_doc.metadata}\")\n",
    "else:\n",
    "    print(\"No valid documents remain after cleaning.\")"
   ]
  },
  {
   "cell_type": "markdown",
   "metadata": {},
   "source": [
    "## Drucker Handbook"
   ]
  },
  {
   "cell_type": "code",
   "execution_count": 20,
   "metadata": {},
   "outputs": [
    {
     "name": "stdout",
     "output_type": "stream",
     "text": [
      "\n",
      "Cleaning Summary:\n",
      "  Total pages: 14\n",
      "  Removed: 0 short pages, 0 duplicates\n",
      "  Remaining: 14 valid pages\n",
      "\n",
      "--- Sample Page 1 ---\n",
      "Content (preview): Drucker Management Programs Handbook  \n",
      "The Drucker School of Management  \n",
      " Vision  \n",
      " Mission  \n",
      " W...\n",
      "(\"Metadata: {'producer': 'www.ilovepdf.com', 'creator': 'Microsoft® Word \"\n",
      " \"2016', 'creationdate': '2025-03-25T20:39:16+00:00', 'source': \"\n",
      " \"'/Users/stephenkeyen/Documents/GENAI/Assignments/Drucker Management \"\n",
      " \"handbook.pdf', 'file_path': \"\n",
      " \"'/Users/stephenkeyen/Documents/GENAI/Assignments/Drucker Management \"\n",
      " \"handbook.pdf', 'total_pages': 14, 'format': 'PDF 1.5', 'title': '', \"\n",
      " \"'author': 'Stephen Keyen', 'subject': '', 'keywords': '', 'moddate': \"\n",
      " \"'2025-03-25T20:39:17+00:00', 'trapped': '', 'modDate': 'D:20250325203917Z', \"\n",
      " '\\'creationDate\\': \"D:20250325203916+00\\'00\\'\", \\'page\\': 1}')\n",
      "\n",
      "--- Sample Page 2 ---\n",
      "Content (preview): Drucker Management Programs Handbook  \n",
      "The Drucker School of Management  \n",
      " Vision  \n",
      " Mission  \n",
      " W...\n",
      "(\"Metadata: {'producer': 'www.ilovepdf.com', 'creator': 'Microsoft® Word \"\n",
      " \"2016', 'creationdate': '2025-03-25T20:39:16+00:00', 'source': \"\n",
      " \"'/Users/stephenkeyen/Documents/GENAI/Assignments/Drucker Management \"\n",
      " \"handbook.pdf', 'file_path': \"\n",
      " \"'/Users/stephenkeyen/Documents/GENAI/Assignments/Drucker Management \"\n",
      " \"handbook.pdf', 'total_pages': 14, 'format': 'PDF 1.5', 'title': '', \"\n",
      " \"'author': 'Stephen Keyen', 'subject': '', 'keywords': '', 'moddate': \"\n",
      " \"'2025-03-25T20:39:17+00:00', 'trapped': '', 'modDate': 'D:20250325203917Z', \"\n",
      " '\\'creationDate\\': \"D:20250325203916+00\\'00\\'\", \\'page\\': 1}')\n"
     ]
    }
   ],
   "source": [
    "# Clean the PDF documents\n",
    "# Remove pages that are 20 characters or less\n",
    "Drucker_cleaned_docs, cleaning_stats = clean_pdf_documents(Drucker_docs, min_content_length=20)\n",
    "\n",
    "# Check if any documents remain after cleaning\n",
    "if Drucker_cleaned_docs:\n",
    "    # Display a sample preview of the first 2 cleaned documents\n",
    "    for i, doc in enumerate(Drucker_cleaned_docs[:2]):\n",
    "        print(f\"\\n--- Sample Page {i+1} ---\")\n",
    "\n",
    "        # Show a preview of the first 100 characters of page content\n",
    "        print(f\"Content (preview): {Drucker_doc.page_content[:100]}...\")\n",
    "\n",
    "        # Display associated metadata\n",
    "        pprint(f\"Metadata: {Drucker_doc.metadata}\")\n",
    "else:\n",
    "    print(\"No valid documents remain after cleaning.\")"
   ]
  },
  {
   "cell_type": "markdown",
   "metadata": {},
   "source": [
    "## Public Health Department (PhD & Masters)"
   ]
  },
  {
   "cell_type": "code",
   "execution_count": 21,
   "metadata": {},
   "outputs": [
    {
     "name": "stdout",
     "output_type": "stream",
     "text": [
      "\n",
      "Cleaning Summary:\n",
      "  Total pages: 43\n",
      "  Removed: 0 short pages, 0 duplicates\n",
      "  Remaining: 43 valid pages\n",
      "\n",
      "--- Sample Page 1 ---\n",
      "Content (preview): 1  \n",
      " \n",
      " \n",
      " \n",
      " \n",
      "Student Handbook \n",
      "v08292024...\n",
      "(\"Metadata: {'producer': 'Adobe PDF Library 20.5.191', 'creator': 'Acrobat \"\n",
      " \"PDFMaker 20 for Word', 'creationdate': '2024-08-29T23:30:22-07:00', \"\n",
      " \"'source': '/Users/stephenkeyen/Documents/GENAI/Assignments/DrPH Student \"\n",
      " \"Handbook_2024-2025_v08292024.pdf', 'file_path': \"\n",
      " \"'/Users/stephenkeyen/Documents/GENAI/Assignments/DrPH Student \"\n",
      " \"Handbook_2024-2025_v08292024.pdf', 'total_pages': 43, 'format': 'PDF 1.6', \"\n",
      " \"'title': '', 'author': 'dschuste', 'subject': '', 'keywords': '', 'moddate': \"\n",
      " \"'2024-08-29T23:30:40-07:00', 'trapped': '', 'modDate': \"\n",
      " '\"D:20240829233040-07\\'00\\'\", \\'creationDate\\': \"D:20240829233022-07\\'00\\'\", '\n",
      " \"'page': 1}\")\n",
      "\n",
      "--- Sample Page 2 ---\n",
      "Content (preview): 1  \n",
      " \n",
      " \n",
      " \n",
      " \n",
      "Student Handbook \n",
      "v08292024...\n",
      "(\"Metadata: {'producer': 'Adobe PDF Library 20.5.191', 'creator': 'Acrobat \"\n",
      " \"PDFMaker 20 for Word', 'creationdate': '2024-08-29T23:30:22-07:00', \"\n",
      " \"'source': '/Users/stephenkeyen/Documents/GENAI/Assignments/DrPH Student \"\n",
      " \"Handbook_2024-2025_v08292024.pdf', 'file_path': \"\n",
      " \"'/Users/stephenkeyen/Documents/GENAI/Assignments/DrPH Student \"\n",
      " \"Handbook_2024-2025_v08292024.pdf', 'total_pages': 43, 'format': 'PDF 1.6', \"\n",
      " \"'title': '', 'author': 'dschuste', 'subject': '', 'keywords': '', 'moddate': \"\n",
      " \"'2024-08-29T23:30:40-07:00', 'trapped': '', 'modDate': \"\n",
      " '\"D:20240829233040-07\\'00\\'\", \\'creationDate\\': \"D:20240829233022-07\\'00\\'\", '\n",
      " \"'page': 1}\")\n"
     ]
    }
   ],
   "source": [
    "# Clean the PDF documents\n",
    "# Remove pages that are 20 characters or less\n",
    "PubHelPhd_cleaned_docs, cleaning_stats = clean_pdf_documents(PubHelPhd_docs, min_content_length=20)\n",
    "\n",
    "# Check if any documents remain after cleaning\n",
    "if PubHelPhd_cleaned_docs:\n",
    "    # Display a sample preview of the first 2 cleaned documents\n",
    "    for i, doc in enumerate(PubHelPhd_cleaned_docs[:2]):\n",
    "        print(f\"\\n--- Sample Page {i+1} ---\")\n",
    "\n",
    "        # Show a preview of the first 100 characters of page content\n",
    "        print(f\"Content (preview): {PubHelPhd_doc.page_content[:100]}...\")\n",
    "\n",
    "        # Display associated metadata\n",
    "        pprint(f\"Metadata: {PubHelPhd_doc.metadata}\")\n",
    "else:\n",
    "    print(\"No valid documents remain after cleaning.\")"
   ]
  },
  {
   "cell_type": "code",
   "execution_count": 22,
   "metadata": {},
   "outputs": [
    {
     "name": "stdout",
     "output_type": "stream",
     "text": [
      "\n",
      "Cleaning Summary:\n",
      "  Total pages: 59\n",
      "  Removed: 0 short pages, 0 duplicates\n",
      "  Remaining: 59 valid pages\n",
      "\n",
      "--- Sample Page 1 ---\n",
      "Content (preview): 1 \n",
      " \n",
      " \n",
      " \n",
      " \n",
      " \n",
      " \n",
      " \n",
      " \n",
      " \n",
      " \n",
      " \n",
      " \n",
      " \n",
      " \n",
      " \n",
      " \n",
      " \n",
      " \n",
      "Student Handbook \n",
      "Master of Public Health Programs\n",
      "Standard &...\n",
      "(\"Metadata: {'producer': '', 'creator': 'Microsoft Word', 'creationdate': \"\n",
      " \"'2024-01-11T21:37:30+00:00', 'source': \"\n",
      " \"'/Users/stephenkeyen/Documents/GENAI/Assignments/MPH-Student-Handbook-2023-2024.pdf', \"\n",
      " \"'file_path': \"\n",
      " \"'/Users/stephenkeyen/Documents/GENAI/Assignments/MPH-Student-Handbook-2023-2024.pdf', \"\n",
      " \"'total_pages': 59, 'format': 'PDF 1.7', 'title': '', 'author': 'dschuste', \"\n",
      " \"'subject': '', 'keywords': '', 'moddate': '2024-01-11T21:37:30+00:00', \"\n",
      " '\\'trapped\\': \\'\\', \\'modDate\\': \"D:20240111213730+00\\'00\\'\", '\n",
      " '\\'creationDate\\': \"D:20240111213730+00\\'00\\'\", \\'page\\': 1}')\n",
      "\n",
      "--- Sample Page 2 ---\n",
      "Content (preview): 1 \n",
      " \n",
      " \n",
      " \n",
      " \n",
      " \n",
      " \n",
      " \n",
      " \n",
      " \n",
      " \n",
      " \n",
      " \n",
      " \n",
      " \n",
      " \n",
      " \n",
      " \n",
      " \n",
      "Student Handbook \n",
      "Master of Public Health Programs\n",
      "Standard &...\n",
      "(\"Metadata: {'producer': '', 'creator': 'Microsoft Word', 'creationdate': \"\n",
      " \"'2024-01-11T21:37:30+00:00', 'source': \"\n",
      " \"'/Users/stephenkeyen/Documents/GENAI/Assignments/MPH-Student-Handbook-2023-2024.pdf', \"\n",
      " \"'file_path': \"\n",
      " \"'/Users/stephenkeyen/Documents/GENAI/Assignments/MPH-Student-Handbook-2023-2024.pdf', \"\n",
      " \"'total_pages': 59, 'format': 'PDF 1.7', 'title': '', 'author': 'dschuste', \"\n",
      " \"'subject': '', 'keywords': '', 'moddate': '2024-01-11T21:37:30+00:00', \"\n",
      " '\\'trapped\\': \\'\\', \\'modDate\\': \"D:20240111213730+00\\'00\\'\", '\n",
      " '\\'creationDate\\': \"D:20240111213730+00\\'00\\'\", \\'page\\': 1}')\n"
     ]
    }
   ],
   "source": [
    "# Clean the PDF documents\n",
    "# Remove pages that are 20 characters or less\n",
    "PubHelMsc_cleaned_docs, cleaning_stats = clean_pdf_documents(PubHelMsc_docs, min_content_length=20)\n",
    "\n",
    "# Check if any documents remain after cleaning\n",
    "if PubHelMsc_cleaned_docs:\n",
    "    # Display a sample preview of the first 2 cleaned documents\n",
    "    for i, doc in enumerate(PubHelMsc_cleaned_docs[:2]):\n",
    "        print(f\"\\n--- Sample Page {i+1} ---\")\n",
    "\n",
    "        # Show a preview of the first 100 characters of page content\n",
    "        print(f\"Content (preview): {PubHelMsc_doc.page_content[:100]}...\")\n",
    "\n",
    "        # Display associated metadata\n",
    "        pprint(f\"Metadata: {PubHelMsc_doc.metadata}\")\n",
    "else:\n",
    "    print(\"No valid documents remain after cleaning.\")"
   ]
  },
  {
   "cell_type": "markdown",
   "metadata": {},
   "source": [
    "## SSP&E Handbook"
   ]
  },
  {
   "cell_type": "code",
   "execution_count": 23,
   "metadata": {},
   "outputs": [
    {
     "name": "stdout",
     "output_type": "stream",
     "text": [
      "\n",
      "Cleaning Summary:\n",
      "  Total pages: 84\n",
      "  Removed: 0 short pages, 0 duplicates\n",
      "  Remaining: 84 valid pages\n",
      "\n",
      "--- Sample Page 1 ---\n",
      "Content (preview): ,\n",
      "School of Social Science, Policy & Evaluation\n",
      "Division of Politics and Economics\n",
      "2024-2025 Student...\n",
      "(\"Metadata: {'producer': 'Skia/PDF m131 Google Docs Renderer', 'creator': '', \"\n",
      " \"'creationdate': '', 'source': \"\n",
      " \"'/Users/stephenkeyen/Documents/GENAI/Assignments/NEW - 2024-2025 DPE Student \"\n",
      " \"Handbook.pdf', 'file_path': \"\n",
      " \"'/Users/stephenkeyen/Documents/GENAI/Assignments/NEW - 2024-2025 DPE Student \"\n",
      " \"Handbook.pdf', 'total_pages': 84, 'format': 'PDF 1.4', 'title': 'AY \"\n",
      " \"2024-2025 DPE Student Handbook', 'author': '', 'subject': '', 'keywords': \"\n",
      " \"'', 'moddate': '', 'trapped': '', 'modDate': '', 'creationDate': '', 'page': \"\n",
      " '1}')\n",
      "\n",
      "--- Sample Page 2 ---\n",
      "Content (preview): ,\n",
      "School of Social Science, Policy & Evaluation\n",
      "Division of Politics and Economics\n",
      "2024-2025 Student...\n",
      "(\"Metadata: {'producer': 'Skia/PDF m131 Google Docs Renderer', 'creator': '', \"\n",
      " \"'creationdate': '', 'source': \"\n",
      " \"'/Users/stephenkeyen/Documents/GENAI/Assignments/NEW - 2024-2025 DPE Student \"\n",
      " \"Handbook.pdf', 'file_path': \"\n",
      " \"'/Users/stephenkeyen/Documents/GENAI/Assignments/NEW - 2024-2025 DPE Student \"\n",
      " \"Handbook.pdf', 'total_pages': 84, 'format': 'PDF 1.4', 'title': 'AY \"\n",
      " \"2024-2025 DPE Student Handbook', 'author': '', 'subject': '', 'keywords': \"\n",
      " \"'', 'moddate': '', 'trapped': '', 'modDate': '', 'creationDate': '', 'page': \"\n",
      " '1}')\n"
     ]
    }
   ],
   "source": [
    "# Clean the PDF documents\n",
    "# Remove pages that are 20 characters or less\n",
    "SSPnE_cleaned_docs, cleaning_stats = clean_pdf_documents(SSPnE_docs, min_content_length=20)\n",
    "\n",
    "# Check if any documents remain after cleaning\n",
    "if SSPnE_cleaned_docs:\n",
    "    # Display a sample preview of the first 2 cleaned documents\n",
    "    for i, doc in enumerate(SSPnE_cleaned_docs[:2]):\n",
    "        print(f\"\\n--- Sample Page {i+1} ---\")\n",
    "\n",
    "        # Show a preview of the first 100 characters of page content\n",
    "        print(f\"Content (preview): {SSPnE_doc.page_content[:100]}...\")\n",
    "\n",
    "        # Display associated metadata\n",
    "        pprint(f\"Metadata: {SSPnE_doc.metadata}\")\n",
    "else:\n",
    "    print(\"No valid documents remain after cleaning.\")"
   ]
  },
  {
   "cell_type": "markdown",
   "metadata": {},
   "source": [
    "# Chunking Strategy : \n",
    "## Recursive Character Splitting"
   ]
  },
  {
   "cell_type": "markdown",
   "metadata": {},
   "source": [
    "## Art Handbook"
   ]
  },
  {
   "cell_type": "code",
   "execution_count": 24,
   "metadata": {},
   "outputs": [],
   "source": [
    "# Recursive Splitting\n",
    "from langchain.text_splitter import RecursiveCharacterTextSplitter\n",
    "\n",
    "# Initialize RecursiveCharacterTextSplitter\n",
    "recursive_text_splitter = RecursiveCharacterTextSplitter(chunk_size = 1000,  # Maximum characters per chunk\n",
    "                                                         chunk_overlap=150   # Overlapping characters between chunks to retain context\n",
    "                                                         )\n",
    "\n",
    "# Apply recursive splitting to the document\n",
    "Art_recursive_split_docs = recursive_text_splitter.split_documents(Art_cleaned_docs)"
   ]
  },
  {
   "cell_type": "code",
   "execution_count": 25,
   "metadata": {},
   "outputs": [
    {
     "name": "stdout",
     "output_type": "stream",
     "text": [
      "Total chunks: 144\n",
      "\n",
      " Chunk Sizes:\n",
      "[401, 992, 939, 929, 962, 922, 161, 928, 924, 942, 923, 959, 634, 987, 788, 957, 958, 791, 943, 969, 904, 497, 977, 904, 315, 925, 915, 851, 942, 913, 991, 764, 928, 924, 972, 688, 942, 905, 959, 250, 970, 941, 907, 682, 998, 161, 977, 960, 644, 908, 994, 759, 943, 962, 877, 942, 974, 583, 917, 917, 986, 856, 910, 952, 970, 915, 962, 973, 944, 728, 953, 980, 915, 937, 979, 974, 643, 985, 948, 995, 710, 983, 991, 900, 806, 994, 977, 971, 269, 963, 794, 946, 970, 892, 605, 906, 965, 987, 231, 996, 922, 908, 922, 331, 984, 967, 723, 927, 981, 962, 932, 999, 982, 911, 463, 966, 972, 980, 484, 924, 957, 878, 915, 928, 994, 683, 931, 991, 633, 982, 765, 970, 943, 976, 987, 971, 897, 273, 735, 903, 966, 970, 471, 780]\n",
      "\n",
      "--------------------------------------------------------------------------------\n",
      "\n",
      " Chunk 1: (401 characters)\n",
      "\n",
      "2024-25 Handbook    Degree requirements for students are governed by the program information\n",
      "published in the archived  Bulletin and the Department Handbook for the academic year in which a\n",
      "student began coursework at the  University.  This handbook can also be found online listed with all\n",
      "SAH handbooks by year at  https://cgu0.sharepoint.com/sites/SAH/SitePages/Handbooks.aspx   Updated\n",
      "August 2024\n",
      "————————————————————————————————————————————————————————————————————————————————\n",
      "\n",
      " Chunk 2: (992 characters)\n",
      "\n",
      "CONTENTS  Introduction .............................................................................\n",
      "............................................................................ 4  Art Department\n",
      "Faculty ............................................................................................\n",
      "....................................... 4  General Information .....................................\n",
      "....................................................................................................\n",
      "... 5  Information Technology ......................................................................\n",
      "............................................................ 5  Student Portal .....................\n",
      "....................................................................................................\n",
      "......................... 5  Email .................................................................\n",
      "............................................................................................... 5\n",
      "————————————————————————————————————————————————————————————————————————————————\n",
      "\n",
      " Chunk 3: (939 characters)\n",
      "\n",
      "Student ID Cards ...................................................................................\n",
      "........................................................... 5  Canvas ..............................\n",
      "....................................................................................................\n",
      "............................ 6  Staff and Faculty Contact Information ..............................\n",
      ".............................................................................. 6  Registration and\n",
      "Degree Forms .......................................................................................\n",
      "................................ 6  Campus Health & Wellness Services ..............................\n",
      "................................................................................. 6  Photocopying &\n",
      "Mailing ............................................................................................\n",
      "...................................... 6\n",
      "————————————————————————————————————————————————————————————————————————————————\n"
     ]
    }
   ],
   "source": [
    "# Display summary of the chunking results\n",
    "print(f\"Total chunks: {len(Art_recursive_split_docs)}\\n\")\n",
    "\n",
    "# Compute and display the size of each chunk\n",
    "chunk_sizes = [len(doc.page_content) for doc in Art_recursive_split_docs]\n",
    "print(\" Chunk Sizes:\")\n",
    "print(chunk_sizes)      # Displays a list of chunk lengths for analysis\n",
    "print(\"\\n\" + \"-\" * 80)  # Separator for readability\n",
    "\n",
    "# Display first few chunks with formatted output\n",
    "for i, doc in enumerate(Art_recursive_split_docs[:3]):    # Show only the first 3 chunks\n",
    "    print(f\"\\n Chunk {i+1}: ({len(doc.page_content)} characters)\\n\")\n",
    "\n",
    "    # Format chunk content for better readability\n",
    "    # - Wraps text at 100 characters per line for clear visualization\n",
    "    print(textwrap.fill(doc.page_content, width=100))\n",
    "    print(\"—\" * 80) # Separator for better chunk distinction"
   ]
  },
  {
   "cell_type": "markdown",
   "metadata": {},
   "source": [
    "## Math"
   ]
  },
  {
   "cell_type": "code",
   "execution_count": 26,
   "metadata": {},
   "outputs": [],
   "source": [
    "                                                       \n",
    "# Apply recursive splitting to the document\n",
    "Math_recursive_split_docs = recursive_text_splitter.split_documents(math_cleaned_docs)"
   ]
  },
  {
   "cell_type": "code",
   "execution_count": 27,
   "metadata": {},
   "outputs": [
    {
     "name": "stdout",
     "output_type": "stream",
     "text": [
      "Total chunks: 49\n",
      "\n",
      " Chunk Sizes:\n",
      "[401, 992, 939, 929, 962, 922, 161, 928, 924, 942, 923, 959, 634, 987, 788, 957, 958, 791, 943, 969, 904, 497, 977, 904, 315, 925, 915, 851, 942, 913, 991, 764, 928, 924, 972, 688, 942, 905, 959, 250, 970, 941, 907, 682, 998, 161, 977, 960, 644, 908, 994, 759, 943, 962, 877, 942, 974, 583, 917, 917, 986, 856, 910, 952, 970, 915, 962, 973, 944, 728, 953, 980, 915, 937, 979, 974, 643, 985, 948, 995, 710, 983, 991, 900, 806, 994, 977, 971, 269, 963, 794, 946, 970, 892, 605, 906, 965, 987, 231, 996, 922, 908, 922, 331, 984, 967, 723, 927, 981, 962, 932, 999, 982, 911, 463, 966, 972, 980, 484, 924, 957, 878, 915, 928, 994, 683, 931, 991, 633, 982, 765, 970, 943, 976, 987, 971, 897, 273, 735, 903, 966, 970, 471, 780]\n",
      "\n",
      "--------------------------------------------------------------------------------\n",
      "\n",
      " Chunk 1: (68 characters)\n",
      "\n",
      "2024-2025    Institute of Mathematical  Sciences    Student Handbook\n",
      "————————————————————————————————————————————————————————————————————————————————\n",
      "\n",
      " Chunk 2: (927 characters)\n",
      "\n",
      "2    Welcome to the Institute of Mathematical Sciences (IMS)!   \n",
      "This handbook is designed to assist mathematics students in smoothly progressing through \n",
      "their respective programs.  It introduces major program milestones, registration details, and \n",
      "general information about the school.   \n",
      "Please note that it is the student’s responsibility to be familiar with the CGU Student Bulletin \n",
      "(available at bulletin.cgu.edu) for official CGU policies and procedures.     \n",
      "New Student Orientation   \n",
      "New Student Orientation is designed to prepare incoming students for their first week of \n",
      "classes.  Students have the opportunity to meet faculty, go on a campus tour, meet with an \n",
      "advisor, receive information for the CGU Student Portal and CGU e‐mail, and register for \n",
      "classes. Many of these steps may be completed prior to orientation. All incoming students are \n",
      "required to attend the New Student Orientation.      Registration\n",
      "————————————————————————————————————————————————————————————————————————————————\n",
      "\n",
      " Chunk 3: (987 characters)\n",
      "\n",
      "required to attend the New Student Orientation.      Registration   \n",
      "Registration in the IMS is primarily online through the CGU Student Portal.  Upon matriculation, \n",
      "each student receives a network ID and password with which they can register.  Continuing \n",
      "students who do not register by the pre‐semester deadline (early August for Fall registration, \n",
      "early December for Spring registration) must pay a $170 late registration fee.   \n",
      "While many mathematics courses are unrestricted, students should consult the Graduate Math \n",
      "Courses list (https://www.cgu.edu/wp‐content/uploads/2017/01/CGU‐IMS‐\n",
      "GraduateMathCourses.pdf) to verify prerequisites and course descriptions.  All students must \n",
      "meet with their academic advisors each semester to plan their coursework and update their  plan of s\n",
      "tudy.  It is the student’s responsibility to satisfy all prerequisites before enrolling in a \n",
      "course.   \n",
      "Students who wish to enroll in an Independent Study course (Math 398/498) must complete an\n",
      "————————————————————————————————————————————————————————————————————————————————\n"
     ]
    }
   ],
   "source": [
    "# Display summary of the chunking results\n",
    "print(f\"Total chunks: {len(Math_recursive_split_docs)}\\n\")\n",
    "\n",
    "# Compute and display the size of each chunk\n",
    "chunk_sizes = [len(doc.page_content) for doc in Art_recursive_split_docs]\n",
    "print(\" Chunk Sizes:\")\n",
    "print(chunk_sizes)      # Displays a list of chunk lengths for analysis\n",
    "print(\"\\n\" + \"-\" * 80)  # Separator for readability\n",
    "\n",
    "# Display first few chunks with formatted output\n",
    "for i, doc in enumerate(Math_recursive_split_docs[:3]):    # Show only the first 3 chunks\n",
    "    print(f\"\\n Chunk {i+1}: ({len(doc.page_content)} characters)\\n\")\n",
    "\n",
    "    # Format chunk content for better readability\n",
    "    # - Wraps text at 100 characters per line for clear visualization\n",
    "    print(textwrap.fill(doc.page_content, width=100))\n",
    "    print(\"—\" * 80) # Separator for better chunk distinction"
   ]
  },
  {
   "cell_type": "markdown",
   "metadata": {},
   "source": [
    "## Drucker"
   ]
  },
  {
   "cell_type": "code",
   "execution_count": 28,
   "metadata": {},
   "outputs": [],
   "source": [
    "# Apply recursive splitting to the document\n",
    "Drucker_recursive_split_docs = recursive_text_splitter.split_documents(Drucker_cleaned_docs)"
   ]
  },
  {
   "cell_type": "code",
   "execution_count": 29,
   "metadata": {},
   "outputs": [
    {
     "name": "stdout",
     "output_type": "stream",
     "text": [
      "Total chunks: 30\n",
      "\n",
      " Chunk Sizes:\n",
      "[894, 985, 592, 955, 854, 991, 435, 922, 938, 254, 963, 991, 156, 995, 632, 945, 986, 947, 886, 935, 884, 994, 937, 144, 927, 984, 143, 990, 997, 575]\n",
      "\n",
      "--------------------------------------------------------------------------------\n",
      "\n",
      " Chunk 1: (894 characters)\n",
      "\n",
      "Drucker Management Programs Handbook   The Drucker School of Management    Vision    Mission   \n",
      "What We Value   Program Requirements    Management Certificates & Concentrations   Drucker\n",
      "Administrative Policies    Fellowships    Registration (Enrollment in Courses)    Exceptional\n",
      "Course Loads    Where to Find Courses    Waitlist    Permission to Enroll in Courses   \n",
      "Permission to Enroll in Flex MBA and PhD Level Courses (MGT 600-799)   Audit Policy    Transfer of\n",
      "Units    Course Waivers    Dual Degree Policies   Drucker Academic Policies    Class Attendance\n",
      " Classroom Etiquette    Laptop and Tablet Use in Class   Class Evaluations    Course Materials\n",
      " Internships    Independent Study    Global Immersion: International Courses & Exchange Programs\n",
      " International or Residential Courses    International Exchange (MBA Students Only)    Email\n",
      "Communication\n",
      "————————————————————————————————————————————————————————————————————————————————\n",
      "\n",
      " Chunk 2: (985 characters)\n",
      "\n",
      " Beta Gamma Sigma Induction   The Drucker School of Management   “Management is tasks. Management\n",
      "is a discipline. But management is also  people. Every achievement of management is the achievement\n",
      "of a manager.  Every failure is a failure of a manager… the vision, dedication, and integrity of\n",
      "managers determine whether there is management or mismanagement.”               - Peter F. Drucker,\n",
      "Management: Tasks, Responsibilities, Practices   VISION   At the Drucker School, we believe that\n",
      "management is an essential human  endeavor. Through our teaching and research, we aspire to be\n",
      "prominent  globally in developing leaders and guiding purpose-driven organizations to  create a\n",
      "better society.   MISSION   We advance the practice of management through thought leadership and a\n",
      "personalized approach to graduate education that gives leaders the skills,  vision, and strength of\n",
      "mind necessary to transform themselves, their  organizations, and their communities.   WHAT WE VALUE\n",
      "————————————————————————————————————————————————————————————————————————————————\n",
      "\n",
      " Chunk 3: (592 characters)\n",
      "\n",
      "organizations, and their communities.   WHAT WE VALUE   Peter Drucker’s philosophies are central to\n",
      "who we are. They inform our  scholarship and permeate our instructional content. Together, we are\n",
      "guided  by the following principles:    Purpose-driven and human-centered | We value each person\n",
      "and help  people fulfill their purpose.        Community-focused and socially responsible | We\n",
      "foster diversity,  equity, and inclusion and act ethically in the best interest of society.       \n",
      "Innovative and change-oriented | We emphasize creativity, innovation,  and entrepreneurial thinking.\n",
      "————————————————————————————————————————————————————————————————————————————————\n"
     ]
    }
   ],
   "source": [
    "# Display summary of the chunking results\n",
    "print(f\"Total chunks: {len(Drucker_recursive_split_docs)}\\n\")\n",
    "\n",
    "# Compute and display the size of each chunk\n",
    "chunk_sizes = [len(doc.page_content) for doc in Drucker_recursive_split_docs]\n",
    "print(\" Chunk Sizes:\")\n",
    "print(chunk_sizes)      # Displays a list of chunk lengths for analysis\n",
    "print(\"\\n\" + \"-\" * 80)  # Separator for readability\n",
    "\n",
    "# Display first few chunks with formatted output\n",
    "for i, doc in enumerate(Drucker_recursive_split_docs[:3]):    # Show only the first 3 chunks\n",
    "    print(f\"\\n Chunk {i+1}: ({len(doc.page_content)} characters)\\n\")\n",
    "\n",
    "    # Format chunk content for better readability\n",
    "    # - Wraps text at 100 characters per line for clear visualization\n",
    "    print(textwrap.fill(doc.page_content, width=100))\n",
    "    print(\"—\" * 80) # Separator for better chunk distinction"
   ]
  },
  {
   "cell_type": "markdown",
   "metadata": {},
   "source": [
    "## DBOS"
   ]
  },
  {
   "cell_type": "code",
   "execution_count": 30,
   "metadata": {},
   "outputs": [
    {
     "name": "stdout",
     "output_type": "stream",
     "text": [
      "Total chunks: 128\n",
      "\n",
      " Chunk Sizes:\n",
      "[166, 872, 679, 946, 994, 112, 931, 233, 982, 758, 978, 989, 470, 987, 998, 709, 996, 935, 979, 222, 905, 959, 958, 946, 913, 968, 981, 937, 403, 955, 953, 942, 968, 939, 988, 892, 967, 983, 945, 987, 197, 982, 212, 980, 954, 718, 998, 994, 998, 144, 981, 287, 984, 924, 570, 992, 120, 931, 933, 260, 944, 960, 992, 56, 970, 990, 916, 820, 996, 980, 642, 992, 958, 993, 241, 983, 914, 900, 915, 258, 962, 962, 977, 930, 402, 921, 894, 953, 962, 203, 979, 604, 983, 654, 951, 964, 929, 516, 927, 941, 951, 812, 973, 992, 982, 979, 141, 950, 989, 918, 441, 983, 950, 649, 919, 974, 911, 218, 938, 910, 505, 937, 927, 905, 363, 997, 960, 770]\n",
      "\n",
      "--------------------------------------------------------------------------------\n",
      "\n",
      " Chunk 1: (166 characters)\n",
      "\n",
      "This student handbook is updated annually.   Information is subject to change. Last amended August\n",
      "2023.                        Psychology Student Handbook  2023-2024\n",
      "————————————————————————————————————————————————————————————————————————————————\n",
      "\n",
      " Chunk 2: (872 characters)\n",
      "\n",
      "1   TABLE OF CONTENTS  DEPARTMENT INTRODUCTION\n",
      ".................................................................................... 2  HELPFUL\n",
      "CONTACTS ...........................................................................................\n",
      ".......... 3  IMPORTANT DEPARTMENT LOCATIONS & INFORMATION .........................................\n",
      "4  FACULTY .........................................................................................\n",
      "................................ 5  DEPARTMENT EXPECTATIONS,  POLICIES & PROCEDURES\n",
      "...................................... 8  PSYCH PROGRAM REQUIREMENTS, DEADLINES, AND TIMELINES\n",
      "....................... 11  MA PSYCHOLOGY PROGRAM\n",
      "......................................................................................14  PHD\n",
      "PSYCHOLOGY PROGRAM\n",
      "....................................................................................20\n",
      "————————————————————————————————————————————————————————————————————————————————\n",
      "\n",
      " Chunk 3: (679 characters)\n",
      "\n",
      "PHD PSYCHOLOGY PROGRAM\n",
      "....................................................................................20  STUDENT LIFE\n",
      "....................................................................................................\n",
      "........... 29  STUDENT ORGANIZATIONS\n",
      ".........................................................................................29\n",
      "RESEARCH CENTERS, INSTITUTES, AND LABS .........................................................30\n",
      "CGU RESOURCES ......................................................................................\n",
      "...................33  THE CLAREMONT COLLEGES SERVICES RESOURCES\n",
      "............................................36            .\n",
      "————————————————————————————————————————————————————————————————————————————————\n"
     ]
    }
   ],
   "source": [
    "# Apply recursive splitting to the document\n",
    "DbosPsych_recursive_split_docs = recursive_text_splitter.split_documents(DbosPsych_cleaned_docs)\n",
    "\n",
    "# Display summary of the chunking results\n",
    "print(f\"Total chunks: {len(DbosPsych_recursive_split_docs)}\\n\")\n",
    "\n",
    "# Compute and display the size of each chunk\n",
    "chunk_sizes = [len(doc.page_content) for doc in DbosPsych_recursive_split_docs]\n",
    "print(\" Chunk Sizes:\")\n",
    "print(chunk_sizes)      # Displays a list of chunk lengths for analysis\n",
    "print(\"\\n\" + \"-\" * 80)  # Separator for readability\n",
    "\n",
    "# Display first few chunks with formatted output\n",
    "for i, doc in enumerate(DbosPsych_recursive_split_docs[:3]):    # Show only the first 3 chunks\n",
    "    print(f\"\\n Chunk {i+1}: ({len(doc.page_content)} characters)\\n\")\n",
    "\n",
    "    # Format chunk content for better readability\n",
    "    # - Wraps text at 100 characters per line for clear visualization\n",
    "    print(textwrap.fill(doc.page_content, width=100))\n",
    "    print(\"—\" * 80) # Separator for better chunk distinction\n"
   ]
  },
  {
   "cell_type": "markdown",
   "metadata": {},
   "source": [
    "## Public Health"
   ]
  },
  {
   "cell_type": "code",
   "execution_count": 31,
   "metadata": {},
   "outputs": [
    {
     "name": "stdout",
     "output_type": "stream",
     "text": [
      "PhD Total chunks: 123\n",
      "\n",
      "MSc Total chunks: 193\n",
      "\n",
      " Chunk Sizes:\n",
      "[39, 945, 960, 972, 410, 956, 580, 994, 928, 250, 939, 466, 914, 462, 977, 972, 251, 983, 942, 206, 999, 937, 148, 956, 562, 943, 979, 807, 972, 990, 655, 988, 968, 98, 958, 550, 958, 960, 214, 997, 621, 977, 940, 386, 996, 584, 982, 988, 258, 951, 969, 236, 975, 992, 926, 192, 948, 976, 964, 972, 926, 916, 988, 971, 882, 967, 998, 512, 968, 981, 772, 982, 966, 949, 303, 993, 939, 988, 676, 916, 957, 912, 620, 986, 935, 957, 816, 951, 952, 437, 970, 936, 734, 930, 921, 949, 995, 983, 924, 218, 928, 973, 911, 963, 458, 994, 904, 957, 240, 956, 974, 928, 320, 927, 938, 760, 983, 347, 922, 890, 238, 999, 309]\n",
      "\n",
      "--------------------------------------------------------------------------------\n",
      "\n",
      " Chunk 1: (39 characters)\n",
      "\n",
      "1           Student Handbook  v08292024\n",
      "————————————————————————————————————————————————————————————————————————————————\n",
      "\n",
      " Chunk 2: (945 characters)\n",
      "\n",
      "2     Table of Contents    Handbook Overview .......................................................\n",
      "............................................................. 3  Land Acknowledgement ..............\n",
      ".............................................................................................. 4\n",
      "SCGH Diversity, Equity, and Inclusion Statement\n",
      "........................................................... 5  SCGH Guiding Statements .............\n",
      "............................................................................................. 6\n",
      "Program Overview ...................................................................................\n",
      ".................................... 7  Program Admission Requirements\n",
      "....................................................................................... 8  SCGH Core\n",
      "Faculty ............................................................................................\n",
      "............................ 9\n",
      "————————————————————————————————————————————————————————————————————————————————\n",
      "\n",
      " Chunk 3: (960 characters)\n",
      "\n",
      "Program Accreditation & Professional Memberships ................................................ 21\n",
      "School and Program Committees\n",
      "........................................................................................ 22  Student\n",
      "Associations/Groups\n",
      "............................................................................................... 23\n",
      "Foundational and Concentration-Specific Competencies ......................................... 25\n",
      "Curriculum .........................................................................................\n",
      "........................................... 27  SCGH Expectations and Policies with Regard to\n",
      "Academic Progress .................. 38  Summer Availability of Faculty\n",
      "............................................................................................ 42  CGU\n",
      "Bulletin ...........................................................................................\n",
      "...................................... 43\n",
      "————————————————————————————————————————————————————————————————————————————————\n"
     ]
    }
   ],
   "source": [
    "# Apply recursive splitting to the document\n",
    "PubHelPhd_recursive_split_docs = recursive_text_splitter.split_documents(PubHelPhd_cleaned_docs)\n",
    "\n",
    "PubHelMsc_recursive_split_docs = recursive_text_splitter.split_documents(PubHelMsc_cleaned_docs)\n",
    "\n",
    "# Display summary of the chunking results\n",
    "print(f\"PhD Total chunks: {len(PubHelPhd_recursive_split_docs)}\\n\")\n",
    "\n",
    "print(f\"MSc Total chunks: {len(PubHelMsc_recursive_split_docs)}\\n\")\n",
    "\n",
    "# Compute and display the size of each chunk\n",
    "chunk_sizes = [len(doc.page_content) for doc in PubHelPhd_recursive_split_docs]\n",
    "print(\" Chunk Sizes:\")\n",
    "print(chunk_sizes)      # Displays a list of chunk lengths for analysis\n",
    "print(\"\\n\" + \"-\" * 80)  # Separator for readability\n",
    "\n",
    "# Display first few chunks with formatted output\n",
    "for i, doc in enumerate(PubHelPhd_recursive_split_docs[:3]):    # Show only the first 3 chunks\n",
    "    print(f\"\\n Chunk {i+1}: ({len(doc.page_content)} characters)\\n\")\n",
    "\n",
    "    # Format chunk content for better readability\n",
    "    # - Wraps text at 100 characters per line for clear visualization\n",
    "    print(textwrap.fill(doc.page_content, width=100))\n",
    "    print(\"—\" * 80) # Separator for better chunk distinction"
   ]
  },
  {
   "cell_type": "markdown",
   "metadata": {},
   "source": [
    "## SSP&E"
   ]
  },
  {
   "cell_type": "code",
   "execution_count": 32,
   "metadata": {},
   "outputs": [
    {
     "name": "stdout",
     "output_type": "stream",
     "text": [
      "Total chunks: 221\n",
      "\n",
      " Chunk Sizes:\n",
      "[284, 969, 943, 950, 528, 677, 606, 943, 711, 997, 682, 977, 888, 822, 969, 405, 959, 122, 852, 988, 131, 998, 158, 994, 229, 914, 943, 991, 161, 996, 967, 379, 948, 965, 979, 954, 974, 538, 963, 323, 925, 843, 980, 888, 983, 933, 616, 999, 735, 915, 981, 244, 990, 972, 561, 954, 455, 962, 986, 864, 936, 960, 321, 964, 708, 979, 935, 459, 988, 921, 788, 984, 967, 941, 182, 1000, 388, 962, 476, 928, 942, 211, 972, 975, 796, 430, 430, 430, 432, 994, 913, 907, 990, 941, 476, 992, 160, 759, 740, 728, 728, 999, 966, 945, 245, 975, 915, 947, 370, 996, 983, 397, 938, 990, 808, 938, 981, 769, 939, 954, 692, 976, 930, 918, 532, 999, 952, 926, 486, 977, 994, 476, 939, 996, 506, 911, 984, 272, 934, 962, 417, 959, 963, 398, 954, 650, 999, 963, 398, 911, 943, 951, 486, 965, 910, 999, 773, 963, 947, 941, 189, 958, 992, 471, 927, 977, 354, 948, 948, 992, 999, 910, 993, 646, 910, 997, 873, 974, 960, 919, 928, 971, 915, 481, 923, 965, 606, 985, 909, 604, 976, 968, 656, 995, 931, 940, 298, 1000, 928, 998, 741, 916, 952, 953, 919, 957, 989, 991, 762, 952, 943, 981, 818, 912, 950, 964, 757, 953, 963, 938, 326]\n",
      "\n",
      "--------------------------------------------------------------------------------\n",
      "\n",
      " Chunk 1: (284 characters)\n",
      "\n",
      ", School of Social Science, Policy & Evaluation Division of Politics and Economics 2024-2025 Student\n",
      "Handbook Included in this is information critical to your success at CGU. We highly recommend that\n",
      "you take the time to review this material. Welcome to Claremont Graduate University!\n",
      "————————————————————————————————————————————————————————————————————————————————\n",
      "\n",
      " Chunk 2: (969 characters)\n",
      "\n",
      "Welcome from SSSPE Dean With world-renowned faculty, the Division of Politics and Economics (DPE)\n",
      "helps instill in its students a strong understanding of theoretical frameworks, advanced research\n",
      "methodologies, and the ability to transform theory into practice. We engage students in holistic,\n",
      "transdisciplinary scholarship to solve real-world problems and enhance society. We are strongly\n",
      "committed to quality graduate education, faculty-student collaboration, and innovative research that\n",
      "addresses real-world problems. We oﬀer a graduate-only academic environment in which students\n",
      "receive personalized mentorship and work closely with internationally renowned scholars on research\n",
      "projects. Our curriculum has a strong foundation in theory and methodology, but is designed to\n",
      "encourage students to focus on applying the theoretical and empirical skills that they acquire with\n",
      "a view to improving economic and social welfare. Our core oﬀerings in Politics and Policy\n",
      "————————————————————————————————————————————————————————————————————————————————\n",
      "\n",
      " Chunk 3: (943 characters)\n",
      "\n",
      "with a view to improving economic and social welfare. Our core oﬀerings in Politics and Policy and\n",
      "Economic Sciences are highly customizable, resulting in unique programming. We oﬀer dual-degree\n",
      "programs within DPE departments and across CGU divisions. These programs allow students to expand\n",
      "their scholarship in ways that can transform society. Our success at training our students has\n",
      "propelled graduates into successful careers in government agencies, international institutions, and\n",
      "the private sector. It has also allowed them to pursue academic careers in well-respected\n",
      "universities across the world. I am delighted to welcome you into this vibrant and esteemed\n",
      "community of students, scholars, and alums. Do not hesitate to visit our administrative oﬃces\n",
      "located on the 2nd Floor, McManus 237 (above Hagelbarger’s Cafe); the staﬀare ready to help you.\n",
      "Best wishes, Dr. Tiﬀany Berry Dean, School of Social Science Policy & Evaluation 1\n",
      "————————————————————————————————————————————————————————————————————————————————\n"
     ]
    }
   ],
   "source": [
    "# Apply recursive splitting to the document\n",
    "SSPnE_recursive_split_docs = recursive_text_splitter.split_documents(SSPnE_cleaned_docs)\n",
    "\n",
    "# Display summary of the chunking results\n",
    "print(f\"Total chunks: {len(SSPnE_recursive_split_docs)}\\n\")\n",
    "\n",
    "# Compute and display the size of each chunk\n",
    "chunk_sizes = [len(doc.page_content) for doc in SSPnE_recursive_split_docs]\n",
    "print(\" Chunk Sizes:\")\n",
    "print(chunk_sizes)      # Displays a list of chunk lengths for analysis\n",
    "print(\"\\n\" + \"-\" * 80)  # Separator for readability\n",
    "\n",
    "# Display first few chunks with formatted output\n",
    "for i, doc in enumerate(SSPnE_recursive_split_docs[:3]):    # Show only the first 3 chunks\n",
    "    print(f\"\\n Chunk {i+1}: ({len(doc.page_content)} characters)\\n\")\n",
    "\n",
    "    # Format chunk content for better readability\n",
    "    # - Wraps text at 100 characters per line for clear visualization\n",
    "    print(textwrap.fill(doc.page_content, width=100))\n",
    "    print(\"—\" * 80) # Separator for better chunk distinction"
   ]
  },
  {
   "cell_type": "markdown",
   "metadata": {},
   "source": [
    "## Vectore Store for chunked documents"
   ]
  },
  {
   "cell_type": "code",
   "execution_count": 33,
   "metadata": {},
   "outputs": [],
   "source": [
    "# Initialize the OpenAI embeddings model\n",
    "embedding_model = OpenAIEmbeddings(model=\"text-embedding-3-large\")"
   ]
  },
  {
   "cell_type": "code",
   "execution_count": 34,
   "metadata": {},
   "outputs": [],
   "source": [
    "# from langchain_postgres import PGVector\n",
    "# from sqlalchemy.engine.url import make_url\n",
    "\n",
    "# # Extract the database name from the connection string\n",
    "# database_name = make_url(connection_string).database \n",
    "\n",
    "# # Define document collections to be stored in PostgreSQL\n",
    "# collections = {\n",
    "#     \"Art_data\": Art_recursive_split_docs,    \n",
    "#     \"Math_data\": Math_recursive_split_docs, \n",
    "#     \"Drucker_data\": Drucker_recursive_split_docs,    \n",
    "#     \"Dbos_data\": DbosPsych_recursive_split_docs,\n",
    "#     \"PubHelPhd_data\":PubHelPhd_recursive_split_docs,    \n",
    "#     \"PubHelMsc_data\": PubHelMsc_recursive_split_docs,\n",
    "#     \"Sspne_data\": SSPnE_recursive_split_docs    \n",
    "# }\n",
    "\n",
    "# # # Load documents into PostgreSQL vector database\n",
    "# databases = {}\n",
    "# for name, docs in collections.items():\n",
    "#     databases[name] = PGVector.from_documents(\n",
    "#         embedding=embedding_model,      # OpenAI embeddings for vectorization\n",
    "#         documents=docs,                 # The documents to be stored \n",
    "#         collection_name=name,           # The name of the collection in PostgreSQL\n",
    "#         connection=connection_string,   # Connection string to the PostgreSQL database\n",
    "#         use_jsonb=True      # Store metadata as JSONB for efficient querying\n",
    "#     )\n",
    "\n",
    "# #     # Display confirmation message\n",
    "#     print(f\" Successfully loaded {len(docs)} chunks into '{name}' collection in '{database_name}'.\")\n"
   ]
  },
  {
   "cell_type": "code",
   "execution_count": 35,
   "metadata": {},
   "outputs": [
    {
     "name": "stdout",
     "output_type": "stream",
     "text": [
      "✅ Successfully loaded 888 chunks into 'CGU_Schools_data' collection in 'GenAI_Spring25_Stephen_Keyen_db'.\n"
     ]
    }
   ],
   "source": [
    "from langchain_postgres import PGVector\n",
    "from sqlalchemy.engine.url import make_url\n",
    "\n",
    "# Extract the database name from the connection string\n",
    "database_name = make_url(connection_string).database \n",
    "\n",
    "# Define document collections to be combined\n",
    "collections = {\n",
    "    \"Art_data\": Art_recursive_split_docs,    \n",
    "    \"Math_data\": Math_recursive_split_docs, \n",
    "    \"Drucker_data\": Drucker_recursive_split_docs,    \n",
    "    \"Dbos_data\": DbosPsych_recursive_split_docs,\n",
    "    \"PubHelPhd_data\": PubHelPhd_recursive_split_docs,    \n",
    "    \"PubHelMsc_data\": PubHelMsc_recursive_split_docs,\n",
    "    \"Sspne_data\": SSPnE_recursive_split_docs    \n",
    "}\n",
    "\n",
    "# Step 1: Combine all documents into a single list\n",
    "all_docs = []\n",
    "for name, docs in collections.items():\n",
    "    all_docs.extend(docs)\n",
    "\n",
    "# Step 2: Load combined documents into a single PGVector collection\n",
    "collection_name = \"CGU_Schools_data\"\n",
    "\n",
    "# Create the unified vector store\n",
    "vectorstore = PGVector.from_documents(\n",
    "    embedding=embedding_model,           # Your OpenAI or other embedding model\n",
    "    documents=all_docs,                  # All the combined docs\n",
    "    collection_name=collection_name,     # ONE collection name\n",
    "    connection=connection_string,\n",
    "    use_jsonb=True                       # Optional: store metadata as JSONB\n",
    ")\n",
    "\n",
    "# Confirmation message\n",
    "print(f\"✅ Successfully loaded {len(all_docs)} chunks into '{collection_name}' collection in '{database_name}'.\")\n"
   ]
  },
  {
   "cell_type": "code",
   "execution_count": 36,
   "metadata": {},
   "outputs": [],
   "source": [
    "import os\n",
    "from dotenv import load_dotenv\n",
    "\n",
    "from sqlalchemy.engine.url import make_url\n",
    "\n",
    "from IPython.display import Markdown\n",
    "import textwrap\n",
    "\n",
    "from langchain_core.prompts import PromptTemplate\n",
    "from langchain_postgres.vectorstores import PGVector\n",
    "from langchain_openai import OpenAIEmbeddings\n",
    "from langchain_openai import ChatOpenAI\n",
    "from langchain_core.output_parsers import StrOutputParser "
   ]
  },
  {
   "cell_type": "code",
   "execution_count": 37,
   "metadata": {},
   "outputs": [],
   "source": [
    "# Load environment variables from .env file\n",
    "load_dotenv()\n",
    "\n",
    "connection_string = os.getenv(\"DB_CONNECTION\")\n",
    "openai_api_key = os.getenv(\"OPENAI_API_KEY\")\n",
    "\n",
    "# For this lab, we will use a shared table for demostration purpose.\n",
    "shared_connection_string = make_url(connection_string).set(database=\"GenAI_Spring25_Stephen_Keyen_db\").render_as_string(hide_password=False)\n",
    "\n",
    "# Initialize the embedding model\n",
    "embedding_model = OpenAIEmbeddings(model=\"text-embedding-3-large\")\n",
    "\n",
    "# Initialize the llm\n",
    "llm = ChatOpenAI(temperature=0, \n",
    "                 model=\"gpt-4o\", \n",
    "                 api_key=openai_api_key)"
   ]
  },
  {
   "cell_type": "code",
   "execution_count": 38,
   "metadata": {},
   "outputs": [
    {
     "name": "stdout",
     "output_type": "stream",
     "text": [
      "Connection Successful: 1\n"
     ]
    }
   ],
   "source": [
    "from sqlalchemy import create_engine, text\n",
    "\n",
    "# Create the database engine\n",
    "engine = create_engine(shared_connection_string)\n",
    "\n",
    "# Test the connection by executing a simple query\n",
    "try:\n",
    "    with engine.connect() as connection:\n",
    "        result = connection.execute(text(\"SELECT 1\"))\n",
    "        print(\"Connection Successful:\", result.scalar())\n",
    "except Exception as e:\n",
    "    print(\"Connection Failed:\", str(e))"
   ]
  },
  {
   "cell_type": "code",
   "execution_count": 39,
   "metadata": {},
   "outputs": [
    {
     "name": "stdout",
     "output_type": "stream",
     "text": [
      "Sample Data: [('6b57c121-57b4-48a2-8446-c741af754e25', UUID('53c435d1-4a98-40b9-9d1f-43f1a141fdab'), '[-0.010053493,-0.021633103,-0.013019195,-0.0344871,-0.026478918,-0.0016529657,-0.008141913,0.015796099,-0.00562854,0.025031466,0.03176526,0.015158905 ... (38620 characters truncated) ... 4822215,-0.016677156,-0.012767464,-1.164623e-05,0.008141913,0.012956262,0.0029185023,0.01843927,0.0038211925,-0.010706419,-0.0065135304,-0.014631844]', '# Managing Yourself\\n\\n# Managing Oneself\\n\\n# by Peter F. Drucker\\n\\n# From the Magazine (January 2005)\\n\\nSummary. Throughout history, people had l ... (48 characters truncated) ... n into their stations in life or, in the recent past, they relied on their companies to chart their career paths. But times have drastically changed.', {'Date': 'January 2005', 'Title': 'Managing Oneself', 'Author': 'Peter F. Drucker', 'Publication': 'Harvard Business Review'}), ('fc420a33-5087-477b-a14c-880091644dd5', UUID('53c435d1-4a98-40b9-9d1f-43f1a141fdab'), '[0.0014348837,-0.0054011783,-0.0114707155,-0.008805633,-0.0026483734,-0.018831022,0.004469652,-0.0028196406,0.026634116,0.017678102,-0.004076991,0.04 ... (38713 characters truncated) ... 1637805,-0.02591563,-0.006407894,-0.0006730586,0.025063472,0.0023622322,0.01754443,-0.006633465,-0.0010505771,0.00046941792,0.015029728,-0.016199358]', 'Today... History’s great achievers—a Napoléon, a da Vinci, a Mozart—have always managed themselves. That, in large measure, is what makes them great  ... (411 characters truncated) ... stay mentally... alert and engaged during a 50-year working life, which means knowing how and when to change the work we do. # What Are My Strengths?', {'Date': 'January 2005', 'Title': 'Managing Oneself', 'Author': 'Peter F. Drucker', 'Publication': 'Harvard Business Review'}), ('0b889c6b-c0b6-406d-8791-5a2be0854132', UUID('53c435d1-4a98-40b9-9d1f-43f1a141fdab'), '[0.034575008,-0.014771729,-0.013983203,-0.03742872,0.022349093,-0.043346427,-0.01742268,-0.011925524,0.023971206,-0.017002132,-0.013908105,0.04794241 ... (38643 characters truncated) ... 532305,-0.011940544,0.004892619,0.0027711072,0.0003862841,0.01139233,-0.007877755,0.0055572344,-0.0033906638,-0.006593583,-0.013570165,-0.0072882376]', 'Most people think they know what they are good at. They are usually wrong. More often, people know what they are not good at — and even then more peo ... (263 characters truncated) ... ion and a line of work: The peasant’s son would also be a peasant; the artisan’s daughter, an artisan’s wife; and so on. But now people have choices.', {'Date': 'January 2005', 'Title': 'Managing Oneself', 'Author': 'Peter F. Drucker', 'Publication': 'Harvard Business Review'}), ('ad711c96-1ab0-49b0-8546-2bde7157ddce', UUID('53c435d1-4a98-40b9-9d1f-43f1a141fdab'), '[0.014597441,-0.04647281,-0.020912765,-0.026223943,0.0061493483,-0.022389935,0.01698747,-0.00146991,0.0033049637,0.04285457,0.015593288,0.021726038,0 ... (38607 characters truncated) ... 9161782,0.002267624,0.012099528,-0.0012219859,0.015717767,0.0140331285,0.00035943813,0.001460574,0.010622356,-0.009867174,0.00026685558,-0.030605664]', 'We need to know our strengths in order to know where we belong. The only way to discover your strengths is through feedback analysis. Whenever you ma ... (6072 characters truncated) ...  too few people even know that there are readers and listeners and that people are rarely both. Even fewer know which of the two they themselves are.', {'Date': 'January 2005', 'Title': 'Managing Oneself', 'Author': 'Peter F. Drucker', 'Publication': 'Harvard Business Review'}), ('db9ad7d4-a396-4472-a322-d3279b356e9a', UUID('53c435d1-4a98-40b9-9d1f-43f1a141fdab'), '[0.03333657,-0.004591286,-0.019161018,0.023470744,0.0030933933,-0.018199963,0.022975203,-0.008176469,-0.0010276898,0.015496999,-0.009678116,0.0576031 ... (38676 characters truncated) ... 069949,-0.010248742,0.0058977194,0.0029094415,-0.005462242,0.011179763,-0.015812345,-0.0033693209,0.002160495,-0.021053093,0.0025603084,-0.015466966]', 'But some examples will show how damaging such ignorance can be. When Dwight Eisenhower was Supreme Commander of the Allied forces in Europe, he was t ... (1950 characters truncated) ... he fate of Lyndon Johnson, whereas the reader who tries to be a listener will suffer the fate of Dwight Eisenhower. They will not perform or achieve.', {'Date': 'January 2005', 'Title': 'Managing Oneself', 'Author': 'Peter F. Drucker', 'Publication': 'Harvard Business Review'})]\n"
     ]
    }
   ],
   "source": [
    "# View the sample data from the langchain_pg_embedding table \n",
    "try:\n",
    "    with engine.connect() as connection:\n",
    "        result = connection.execute(text(\"SELECT * FROM langchain_pg_embedding LIMIT 5\"))\n",
    "        rows = result.fetchall()\n",
    "        print(\"Sample Data:\", rows)\n",
    "except Exception as e:\n",
    "    print(\"Error accessing shared table:\", str(e))"
   ]
  },
  {
   "cell_type": "markdown",
   "metadata": {},
   "source": [
    "## Query Translation: With Multiquery Retriever"
   ]
  },
  {
   "cell_type": "code",
   "execution_count": 40,
   "metadata": {},
   "outputs": [],
   "source": [
    "# Establish a connection to the PostgreSQL vector store containing book data.\n",
    "Dbos_data_vector_store = PGVector(\n",
    "    embeddings = embedding_model,   # The embedding model used to generate vector representations of text.\n",
    "    collection_name = \"Dbos_data\",  # The name of the collection storing vector embeddings.\n",
    "    connection=shared_connection_string, # Database connection string defined earlier for accessing the PGVector store\n",
    "    use_jsonb=True, # Enables JSONB storage format, optimizing metadata storage and retrieval. \n",
    ")"
   ]
  },
  {
   "cell_type": "code",
   "execution_count": 41,
   "metadata": {},
   "outputs": [],
   "source": [
    "# PubHelMsc_data_vector_store = PGVector(\n",
    "#     embeddings = embedding_model,   # The embedding model used to generate vector representations of text.\n",
    "#     collection_name = \"PubHelMsc_data\",  # The name of the collection storing vector embeddings.\n",
    "#     connection=shared_connection_string, # Database connection string defined earlier for accessing the PGVector store\n",
    "#     use_jsonb=True, # Enables JSONB storage format, optimizing metadata storage and retrieval. \n",
    "# )"
   ]
  },
  {
   "cell_type": "code",
   "execution_count": 42,
   "metadata": {},
   "outputs": [],
   "source": [
    "\n",
    "# Connect to the PGVector Vector Store that contains book data.\n",
    "CGUHandbook_data_vector_store = PGVector(\n",
    "    embeddings = embedding_model,   \n",
    "    collection_name = \"CGU_Schools_data\",   # Name of the collection/table in the vector DB\n",
    "    connection=shared_connection_string, # Use shared DB connection from earlier\n",
    "    use_jsonb=True, \n",
    ")\n",
    "\n",
    "# Cisat_data_vector_store = PGVector(\n",
    "#     embeddings=embedding_model,   \n",
    "#     collection_name=\"Current_Student_Content\",  \n",
    "#     connection=shared_connection_string,  \n",
    "#     use_jsonb=True  \n",
    "# )\n",
    "\n",
    "# math_data_vector_store = PGVector(\n",
    "#     embeddings=embedding_model,   \n",
    "#     collection_name=\"Math_data\",  \n",
    "#     connection=shared_connection_string,  \n",
    "#     use_jsonb=True  \n",
    "# )"
   ]
  },
  {
   "cell_type": "markdown",
   "metadata": {},
   "source": [
    "## Defining Agents \n",
    "### Query Router Agent"
   ]
  },
  {
   "cell_type": "code",
   "execution_count": 43,
   "metadata": {},
   "outputs": [],
   "source": [
    "# Create a prompt template for generating multiple variations of a user query.\n",
    "# This template rewords the original query into three different versions. \n",
    "multi_query_prompt = PromptTemplate.from_template(\n",
    "    \"\"\"\n",
    "    You are an AI language model assistant. \n",
    "    Your task is to generate 3 different versions of the given user \n",
    "    question to retrieve relevant documents from a vector database. \n",
    "    By generating multiple perspectives on the user question, \n",
    "    your goal is to help the user overcome some of the limitations \n",
    "    of distance-based similarity search. Provide these alternative \n",
    "    questions separated by newlines. \n",
    "\n",
    "    Original user question: {question}\"\"\")\n",
    "\n",
    "# Creating a pipeline for generating multiple query variations.\n",
    "# Step 1: The prompt template takes in the original user question.\n",
    "# Step 2: The LLM generates alternative versions of the query.\n",
    "# Step 3: The StrOutputParser ensures the output is treated as a string.\n",
    "# Step 4: The lambda function splits the output into a list of queries, using newline separators.\n",
    "multi_query_generator = multi_query_prompt | llm | StrOutputParser() | (lambda x: x.split(\"\\n\"))"
   ]
  },
  {
   "cell_type": "markdown",
   "metadata": {},
   "source": [
    "## Question 1: Generated questions"
   ]
  },
  {
   "cell_type": "code",
   "execution_count": 44,
   "metadata": {},
   "outputs": [
    {
     "name": "stdout",
     "output_type": "stream",
     "text": [
      "\n",
      "======================================== List of generated queries for database search ========================================\n",
      "\n",
      "Original question: What are the graduation requirements for the PhD in DBOS?\n",
      "Generated query 1: What criteria must be met to complete a PhD in DBOS?  \n",
      "Generated query 2: What are the necessary steps to fulfill the graduation requirements for a PhD in DBOS?  \n",
      "Generated query 3: What qualifications are needed to graduate with a PhD in DBOS?\n"
     ]
    }
   ],
   "source": [
    "# Define an example user question.\n",
    "question = \"What are the graduation requirements for the PhD in DBOS?\"\n",
    "\n",
    "# Generate multiple queries using the multi_query_generator.\n",
    "generated_queries = multi_query_generator.invoke({\"question\":question})\n",
    "\n",
    "# Print a formatted output to display the generated queries.\n",
    "# This helps visualize how the original question has been reworded.\n",
    "print(f\"\\n{'='*40} List of generated queries for database search {'='*40}\\n\")\n",
    "print(f\"Original question: {question}\")  \n",
    "\n",
    "# Iterate over the list of generated queries and print each variation.\n",
    "for i, query in enumerate(generated_queries): \n",
    "    print(f\"Generated query {i+1}: {query}\")"
   ]
  },
  {
   "cell_type": "markdown",
   "metadata": {},
   "source": [
    "## Question 2: Generated questions"
   ]
  },
  {
   "cell_type": "code",
   "execution_count": 45,
   "metadata": {},
   "outputs": [
    {
     "name": "stdout",
     "output_type": "stream",
     "text": [
      "\n",
      "======================================== List of generated queries for database search ========================================\n",
      "\n",
      "Original question: What course should I take next semester as a new student in the MPH program?\n",
      "Generated query 1: What are the recommended courses for a first-semester student in the Master of Public Health program?  \n",
      "Generated query 2: Which classes are essential for a new student starting the MPH program next semester?  \n",
      "Generated query 3: As a new enrollee in the MPH program, what courses should I prioritize for my upcoming semester?\n"
     ]
    }
   ],
   "source": [
    "# Define an example user question.\n",
    "question2 = \"What course should I take next semester as a new student in the MPH program?\"\n",
    "\n",
    "# Generate multiple queries using the multi_query_generator.\n",
    "generated_queries2 = multi_query_generator.invoke({\"question\":question2})\n",
    "\n",
    "# Print a formatted output to display the generated queries.\n",
    "# This helps visualize how the original question has been reworded.\n",
    "print(f\"\\n{'='*40} List of generated queries for database search {'='*40}\\n\")\n",
    "print(f\"Original question: {question2}\")  \n",
    "\n",
    "# Iterate over the list of generated queries and print each variation.\n",
    "for i, query in enumerate(generated_queries2): \n",
    "    print(f\"Generated query {i+1}: {query}\")"
   ]
  },
  {
   "cell_type": "markdown",
   "metadata": {},
   "source": [
    "## Question 3: Generated questions"
   ]
  },
  {
   "cell_type": "code",
   "execution_count": 46,
   "metadata": {},
   "outputs": [
    {
     "name": "stdout",
     "output_type": "stream",
     "text": [
      "\n",
      "======================================== List of generated queries for database search ========================================\n",
      "\n",
      "Original question: If I want to do an interfiled degree between CISAT and IMS, what courses should I take?\n",
      "Generated query 1: What courses are required for an interdisciplinary degree combining CISAT and IMS?  \n",
      "Generated query 2: Which classes should I enroll in for a joint degree program between CISAT and IMS?  \n",
      "Generated query 3: What is the recommended coursework for pursuing a degree that integrates CISAT and IMS studies?\n"
     ]
    }
   ],
   "source": [
    "# Define an example user question.\n",
    "question3 = \"If I want to do an interfiled degree between CISAT and IMS, what courses should I take?\"\n",
    "\n",
    "# Generate multiple queries using the multi_query_generator.\n",
    "generated_queries3 = multi_query_generator.invoke({\"question\":question3})\n",
    "\n",
    "# Print a formatted output to display the generated queries.\n",
    "# This helps visualize how the original question has been reworded.\n",
    "print(f\"\\n{'='*40} List of generated queries for database search {'='*40}\\n\")\n",
    "print(f\"Original question: {question3}\")  \n",
    "\n",
    "# Iterate over the list of generated queries and print each variation.\n",
    "for i, query in enumerate(generated_queries3): \n",
    "    print(f\"Generated query {i+1}: {query}\")"
   ]
  },
  {
   "cell_type": "markdown",
   "metadata": {},
   "source": [
    "## Retrieval: with Rag Fusion"
   ]
  },
  {
   "cell_type": "code",
   "execution_count": 47,
   "metadata": {},
   "outputs": [],
   "source": [
    "from langchain.load import dumps, loads\n",
    "\n",
    "# Define a function to apply RFF to a list of ranked retrieval results. \n",
    "def reciprocal_rank_fusion(results: list[list], k=60):\n",
    "    \"\"\"\n",
    "    Parameters:\n",
    "    - results (list[list]): A list of ranked lists, where each sublist contains documents retrieved from different queries.\n",
    "    - k (int): A tuning parameter that prevents top-ranked documents from dominating the final ranking (default: 60).\n",
    "\n",
    "    Returns:\n",
    "    - List[Tuple[dict, float]]: A list of tuples, where each tuple contains:\n",
    "        - The document (as a dictionary)\n",
    "        - The fused score based on RRF\n",
    "      The list is sorted in descending order of the fused scores.\n",
    "    \"\"\"\n",
    "\n",
    "    fused_scores = {} # Dictionary to store the cumulative RRF scores for each document. \n",
    "\n",
    "    # Iterate through each ranked list of documents. \n",
    "    for docs in results:\n",
    "        for i, doc in enumerate(docs):\n",
    "            # Convert the document to a string format (JSON) to use as a dictionary key. \n",
    "            doc_str = dumps(doc)\n",
    "\n",
    "            # Initialize the document's fused score if not already present\n",
    "            if doc_str not in fused_scores:\n",
    "                fused_scores[doc_str] = 0\n",
    "\n",
    "            # Compute the RRF score: 1 / (rank + k) with rank starting at 1. \n",
    "            rank = i + 1  # Adjust rank to start from 1 instead of 0\n",
    "            fused_scores[doc_str] += 1 / (rank + k)\n",
    "\n",
    "    # Sort the documents based on their fused scores in descending order (higher score = higher relevance))\n",
    "    reranked_results = [\n",
    "        (loads(doc), score) # Convert JSON string back to its original document format\n",
    "        for doc, score in sorted(fused_scores.items(), key=lambda x: x[1], reverse=True)\n",
    "    ]\n",
    "\n",
    "    # Return the reranked list of documents with their fused scores\n",
    "    return reranked_results"
   ]
  },
  {
   "cell_type": "code",
   "execution_count": 48,
   "metadata": {},
   "outputs": [],
   "source": [
    "# Define a retrieval chain for RAG fusion\n",
    "retrieval_chain_rag_fusion = (\n",
    "    multi_query_generator # Generate multiple queries\n",
    "    | CGUHandbook_data_vector_store.as_retriever(\n",
    "        search_type=\"similarity\",   # Use vector similarity search to find relevant documents\n",
    "        search_kwargs={'k': 5}      # Retrieve the top 5 most relevant documents for each query\n",
    "        ).map() \n",
    "    | reciprocal_rank_fusion    # Apply (RR) to merge and re-rank retrieved documents\n",
    ")"
   ]
  },
  {
   "cell_type": "code",
   "execution_count": 49,
   "metadata": {},
   "outputs": [
    {
     "name": "stdout",
     "output_type": "stream",
     "text": [
      "\n",
      "======================================== List of reranked retrieved results ========================================\n",
      "\n",
      "Total number of results: 7\n"
     ]
    },
    {
     "name": "stderr",
     "output_type": "stream",
     "text": [
      "/var/folders/qv/_2pcj0wj46q5fgp7hmrndz2c0000gp/T/ipykernel_16076/3315101807.py:35: LangChainBetaWarning: The function `loads` is in beta. It is actively being worked on, so the API may change.\n",
      "  (loads(doc), score) # Convert JSON string back to its original document format\n"
     ]
    },
    {
     "data": {
      "text/markdown": [
       "\n",
       " **From `/Users/stephenkeyen/Documents/GENAI/Assignments/DBOS PSYCH Handbook 2023-2024 (final).pdf`, page 26**"
      ],
      "text/plain": [
       "<IPython.core.display.Markdown object>"
      ]
     },
     "metadata": {},
     "output_type": "display_data"
    },
    {
     "name": "stdout",
     "output_type": "stream",
     "text": [
      "webpage. DBOS requires the following additional specifications:  •  Acceptable dissertation research\n",
      "conducted with the approval of an advisory committee must  be submitted.  •  Dissertation committees\n",
      "must consist of at least four examiners, including one DBOS Core  Faculty member and one visiting\n",
      "examiner from outside the Claremont community. The  committee must be approved by the Dean prior to\n",
      "approval of the dissertation proposal.\n",
      "————————————————————————————————————————————————————————————————————————————————\n"
     ]
    },
    {
     "data": {
      "text/markdown": [
       "\n",
       " **From `/Users/stephenkeyen/Documents/GENAI/Assignments/DBOS PSYCH Handbook 2023-2024 (final).pdf`, page 25**"
      ],
      "text/plain": [
       "<IPython.core.display.Markdown object>"
      ]
     },
     "metadata": {},
     "output_type": "display_data"
    },
    {
     "name": "stdout",
     "output_type": "stream",
     "text": [
      "in research tools tailored to the individual needs of the student. Faculty approval of specific\n",
      "tools  and satisfactory evidence of their mastery is required within the first three years of\n",
      "graduate study.  Two research tools must be completed before taking the oral qualifying examination.\n",
      "A list of the  approved research tools is available on the DBOS internal website.    ORAL QUALIFYING\n",
      "EXAMINATION  The oral qualifying examination is intended to demonstrate the student’s ability to\n",
      "organize,\n",
      "————————————————————————————————————————————————————————————————————————————————\n"
     ]
    },
    {
     "data": {
      "text/markdown": [
       "\n",
       " **From `/Users/stephenkeyen/Documents/GENAI/Assignments/DBOS PSYCH Handbook 2023-2024 (final).pdf`, page 26**"
      ],
      "text/plain": [
       "<IPython.core.display.Markdown object>"
      ]
     },
     "metadata": {},
     "output_type": "display_data"
    },
    {
     "name": "stdout",
     "output_type": "stream",
     "text": [
      "approval by the Dean, the student is advanced to candidacy.   Final Dissertation Defense: A\n",
      "recommendation of the committee membership by the dissertation  chair and the department chair must\n",
      "be given to the DBOS Dean three weeks before the date of  the final dissertation defense. The form\n",
      "is accompanied by an abstract of the dissertation no more  than 350 words in length. All final\n",
      "dissertation defense committees in DBOS consist of at least four\n",
      "————————————————————————————————————————————————————————————————————————————————\n"
     ]
    },
    {
     "data": {
      "text/markdown": [
       "\n",
       " **From `/Users/stephenkeyen/Documents/GENAI/Assignments/DBOS PSYCH Handbook 2023-2024 (final).pdf`, page 24**"
      ],
      "text/plain": [
       "<IPython.core.display.Markdown object>"
      ]
     },
     "metadata": {},
     "output_type": "display_data"
    },
    {
     "name": "stdout",
     "output_type": "stream",
     "text": [
      "Students are required to take  an additional 24 units of  Positive Organizational  Psychology or\n",
      "related  coursework, following an  approved plan of study.  Recommended elective  courses include:\n",
      "PSYCH  350W; PSYCH 350M;  PSYCH 350Y; PSYCH 350H;  PSYCH 350PP; PSYCH  352R; PSYCH 331; PSYCH\n",
      "315CC; PSYCH 315Q;  PSYCH 357; PSYCH 352S;  and PSYCH 352V.     TEACHING OR FIELD PLACEMENT  All\n",
      "DBOS PhD students are required to take either the Field Placement Seminar with an\n",
      "————————————————————————————————————————————————————————————————————————————————\n"
     ]
    },
    {
     "data": {
      "text/markdown": [
       "\n",
       " **From `/Users/stephenkeyen/Documents/GENAI/Assignments/DBOS PSYCH Handbook 2023-2024 (final).pdf`, page 26**"
      ],
      "text/plain": [
       "<IPython.core.display.Markdown object>"
      ]
     },
     "metadata": {},
     "output_type": "display_data"
    },
    {
     "name": "stdout",
     "output_type": "stream",
     "text": [
      "DBOS Core Faculty member (the others may be drawn from the Extended Faculty). The committee  must be\n",
      "approved by the DBOS Dean prior to approval of the dissertation proposal. The procedure  is for the\n",
      "committee chair, in consultation with the student, to select two other faculty and secure  their\n",
      "agreement to be on the committee. After a draft of the dissertation has been approved by the  chair,\n",
      "a fourth committee member will be chosen from outside the Claremont Colleges.\n",
      "————————————————————————————————————————————————————————————————————————————————\n"
     ]
    },
    {
     "data": {
      "text/markdown": [
       "\n",
       " **From `/Users/stephenkeyen/Documents/GENAI/Assignments/DBOS PSYCH Handbook 2023-2024 (final).pdf`, page 26**"
      ],
      "text/plain": [
       "<IPython.core.display.Markdown object>"
      ]
     },
     "metadata": {},
     "output_type": "display_data"
    },
    {
     "name": "stdout",
     "output_type": "stream",
     "text": [
      "examination, the examining committee will have the following available for their review:  •\n",
      "Statement of professional development from the student. Guidelines and samples are  available in the\n",
      "DBOS office.  •  Current curriculum vitae from the student.  Summary of academic progress from\n",
      "department files, including portfolio and accompanying  documents. Kept in DBOS office.\n",
      "DISSERTATION  Doctoral Degree Regulations are detailed in the current Academic Bulletin and on the\n",
      "Registrar’s\n",
      "————————————————————————————————————————————————————————————————————————————————\n"
     ]
    },
    {
     "data": {
      "text/markdown": [
       "\n",
       " **From `/Users/stephenkeyen/Documents/GENAI/Assignments/DBOS PSYCH Handbook 2023-2024 (final).pdf`, page 18**"
      ],
      "text/plain": [
       "<IPython.core.display.Markdown object>"
      ]
     },
     "metadata": {},
     "output_type": "display_data"
    },
    {
     "name": "stdout",
     "output_type": "stream",
     "text": [
      "Last amended July 2023.  Master of Arts Programs  Degree Checklist  Student Name:\n",
      "_____________________________    Concentration: ___________________________  Prerequisites: All DBOS\n",
      "students are required to have prerequisite courses in the following four areas of  psychology from\n",
      "an accredited undergraduate or graduate institution. For information on qualifying  courses, see the\n",
      "DBOS Pre-req Form.  □General Methodology/Statistics □Social Psychology/Org Behavior □Cognitive\n",
      "Psychology\n",
      "————————————————————————————————————————————————————————————————————————————————\n"
     ]
    }
   ],
   "source": [
    "# Execute the retrieval chain for RAG-Fusion and get the final reranked results\n",
    "rag_fusion_results = retrieval_chain_rag_fusion.invoke({\"question\": question})\n",
    "\n",
    "# Print a formatted header for displaying the retrieved results\n",
    "print(f\"\\n{'='*40} List of reranked retrieved results {'='*40}\\n\")\n",
    "\n",
    "# Display the total number of retrieved and reranked documents\n",
    "print(f\"Total number of results: {len(rag_fusion_results)}\")\n",
    "\n",
    "# Iterate through the retrieved documents and display them in a structured format\n",
    "for i, (doc, score) in enumerate(rag_fusion_results, start=1):\n",
    "    # Display metadata: Source and page number\n",
    "    display(Markdown(f\"\\n **From `{doc.metadata['source']}`, page {doc.metadata['page']}**\"))\n",
    "\n",
    "    # Print the document content with proper text wrapping for better readability\n",
    "    print(textwrap.fill(doc.page_content, width=100)) \n",
    "\n",
    "    # Add a separator for each document\n",
    "    print(\"—\" * 80) "
   ]
  },
  {
   "cell_type": "markdown",
   "metadata": {},
   "source": [
    "## question 2: RAG fusion"
   ]
  },
  {
   "cell_type": "code",
   "execution_count": 50,
   "metadata": {},
   "outputs": [],
   "source": [
    "# Define a retrieval chain for RAG fusion\n",
    "retrieval_chain_rag_fusion2 = (\n",
    "    multi_query_generator # Generate multiple queries\n",
    "    | CGUHandbook_data_vector_store.as_retriever(\n",
    "        search_type=\"similarity\",   # Use vector similarity search to find relevant documents\n",
    "        search_kwargs={'k': 5}      # Retrieve the top 5 most relevant documents for each query\n",
    "        ).map() \n",
    "    | reciprocal_rank_fusion    # Apply (RR) to merge and re-rank retrieved documents\n",
    ")"
   ]
  },
  {
   "cell_type": "code",
   "execution_count": 51,
   "metadata": {},
   "outputs": [
    {
     "name": "stdout",
     "output_type": "stream",
     "text": [
      "\n",
      "======================================== List of reranked retrieved results ========================================\n",
      "\n",
      "Total number of results: 6\n"
     ]
    },
    {
     "data": {
      "text/markdown": [
       "\n",
       " **From `/Users/stephenkeyen/Documents/GENAI/Assignments/MPH-Student-Handbook-2023-2024.pdf`, page 30**"
      ],
      "text/plain": [
       "<IPython.core.display.Markdown object>"
      ]
     },
     "metadata": {},
     "output_type": "display_data"
    },
    {
     "name": "stdout",
     "output_type": "stream",
     "text": [
      "students enrolled in Claremont Graduate University’s Master of Public Health Program during their\n",
      "last  semester prior to graduation.   The course will draw upon students ‘prior training in the five\n",
      "core areas of public health (i.e., Social and  Behavioral Science, Biostatistics, Epidemiology,\n",
      "Health Services, and Environmental and Occupational  Health), additional required coursework in\n",
      "their specified concentration, and their real-world experience\n",
      "————————————————————————————————————————————————————————————————————————————————\n"
     ]
    },
    {
     "data": {
      "text/markdown": [
       "\n",
       " **From `/Users/stephenkeyen/Documents/GENAI/Assignments/MPH-Student-Handbook-2023-2024.pdf`, page 27**"
      ],
      "text/plain": [
       "<IPython.core.display.Markdown object>"
      ]
     },
     "metadata": {},
     "output_type": "display_data"
    },
    {
     "name": "stdout",
     "output_type": "stream",
     "text": [
      "requirements. The MPH degree requires 44 semester units, consisting of 13 courses:     •  Nine core\n",
      "courses which cover the core public health competencies and provide a foundation for  further\n",
      "coursework in a chosen concentration    •  Choice of one of three concentrations, with four courses\n",
      "required in each. Students can specialize  in (1) Health Promotion, Education and Evaluation; (2)\n",
      "Applied Biostatistics and Epidemiology;  and (3) Leadership and Management.     •\n",
      "————————————————————————————————————————————————————————————————————————————————\n"
     ]
    },
    {
     "data": {
      "text/markdown": [
       "\n",
       " **From `/Users/stephenkeyen/Documents/GENAI/Assignments/MPH-Student-Handbook-2023-2024.pdf`, page 23**"
      ],
      "text/plain": [
       "<IPython.core.display.Markdown object>"
      ]
     },
     "metadata": {},
     "output_type": "display_data"
    },
    {
     "name": "stdout",
     "output_type": "stream",
     "text": [
      "23      Foundational Knowledge and Competencies    The master’s degree in public health program uses\n",
      "a competency-based format for instruction. Each  student in the MPH program (standard and\n",
      "accelerated schedules) is expected to meet minimum  requirements for a basic set of competencies\n",
      "through prior experience, coursework, participation in  interprofessional events, applied practice\n",
      "experience (supervised field training) and integrative learning\n",
      "————————————————————————————————————————————————————————————————————————————————\n"
     ]
    },
    {
     "data": {
      "text/markdown": [
       "\n",
       " **From `/Users/stephenkeyen/Documents/GENAI/Assignments/MPH-Student-Handbook-2023-2024.pdf`, page 28**"
      ],
      "text/plain": [
       "<IPython.core.display.Markdown object>"
      ]
     },
     "metadata": {},
     "output_type": "display_data"
    },
    {
     "name": "stdout",
     "output_type": "stream",
     "text": [
      "Applied Biostatistics & Epidemiology (STEM: MPH-ABE)  CGH 312  Data Analysis (SAS)   4  CGH 313\n",
      "Research Methods   4  CGH 314  Emerging Chronic & Infectious Diseases Worldwide   4  CGH 315  GIS\n",
      "Applications in Public Health  4    Leadership & Management  CGH 316  Public Health Leadership for\n",
      "the 21st Century   4  CGH 317  Ethics, Human Rights & Cultural Diversity   4  CGH 318  Management of\n",
      "International Health Programs & Organizations   4  CGH 319  Health Advocacy  4\n",
      "————————————————————————————————————————————————————————————————————————————————\n"
     ]
    },
    {
     "data": {
      "text/markdown": [
       "\n",
       " **From `/Users/stephenkeyen/Documents/GENAI/Assignments/MPH-Student-Handbook-2023-2024.pdf`, page 27**"
      ],
      "text/plain": [
       "<IPython.core.display.Markdown object>"
      ]
     },
     "metadata": {},
     "output_type": "display_data"
    },
    {
     "name": "stdout",
     "output_type": "stream",
     "text": [
      "sponsored community-based research project, with the purpose of integrating course concepts  into a\n",
      "real-world setting.    •  An integrative learning experience whereby students demonstrate mastery of\n",
      "MPH  competencies through the creation of a professional portfolio and final paper in the public\n",
      "health  capstone course.     Core Courses      CGH 300  Theoretical Foundations in Health Promotion\n",
      "& Education   4  CGH 301  Biostatistics   4  CGH 302  Epidemiology   4  CGH 303\n",
      "————————————————————————————————————————————————————————————————————————————————\n"
     ]
    },
    {
     "data": {
      "text/markdown": [
       "\n",
       " **From `/Users/stephenkeyen/Documents/GENAI/Assignments/MPH-Student-Handbook-2023-2024.pdf`, page 37**"
      ],
      "text/plain": [
       "<IPython.core.display.Markdown object>"
      ]
     },
     "metadata": {},
     "output_type": "display_data"
    },
    {
     "name": "stdout",
     "output_type": "stream",
     "text": [
      "their role as a public health practitioner. As part of the capstone requirement, students also\n",
      "prepare a  scholarly paper-based requirements for their concentration.  Open to MPH students only.\n",
      "Prerequisite: Must meet eligibility requirements. Advisor permission required.    CGH 310 –\n",
      "Foundations of Global Health: An Interdisciplinary Approach (Fall, 4 units)  This course provides an\n",
      "interdisciplinary approach to understanding key public health challenges that\n",
      "————————————————————————————————————————————————————————————————————————————————\n"
     ]
    }
   ],
   "source": [
    "# Execute the retrieval chain for RAG-Fusion and get the final reranked results\n",
    "rag_fusion_results2 = retrieval_chain_rag_fusion2.invoke({\"question\": question2})\n",
    "\n",
    "# Print a formatted header for displaying the retrieved results\n",
    "print(f\"\\n{'='*40} List of reranked retrieved results {'='*40}\\n\")\n",
    "\n",
    "# Display the total number of retrieved and reranked documents\n",
    "print(f\"Total number of results: {len(rag_fusion_results2)}\")\n",
    "\n",
    "# Iterate through the retrieved documents and display them in a structured format\n",
    "for i, (doc, score) in enumerate(rag_fusion_results2, start=1):\n",
    "    # Display metadata: Source and page number\n",
    "    display(Markdown(f\"\\n **From `{doc.metadata['source']}`, page {doc.metadata['page']}**\"))\n",
    "\n",
    "    # Print the document content with proper text wrapping for better readability\n",
    "    print(textwrap.fill(doc.page_content, width=100)) \n",
    "\n",
    "    # Add a separator for each document\n",
    "    print(\"—\" * 80) "
   ]
  },
  {
   "cell_type": "markdown",
   "metadata": {},
   "source": [
    "## question 3: RAG fusion"
   ]
  },
  {
   "cell_type": "code",
   "execution_count": 52,
   "metadata": {},
   "outputs": [],
   "source": [
    "\n",
    "# Define retrieval chain for Book Data Vector Store\n",
    "retrieval_chain_rag_fusion_Cisat = (\n",
    "    multi_query_generator \n",
    "    | CGUHandbook_data_vector_store.as_retriever(\n",
    "        search_type=\"similarity\",   \n",
    "        search_kwargs={'k': 5}    \n",
    "    ).map()\n",
    ")\n",
    "\n",
    "# Define retrieval chain for Math Data Vector Store\n",
    "retrieval_chain_rag_fusion_math = (\n",
    "    multi_query_generator \n",
    "    | CGUHandbook_data_vector_store.as_retriever(\n",
    "        search_type=\"similarity\",   \n",
    "        search_kwargs={'k': 5}    \n",
    "    ).map()\n",
    ")"
   ]
  },
  {
   "cell_type": "code",
   "execution_count": 54,
   "metadata": {},
   "outputs": [],
   "source": [
    "# # Merge results using Reciprocal Rank Fusion (RRF)\n",
    "# final_rag_fusion_results = reciprocal_rank_fusion(rag_fusion_results_Cisat + rag_fusion_results_math)\n",
    "\n",
    "# # Select the top-ranked 6 documents after fusion\n",
    "# final_rag_fusion_results = final_rag_fusion_results[:6]"
   ]
  },
  {
   "cell_type": "code",
   "execution_count": 55,
   "metadata": {},
   "outputs": [
    {
     "name": "stdout",
     "output_type": "stream",
     "text": [
      "\n",
      "======================================== List of Re-Ranked Retrieved Results ========================================\n",
      "\n",
      "Total number of results: 6\n"
     ]
    },
    {
     "data": {
      "text/markdown": [
       "\n",
       " **From `/Users/stephenkeyen/Documents/GENAI/Assignments/2024-25 student handbook CGU Math programs.pdf`, page 2`**"
      ],
      "text/plain": [
       "<IPython.core.display.Markdown object>"
      ]
     },
     "metadata": {},
     "output_type": "display_data"
    },
    {
     "name": "stdout",
     "output_type": "stream",
     "text": [
      "Program Coordinator.    \n",
      "All IMS Master’s and PhD students must receive written approval from their faculty advisor to \n",
      "select any course outside those listed on the Graduate Math Courses List.\n",
      "————————————————————————————————————————————————————————————————————————————————\n"
     ]
    },
    {
     "data": {
      "text/markdown": [
       "\n",
       " **From `CISAT_Student_Handbook_2024-2025.pdf`, page 16`**"
      ],
      "text/plain": [
       "<IPython.core.display.Markdown object>"
      ]
     },
     "metadata": {},
     "output_type": "display_data"
    },
    {
     "name": "stdout",
     "output_type": "stream",
     "text": [
      "•  CISAT ElecTves o 12 Units (3  courses) from CISAT counts towards  the 48 units       Dual DEGREE:\n",
      "MSHI   M.S. Degree in Healthcare Innovation (Health Information Systems & Technology) -  Joint\n",
      "CISAT-SCGH Program    Total Units Required: 36  This new M.S. in Healthcare Innovation program will\n",
      "replace the M.S. in Health  Information Systems & Technology program.\n",
      "————————————————————————————————————————————————————————————————————————————————\n"
     ]
    },
    {
     "data": {
      "text/markdown": [
       "\n",
       " **From `CISAT_Student_Handbook_2024-2025.pdf`, page 13`**"
      ],
      "text/plain": [
       "<IPython.core.display.Markdown object>"
      ]
     },
     "metadata": {},
     "output_type": "display_data"
    },
    {
     "name": "stdout",
     "output_type": "stream",
     "text": [
      "program prepares students to parTcipate in the academic IS&T research community. It is a demanding\n",
      "program focused on IS&T research. Ph.D. graduates from CISAT are prepared  to conduct rigorous and\n",
      "relevant IS&T research, as well as to apply what they know about IS&T  research to teaching,\n",
      "consulTng, and other acTviTes. Total Units to Degree: 76 units* / 19 courses    REQUIREMENT\n",
      "OVERVIEW:   300-Level Core Courses (16 units)   500-Level Research Core Courses (20 units)   IST\n",
      "ConcentraTon Area (16 units / 4 courses)   IST ElecTve Courses (20 units / 4 courses)\n",
      "Transdisciplinary ElecTve (4 units / 1 course)\n",
      "————————————————————————————————————————————————————————————————————————————————\n"
     ]
    },
    {
     "data": {
      "text/markdown": [
       "\n",
       " **From `CISAT_Student_Handbook_2024-2025.pdf`, page 15`**"
      ],
      "text/plain": [
       "<IPython.core.display.Markdown object>"
      ]
     },
     "metadata": {},
     "output_type": "display_data"
    },
    {
     "name": "stdout",
     "output_type": "stream",
     "text": [
      "Tech. ElecTve Courses (8 units)  ElecTve CGU Courses (8 units)  D. Tech. Applied Research Courses\n",
      "(16 units)  24 units of approved graduate transfer credit are applied toward the D. Tech. degree\n",
      "Dual DEGREE: MSIS&T/MBA   The Master of Science in InformaTon Systems and Technology / Master of\n",
      "Business AdministraTon degree program is offered jointly by the Center for InformaTon Systems  and\n",
      "Technology and the Drucker School of Management and was created for those individuals  seeking to\n",
      "expand their knowledge in the ﬁelds of technology and management. The dual degree opTon allows you\n",
      "to earn two degrees simultaneously from expert faculty in  both areas. This program will provide you\n",
      "with an outstanding opportunity to increase your  marketability and gain a disTnct compeTTve\n",
      "advantage in the professional IS&T marketplace. PROGRAM OVERVIEW   •  19 courses, 76 units total   •\n",
      "IS&T and management coursework can be taken simultaneously   •  Provides the full scope of\n",
      "coursework offered by both schools   MSIS&T COURSES (36 UNITS)   •  Core Courses 12 Units (3\n",
      "courses) o Databases o SoŌware  Development o CommunicaTon and Networking   •  IST ConcentraTon\n",
      "Courses o 16 Units (4 courses)   •  MGT ElecTves Courses o 8 Units (2 courses)  from MGT counts\n",
      "towards the 36 units       MBA COURSES (48 UNITS)   •  Core Courses o QuanTtaTve  Methods o\n",
      "Financial AccounTng o  Strategy o OperaTons Management  o Corporate Finance o MarkeTng  Management\n",
      "o OrganizaTonal Behavior   •  MGT ElecTves o 12 Units (3 courses)\n",
      "————————————————————————————————————————————————————————————————————————————————\n"
     ]
    },
    {
     "data": {
      "text/markdown": [
       "\n",
       " **From `CISAT_Student_Handbook_2024-2025.pdf`, page 13`**"
      ],
      "text/plain": [
       "<IPython.core.display.Markdown object>"
      ]
     },
     "metadata": {},
     "output_type": "display_data"
    },
    {
     "name": "stdout",
     "output_type": "stream",
     "text": [
      "PROGRAM REQUIREMENTS      MASTER’S ACADEMIC PLAN    The MSIS degree offers a disTncTve blend of\n",
      "pracTce-based courses within a renowned  research environment. The curriculum has been designed to\n",
      "provide the technical and  managerial skills you will need to succeed in the informaTon systems and\n",
      "technologies realm. The MSIS degree provides a cuƫng-edge pornolio of concepts, skills, and\n",
      "applicaTons designed  to prepare you for the ever growing and changing demands of the IS&T industry.\n",
      "Total Units to Degree: 36 units / 9 courses   TIME TO COMPLETION:   Full-Tme: 12 to 18 months\n",
      "Part-Tme: 18 to 24 months      REQUIREMENTS   IST Core Course (12 units/ 3 courses)   IST\n",
      "ConcentraTon Area (12 units / 3 courses)   IST ElecTves or Another ConcentraTon Area (12 units / 3\n",
      "course)            Ph.D. ACADEMIC PLAN   Our Ph.D.\n",
      "————————————————————————————————————————————————————————————————————————————————\n"
     ]
    },
    {
     "data": {
      "text/markdown": [
       "\n",
       " **From `CISAT_Student_Handbook_2024-2025.pdf`, page 48`**"
      ],
      "text/plain": [
       "<IPython.core.display.Markdown object>"
      ]
     },
     "metadata": {},
     "output_type": "display_data"
    },
    {
     "name": "stdout",
     "output_type": "stream",
     "text": [
      "\n",
      "————————————————————————————————————————————————————————————————————————————————\n"
     ]
    }
   ],
   "source": [
    "\n",
    "# Print formatted header\n",
    "print(f\"\\n{'='*40} List of Re-Ranked Retrieved Results {'='*40}\\n\")\n",
    "\n",
    "# Display total number of results\n",
    "print(f\"Total number of results: {len(final_rag_fusion_results)}\")\n",
    "\n",
    "# Iterate through the results and display them\n",
    "for i, (doc, score) in enumerate(final_rag_fusion_results, start=1):\n",
    "    # Display metadata: Source and page number\n",
    "    display(Markdown(f\"\\n **From `{doc.metadata.get('source', 'Unknown')}`, page {doc.metadata.get('page', 'N/A')}`**\"))\n",
    "\n",
    "    # Print document content with proper formatting\n",
    "    print(textwrap.fill(doc.page_content, width=100)) \n",
    "\n",
    "    # Add a separator\n",
    "    print(\"—\" * 80)\n",
    "\n",
    "\n"
   ]
  },
  {
   "cell_type": "markdown",
   "metadata": {},
   "source": [
    "## RAG Fusion with MMR "
   ]
  },
  {
   "cell_type": "code",
   "execution_count": 56,
   "metadata": {},
   "outputs": [],
   "source": [
    "# Defining a retrieval chain for MMR with RAG-fusion\n",
    "retrieval_chain_rag_fusion_mmr = (\n",
    "    multi_query_generator \n",
    "    | CGUHandbook_data_vector_store.as_retriever(\n",
    "        search_type=\"mmr\", # Use MMR retrieval to enhance diversity in retrieved documents\n",
    "        search_kwargs={\n",
    "            'k': 5,         # Return the top 5 most relevant and diverse documents\n",
    "            # Set `fetch_k` to be 2-5 times larger than `k` to give the MMR algorithm enough options to find diverse yet relevant documents.\n",
    "            'fetch_k': 25,  # Initially retrieve 25 candidate documents before filtering them down\n",
    "            \"lambda_mult\": 0.5 # A balanced approach. \n",
    "            }\n",
    "            ).map() # fetch 25 documents for mmr with lambda_mult=0.5, but only return 5 documents    \n",
    "    | reciprocal_rank_fusion # rerank the documents using the reciprocal rank fusion algorithm\n",
    ")"
   ]
  },
  {
   "cell_type": "code",
   "execution_count": 57,
   "metadata": {},
   "outputs": [
    {
     "name": "stdout",
     "output_type": "stream",
     "text": [
      "\n",
      "======================================== List of reranked retrieved results using MMR ========================================\n",
      "\n",
      "Total number of results: 8\n"
     ]
    },
    {
     "data": {
      "text/markdown": [
       "\n",
       " **From `/Users/stephenkeyen/Documents/GENAI/Assignments/DBOS PSYCH Handbook 2023-2024 (final).pdf`, page 26**"
      ],
      "text/plain": [
       "<IPython.core.display.Markdown object>"
      ]
     },
     "metadata": {},
     "output_type": "display_data"
    },
    {
     "name": "stdout",
     "output_type": "stream",
     "text": [
      "webpage. DBOS requires the following additional specifications:  •  Acceptable dissertation research\n",
      "conducted with the approval of an advisory committee must  be submitted.  •  Dissertation committees\n",
      "must consist of at least four examiners, including one DBOS Core  Faculty member and one visiting\n",
      "examiner from outside the Claremont community. The  committee must be approved by the Dean prior to\n",
      "approval of the dissertation proposal.\n",
      "————————————————————————————————————————————————————————————————————————————————\n"
     ]
    },
    {
     "data": {
      "text/markdown": [
       "\n",
       " **From `/Users/stephenkeyen/Documents/GENAI/Assignments/DBOS PSYCH Handbook 2023-2024 (final).pdf`, page 21**"
      ],
      "text/plain": [
       "<IPython.core.display.Markdown object>"
      ]
     },
     "metadata": {},
     "output_type": "display_data"
    },
    {
     "name": "stdout",
     "output_type": "stream",
     "text": [
      "20   PHD PSYCHOLOGY PROGRAM  The doctoral program in Psychology prepares students for scholarly\n",
      "careers and for leadership  roles in a variety of organizations. Study is organized around six\n",
      "defined major areas:  APPLIED COGNITIVE PSYCHOLOGY  APPLIED SOCIAL PSYCHOLOGY  EVALUATION AND\n",
      "APPLIED   RESEARCH METHODS  ORGANIZATIONAL BEHAVIOR  POSITIVE DEVELOPMENTAL PSYCHOLOGY  POSITIVE\n",
      "ORGANIZATIONAL PSYCHOLOGY    SUMMARY OF STEPS IN THE PSYCHOLOGY PHD PROGRAM  UNIT REQUIREMENTS\n",
      "————————————————————————————————————————————————————————————————————————————————\n"
     ]
    },
    {
     "data": {
      "text/markdown": [
       "\n",
       " **From `/Users/stephenkeyen/Documents/GENAI/Assignments/DBOS PSYCH Handbook 2023-2024 (final).pdf`, page 29**"
      ],
      "text/plain": [
       "<IPython.core.display.Markdown object>"
      ]
     },
     "metadata": {},
     "output_type": "display_data"
    },
    {
     "name": "stdout",
     "output_type": "stream",
     "text": [
      "Degree awarded (Congratulations!)  Possible Dissertation completion    By the end of the fifth year:\n",
      "Dissertation complete    Degree awarded (Congratulations!)\n",
      "————————————————————————————————————————————————————————————————————————————————\n"
     ]
    },
    {
     "data": {
      "text/markdown": [
       "\n",
       " **From `/Users/stephenkeyen/Documents/GENAI/Assignments/DBOS PSYCH Handbook 2023-2024 (final).pdf`, page 25**"
      ],
      "text/plain": [
       "<IPython.core.display.Markdown object>"
      ]
     },
     "metadata": {},
     "output_type": "display_data"
    },
    {
     "name": "stdout",
     "output_type": "stream",
     "text": [
      "integrate, and evaluate knowledge in an area of concentration. The following requirements must  be\n",
      "met before a student is permitted to take the oral qualifying examination:  •  Completion of\n",
      "coursework  •  Completion of all portfolio items  •  Completion of residency  •  Completion of not\n",
      "less than two years of full-time graduate study (48 units) or their equivalent  (including the\n",
      "period for which transfer credit was received).\n",
      "————————————————————————————————————————————————————————————————————————————————\n"
     ]
    },
    {
     "data": {
      "text/markdown": [
       "\n",
       " **From `/Users/stephenkeyen/Documents/GENAI/Assignments/DBOS PSYCH Handbook 2023-2024 (final).pdf`, page 10**"
      ],
      "text/plain": [
       "<IPython.core.display.Markdown object>"
      ]
     },
     "metadata": {},
     "output_type": "display_data"
    },
    {
     "name": "stdout",
     "output_type": "stream",
     "text": [
      "students need to prioritize continuous research progress as well. Specifically, planning well in\n",
      "advance for research project and thesis deadlines is important for your continuing success in the\n",
      "program. We recommended regularly being in contact with your advisor and committee to make  sure you\n",
      "are on track.    STUDENT PROGRESS EVALUATION PROCEDURE  DBOS faculty meet at the end of each\n",
      "semester to review the academic performance and progress\n",
      "————————————————————————————————————————————————————————————————————————————————\n"
     ]
    },
    {
     "data": {
      "text/markdown": [
       "\n",
       " **From `/Users/stephenkeyen/Documents/GENAI/Assignments/DBOS PSYCH Handbook 2023-2024 (final).pdf`, page 20**"
      ],
      "text/plain": [
       "<IPython.core.display.Markdown object>"
      ]
     },
     "metadata": {},
     "output_type": "display_data"
    },
    {
     "name": "stdout",
     "output_type": "stream",
     "text": [
      "•  Adjustment and transition to graduate school   •  Accommodations for disabilities   •  Discussion\n",
      "of prerequisite requirements   •  Course selection relevance to goals   •  Progress on non-\n",
      "coursework activities, such as research or professional development   •  Career goals & internship\n",
      "or job options    DBOS ADVISING & REGISTRATION GUIDE  Administrative Staff have created the DBOS\n",
      "Advising & Registration Guide on SharePoint to\n",
      "————————————————————————————————————————————————————————————————————————————————\n"
     ]
    },
    {
     "data": {
      "text/markdown": [
       "\n",
       " **From `/Users/stephenkeyen/Documents/GENAI/Assignments/DBOS PSYCH Handbook 2023-2024 (final).pdf`, page 27**"
      ],
      "text/plain": [
       "<IPython.core.display.Markdown object>"
      ]
     },
     "metadata": {},
     "output_type": "display_data"
    },
    {
     "name": "stdout",
     "output_type": "stream",
     "text": [
      "you complete your master's thesis at CGU, the department ordinarily will schedule you for a  program\n",
      "and portfolio planning meeting with a faculty committee to formalize an individualized plan  for\n",
      "completing your PhD program. By that time, you are not only expected to be informed about  program\n",
      "requirements and deadlines, but to have realistic plans about how you will meet those  requirements.\n",
      "————————————————————————————————————————————————————————————————————————————————\n"
     ]
    },
    {
     "data": {
      "text/markdown": [
       "\n",
       " **From `/Users/stephenkeyen/Documents/GENAI/Assignments/DBOS PSYCH Handbook 2023-2024 (final).pdf`, page 3**"
      ],
      "text/plain": [
       "<IPython.core.display.Markdown object>"
      ]
     },
     "metadata": {},
     "output_type": "display_data"
    },
    {
     "name": "stdout",
     "output_type": "stream",
     "text": [
      "are available in the 2023-2024 Academic Bulletin and the DBOS SharePoint website. It is our hope\n",
      "that you consult these resources often.     We think you will find our programs offer a unique\n",
      "combination of elements that make your graduate  studies stimulating and rewarding. Its\n",
      "distinctiveness comes from the blending of apparent  contradictions: the curriculum allows students\n",
      "to tailor their graduate program to their own individual\n",
      "————————————————————————————————————————————————————————————————————————————————\n"
     ]
    }
   ],
   "source": [
    "# Execute the retrieval chain for RAG-Fusion with MMR and get the final re-ranked results\n",
    "rag_fusion_mmr_results = retrieval_chain_rag_fusion_mmr.invoke({\"question\": question})\n",
    "\n",
    "print(f\"\\n{'='*40} List of reranked retrieved results using MMR {'='*40}\\n\")\n",
    "\n",
    "print(f\"Total number of results: {len(rag_fusion_mmr_results)}\")\n",
    "\n",
    "for i, (doc, score) in enumerate(rag_fusion_mmr_results, start=1):\n",
    "    display(Markdown(f\"\\n **From `{doc.metadata['source']}`, page {doc.metadata['page']}**\"))\n",
    "\n",
    "    print(textwrap.fill(doc.page_content, width=100)) \n",
    "    \n",
    "    print(\"—\" * 80) "
   ]
  },
  {
   "cell_type": "markdown",
   "metadata": {},
   "source": [
    "## MMR: Question 2"
   ]
  },
  {
   "cell_type": "code",
   "execution_count": 58,
   "metadata": {},
   "outputs": [],
   "source": [
    "retrieval_chain_rag_fusion_mmr2 = (\n",
    "    multi_query_generator \n",
    "    | CGUHandbook_data_vector_store.as_retriever(\n",
    "        search_type=\"mmr\", # Use MMR retrieval to enhance diversity in retrieved documents\n",
    "        search_kwargs={\n",
    "            'k': 5,         # Return the top 5 most relevant and diverse documents\n",
    "            # Set `fetch_k` to be 2-5 times larger than `k` to give the MMR algorithm enough options to find diverse yet relevant documents.\n",
    "            'fetch_k': 25,  # Initially retrieve 25 candidate documents before filtering them down\n",
    "            \"lambda_mult\": 0.5 # A balanced approach. \n",
    "            }\n",
    "            ).map() # fetch 25 documents for mmr with lambda_mult=0.5, but only return 5 documents    \n",
    "    | reciprocal_rank_fusion # rerank the documents using the reciprocal rank fusion algorithm\n",
    ")"
   ]
  },
  {
   "cell_type": "code",
   "execution_count": 59,
   "metadata": {},
   "outputs": [
    {
     "name": "stdout",
     "output_type": "stream",
     "text": [
      "\n",
      "======================================== List of reranked retrieved results using MMR ========================================\n",
      "\n",
      "Total number of results: 14\n"
     ]
    },
    {
     "data": {
      "text/markdown": [
       "\n",
       " **From `/Users/stephenkeyen/Documents/GENAI/Assignments/MPH-Student-Handbook-2023-2024.pdf`, page 30**"
      ],
      "text/plain": [
       "<IPython.core.display.Markdown object>"
      ]
     },
     "metadata": {},
     "output_type": "display_data"
    },
    {
     "name": "stdout",
     "output_type": "stream",
     "text": [
      "students enrolled in Claremont Graduate University’s Master of Public Health Program during their\n",
      "last  semester prior to graduation.   The course will draw upon students ‘prior training in the five\n",
      "core areas of public health (i.e., Social and  Behavioral Science, Biostatistics, Epidemiology,\n",
      "Health Services, and Environmental and Occupational  Health), additional required coursework in\n",
      "their specified concentration, and their real-world experience\n",
      "————————————————————————————————————————————————————————————————————————————————\n"
     ]
    },
    {
     "data": {
      "text/markdown": [
       "\n",
       " **From `/Users/stephenkeyen/Documents/GENAI/Assignments/MPH-Student-Handbook-2023-2024.pdf`, page 23**"
      ],
      "text/plain": [
       "<IPython.core.display.Markdown object>"
      ]
     },
     "metadata": {},
     "output_type": "display_data"
    },
    {
     "name": "stdout",
     "output_type": "stream",
     "text": [
      "23      Foundational Knowledge and Competencies    The master’s degree in public health program uses\n",
      "a competency-based format for instruction. Each  student in the MPH program (standard and\n",
      "accelerated schedules) is expected to meet minimum  requirements for a basic set of competencies\n",
      "through prior experience, coursework, participation in  interprofessional events, applied practice\n",
      "experience (supervised field training) and integrative learning\n",
      "————————————————————————————————————————————————————————————————————————————————\n"
     ]
    },
    {
     "data": {
      "text/markdown": [
       "\n",
       " **From `/Users/stephenkeyen/Documents/GENAI/Assignments/MPH-Student-Handbook-2023-2024.pdf`, page 27**"
      ],
      "text/plain": [
       "<IPython.core.display.Markdown object>"
      ]
     },
     "metadata": {},
     "output_type": "display_data"
    },
    {
     "name": "stdout",
     "output_type": "stream",
     "text": [
      "requirements. The MPH degree requires 44 semester units, consisting of 13 courses:     •  Nine core\n",
      "courses which cover the core public health competencies and provide a foundation for  further\n",
      "coursework in a chosen concentration    •  Choice of one of three concentrations, with four courses\n",
      "required in each. Students can specialize  in (1) Health Promotion, Education and Evaluation; (2)\n",
      "Applied Biostatistics and Epidemiology;  and (3) Leadership and Management.     •\n",
      "————————————————————————————————————————————————————————————————————————————————\n"
     ]
    },
    {
     "data": {
      "text/markdown": [
       "\n",
       " **From `/Users/stephenkeyen/Documents/GENAI/Assignments/MPH-Student-Handbook-2023-2024.pdf`, page 28**"
      ],
      "text/plain": [
       "<IPython.core.display.Markdown object>"
      ]
     },
     "metadata": {},
     "output_type": "display_data"
    },
    {
     "name": "stdout",
     "output_type": "stream",
     "text": [
      "Applied Biostatistics & Epidemiology (STEM: MPH-ABE)  CGH 312  Data Analysis (SAS)   4  CGH 313\n",
      "Research Methods   4  CGH 314  Emerging Chronic & Infectious Diseases Worldwide   4  CGH 315  GIS\n",
      "Applications in Public Health  4    Leadership & Management  CGH 316  Public Health Leadership for\n",
      "the 21st Century   4  CGH 317  Ethics, Human Rights & Cultural Diversity   4  CGH 318  Management of\n",
      "International Health Programs & Organizations   4  CGH 319  Health Advocacy  4\n",
      "————————————————————————————————————————————————————————————————————————————————\n"
     ]
    },
    {
     "data": {
      "text/markdown": [
       "\n",
       " **From `/Users/stephenkeyen/Documents/GENAI/Assignments/MPH-Student-Handbook-2023-2024.pdf`, page 37**"
      ],
      "text/plain": [
       "<IPython.core.display.Markdown object>"
      ]
     },
     "metadata": {},
     "output_type": "display_data"
    },
    {
     "name": "stdout",
     "output_type": "stream",
     "text": [
      "Concentration in Health Promotion, Education & Evaluation    CGH 308 – Foundations of Program\n",
      "Planning. (Fall or Spring, 4 units)  This course introduces the core concepts, values, and methods\n",
      "of public health program planning and\n",
      "————————————————————————————————————————————————————————————————————————————————\n"
     ]
    },
    {
     "data": {
      "text/markdown": [
       "\n",
       " **From `/Users/stephenkeyen/Documents/GENAI/Assignments/MPH-Student-Handbook-2023-2024.pdf`, page 27**"
      ],
      "text/plain": [
       "<IPython.core.display.Markdown object>"
      ]
     },
     "metadata": {},
     "output_type": "display_data"
    },
    {
     "name": "stdout",
     "output_type": "stream",
     "text": [
      "27      MPH Curriculum    The Master of Public Health degree is the most widely recognized\n",
      "professional credential for leadership  in public health. The MPH program is designed for motivated\n",
      "students and professionals interested in the  application of health promotion and disease prevention\n",
      "technologies and interventions designed to  improve and enhance the quality of life. The standard\n",
      "MPH program typically spans two years (full-time).\n",
      "————————————————————————————————————————————————————————————————————————————————\n"
     ]
    },
    {
     "data": {
      "text/markdown": [
       "\n",
       " **From `/Users/stephenkeyen/Documents/GENAI/Assignments/MPH-Student-Handbook-2023-2024.pdf`, page 3**"
      ],
      "text/plain": [
       "<IPython.core.display.Markdown object>"
      ]
     },
     "metadata": {},
     "output_type": "display_data"
    },
    {
     "name": "stdout",
     "output_type": "stream",
     "text": [
      "regulations stipulated by the MPH program and the university. If you have any questions regarding\n",
      "these  requirements or policies, please do not hesitate to contact your academic advisor.\n",
      "Darleen Peterson, PhD, MPH, MA, MCHES  Professor of Practice  Senior Associate Dean for Academic\n",
      "Affairs  Director, Certificates and MPH Programs  Co-Director, Positive Health Psychology Program\n",
      "Co-Director, Health Information Systems & Technology Program    Bree Hemingway, PhD, MPH, CHES\n",
      "————————————————————————————————————————————————————————————————————————————————\n"
     ]
    },
    {
     "data": {
      "text/markdown": [
       "\n",
       " **From `/Users/stephenkeyen/Documents/GENAI/Assignments/MPH-Student-Handbook-2023-2024.pdf`, page 3**"
      ],
      "text/plain": [
       "<IPython.core.display.Markdown object>"
      ]
     },
     "metadata": {},
     "output_type": "display_data"
    },
    {
     "name": "stdout",
     "output_type": "stream",
     "text": [
      "3      Handbook Overview    Welcome to the MPH program at Claremont Graduate University! You are\n",
      "beginning a rewarding  educational experience that will prepare you for an important role in\n",
      "promoting and protecting the  public’s health.   This Handbook is designed to assist you in\n",
      "understanding and applying the policies, procedures, and  guidelines specific to the MPH program in\n",
      "the School of Community & Global Health. It supplements and\n",
      "————————————————————————————————————————————————————————————————————————————————\n"
     ]
    },
    {
     "data": {
      "text/markdown": [
       "\n",
       " **From `/Users/stephenkeyen/Documents/GENAI/Assignments/MPH-Student-Handbook-2023-2024.pdf`, page 1**"
      ],
      "text/plain": [
       "<IPython.core.display.Markdown object>"
      ]
     },
     "metadata": {},
     "output_type": "display_data"
    },
    {
     "name": "stdout",
     "output_type": "stream",
     "text": [
      "1                                      Student Handbook  Master of Public Health Programs Standard &\n",
      "Accelerated 2023 - 2024\n",
      "————————————————————————————————————————————————————————————————————————————————\n"
     ]
    },
    {
     "data": {
      "text/markdown": [
       "\n",
       " **From `/Users/stephenkeyen/Documents/GENAI/Assignments/MPH-Student-Handbook-2023-2024.pdf`, page 41**"
      ],
      "text/plain": [
       "<IPython.core.display.Markdown object>"
      ]
     },
     "metadata": {},
     "output_type": "display_data"
    },
    {
     "name": "stdout",
     "output_type": "stream",
     "text": [
      "DO Students may enter the program in their first or second year of medical school. Students may\n",
      "pursue  any of the three MPH concentrations and complete the program in three or four years.\n",
      "————————————————————————————————————————————————————————————————————————————————\n"
     ]
    },
    {
     "data": {
      "text/markdown": [
       "\n",
       " **From `/Users/stephenkeyen/Documents/GENAI/Assignments/MPH-Student-Handbook-2023-2024.pdf`, page 23**"
      ],
      "text/plain": [
       "<IPython.core.display.Markdown object>"
      ]
     },
     "metadata": {},
     "output_type": "display_data"
    },
    {
     "name": "stdout",
     "output_type": "stream",
     "text": [
      "List major causes and trends of morbidity and mortality in the  US or other community relevant to\n",
      "the school or program  FK-MPH 5  Discuss the science of primary, secondary and tertiary  prevention\n",
      "in population, including health promotion,  screening  FK-MPH 6  Explain the critical importance of\n",
      "evidence in advancing public  health  FK-MPH7  Factors Related to Human  Health  Explain effects of\n",
      "environmental factors on a population’s  health  FK-MPH 8\n",
      "————————————————————————————————————————————————————————————————————————————————\n"
     ]
    },
    {
     "data": {
      "text/markdown": [
       "\n",
       " **From `/Users/stephenkeyen/Documents/GENAI/Assignments/MPH-Student-Handbook-2023-2024.pdf`, page 24**"
      ],
      "text/plain": [
       "<IPython.core.display.Markdown object>"
      ]
     },
     "metadata": {},
     "output_type": "display_data"
    },
    {
     "name": "stdout",
     "output_type": "stream",
     "text": [
      "programs  FC-MPH 9  Design a population-based policy, program, project or  intervention  FC-MPH 10\n",
      "Explain basic principles and tools of budget and resource  management  FC-MPH 11  Select methods to\n",
      "evaluate public health programs  FC-MPH 12  Policy in Public Health  Discuss multiple dimensions of\n",
      "the policy-making process,  including the role of ethics and evidence  FC-MPH 13  Propose strategies\n",
      "to identify stakeholders and build  coalitions and partnerships for influencing public health\n",
      "outcomes\n",
      "————————————————————————————————————————————————————————————————————————————————\n"
     ]
    },
    {
     "data": {
      "text/markdown": [
       "\n",
       " **From `/Users/stephenkeyen/Documents/GENAI/Assignments/MPH-Student-Handbook-2023-2024.pdf`, page 36**"
      ],
      "text/plain": [
       "<IPython.core.display.Markdown object>"
      ]
     },
     "metadata": {},
     "output_type": "display_data"
    },
    {
     "name": "stdout",
     "output_type": "stream",
     "text": [
      "community, institutional and policy levels. The course features guest appearances by representatives\n",
      "from  community-based organizations who relate course material to current challenges in public\n",
      "health practice.    CGH 301 – Biostatistics (Fall/Spring, 4 units)  Students are trained in the most\n",
      "used statistical methods in clinical and experimental research. Students  learn to select the most\n",
      "appropriate data analytic methods; how to apply these methods to actual data;\n",
      "————————————————————————————————————————————————————————————————————————————————\n"
     ]
    },
    {
     "data": {
      "text/markdown": [
       "\n",
       " **From `/Users/stephenkeyen/Documents/GENAI/Assignments/MPH-Student-Handbook-2023-2024.pdf`, page 39**"
      ],
      "text/plain": [
       "<IPython.core.display.Markdown object>"
      ]
     },
     "metadata": {},
     "output_type": "display_data"
    },
    {
     "name": "stdout",
     "output_type": "stream",
     "text": [
      "39      emphasized. Necessary tools for applying epidemiologic approaches to chronic disease\n",
      "prevention are  provided. The course will also cover topics in microbiology, immunology, laboratory\n",
      "diagnosis, outbreak  investigation, infectious disease diagnosis and control in populations and very\n",
      "basic analytic methods. It  provides students with exposure to local public health department\n",
      "experts with knowledge on topics such  as vector control, emerging infections and bioterrorism.\n",
      "Prerequisite: CGH 302\n",
      "————————————————————————————————————————————————————————————————————————————————\n"
     ]
    }
   ],
   "source": [
    "# Execute the retrieval chain for RAG-Fusion with MMR and get the final re-ranked results\n",
    "rag_fusion_mmr_results2 = retrieval_chain_rag_fusion_mmr2.invoke({\"question\": question2})\n",
    "\n",
    "print(f\"\\n{'='*40} List of reranked retrieved results using MMR {'='*40}\\n\")\n",
    "\n",
    "print(f\"Total number of results: {len(rag_fusion_mmr_results2)}\")\n",
    "\n",
    "for i, (doc, score) in enumerate(rag_fusion_mmr_results2, start=1):\n",
    "    display(Markdown(f\"\\n **From `{doc.metadata['source']}`, page {doc.metadata['page']}**\"))\n",
    "\n",
    "    print(textwrap.fill(doc.page_content, width=100)) \n",
    "    \n",
    "    print(\"—\" * 80) "
   ]
  },
  {
   "cell_type": "markdown",
   "metadata": {},
   "source": [
    "## MMR: Question 3"
   ]
  },
  {
   "cell_type": "code",
   "execution_count": 60,
   "metadata": {},
   "outputs": [],
   "source": [
    "retrieval_chain_rag_fusion_mmr_Cisat = (\n",
    "    multi_query_generator \n",
    "    | CGUHandbook_data_vector_store.as_retriever(\n",
    "        search_type=\"mmr\", # Use MMR retrieval to enhance diversity in retrieved documents\n",
    "        search_kwargs={\n",
    "            'k': 5,         # Return the top 5 most relevant and diverse documents\n",
    "            # Set `fetch_k` to be 2-5 times larger than `k` to give the MMR algorithm enough options to find diverse yet relevant documents.\n",
    "            'fetch_k': 25,  # Initially retrieve 25 candidate documents before filtering them down\n",
    "            \"lambda_mult\": 0.5 # A balanced approach. \n",
    "            }\n",
    "            ).map() # fetch 25 documents for mmr with lambda_mult=0.5, but only return 5 documents    \n",
    "    | reciprocal_rank_fusion # rerank the documents using the reciprocal rank fusion algorithm\n",
    ")\n",
    "retrieval_chain_rag_fusion_mmr_math = (\n",
    "    multi_query_generator \n",
    "    | CGUHandbook_data_vector_store.as_retriever(\n",
    "        search_type=\"mmr\", # Use MMR retrieval to enhance diversity in retrieved documents\n",
    "        search_kwargs={\n",
    "            'k': 5,         # Return the top 5 most relevant and diverse documents\n",
    "            # Set `fetch_k` to be 2-5 times larger than `k` to give the MMR algorithm enough options to find diverse yet relevant documents.\n",
    "            'fetch_k': 25,  # Initially retrieve 25 candidate documents before filtering them down\n",
    "            \"lambda_mult\": 0.5 # A balanced approach. \n",
    "            }\n",
    "            ).map() # fetch 25 documents for mmr with lambda_mult=0.5, but only return 5 documents    \n",
    "    | reciprocal_rank_fusion # rerank the documents using the reciprocal rank fusion algorithm\n",
    ")"
   ]
  },
  {
   "cell_type": "code",
   "execution_count": 61,
   "metadata": {},
   "outputs": [
    {
     "name": "stdout",
     "output_type": "stream",
     "text": [
      "\n",
      "======================================== List of reranked retrieved results using MMR ========================================\n",
      "\n",
      "Total number of results: 6\n"
     ]
    },
    {
     "data": {
      "text/markdown": [
       "\n",
       " **From `CISAT_Student_Handbook_2024-2025.pdf`, page 13**"
      ],
      "text/plain": [
       "<IPython.core.display.Markdown object>"
      ]
     },
     "metadata": {},
     "output_type": "display_data"
    },
    {
     "name": "stdout",
     "output_type": "stream",
     "text": [
      "program prepares students to parTcipate in the academic IS&T research community. It is a demanding\n",
      "program focused on IS&T research. Ph.D. graduates from CISAT are prepared  to conduct rigorous and\n",
      "relevant IS&T research, as well as to apply what they know about IS&T  research to teaching,\n",
      "consulTng, and other acTviTes. Total Units to Degree: 76 units* / 19 courses    REQUIREMENT\n",
      "OVERVIEW:   300-Level Core Courses (16 units)   500-Level Research Core Courses (20 units)   IST\n",
      "ConcentraTon Area (16 units / 4 courses)   IST ElecTve Courses (20 units / 4 courses)\n",
      "Transdisciplinary ElecTve (4 units / 1 course)\n",
      "————————————————————————————————————————————————————————————————————————————————\n"
     ]
    },
    {
     "data": {
      "text/markdown": [
       "\n",
       " **From `CISAT_Student_Handbook_2024-2025.pdf`, page 16**"
      ],
      "text/plain": [
       "<IPython.core.display.Markdown object>"
      ]
     },
     "metadata": {},
     "output_type": "display_data"
    },
    {
     "name": "stdout",
     "output_type": "stream",
     "text": [
      "It will commence from Fall semester 2024. Program Overview:  The Center for InformaTon Systems and\n",
      "Technology (CISAT) along with the School of  Community and Global Health (SCGH) of Claremont\n",
      "Graduate University offer an  interﬁled Master’s Degree Program in Healthcare InnovaTon (formerly:\n",
      "Health  InformaTon Systems & Technology). This degree will train and educate students to be\n",
      "thinkers, innovators and leaders who will drive and shape the future of public health  innovaTon for\n",
      "the coming foreseeable future. The program provides students with the  concepts, methods, tools, and\n",
      "skills needed to innovate, develop, manage, and support  informaTon technology systems in public\n",
      "health, and to work in a variety of health IT  posiTons. Degree Requirements:  Coursework: The\n",
      "36-unit program includes:   Core – 16 units (Choose Any 4 courses)  •  IST 380 Introduction to\n",
      "Health Informatics (4 units)  •  CGH 301 Biostatistics (4 units)\n",
      "————————————————————————————————————————————————————————————————————————————————\n"
     ]
    },
    {
     "data": {
      "text/markdown": [
       "\n",
       " **From `CISAT_Student_Handbook_2024-2025.pdf`, page 1**"
      ],
      "text/plain": [
       "<IPython.core.display.Markdown object>"
      ]
     },
     "metadata": {},
     "output_type": "display_data"
    },
    {
     "name": "stdout",
     "output_type": "stream",
     "text": [
      "CISAT Student Handbook\n",
      "————————————————————————————————————————————————————————————————————————————————\n"
     ]
    },
    {
     "data": {
      "text/markdown": [
       "\n",
       " **From `CISAT_Student_Handbook_2024-2025.pdf`, page 7**"
      ],
      "text/plain": [
       "<IPython.core.display.Markdown object>"
      ]
     },
     "metadata": {},
     "output_type": "display_data"
    },
    {
     "name": "stdout",
     "output_type": "stream",
     "text": [
      "For any assistance with registraTon, students can reach out to the program coordinator. COURSE\n",
      "MODALITIES  CISAT has several course modality opTons degree opTons including in-person, online,\n",
      "hybrid  and hybrid ﬂexible. Please see the chart below for informaTon on what each modality means.\n",
      "InternaTonal students should always have at least 4 units of in-person or hybrid courses (with  51%\n",
      "of the course being offered in person)    Instruction Mode  Description  In-Person  All\n",
      "instructional time occurs during face-to-face, synchronous  meetings on-campus or another location.\n",
      "Hybrid  Instructional time includes in-person meetings and online  meetings/activities which may be\n",
      "synchronous, asynchronous or a  combination of both. Students are expected to attend class\n",
      "according to the scheduled modality. Hybrid-Flexible  (HyFlex)  All synchronous instructional time\n",
      "occurs in-person and online  simultaneously. Students can choose to attend synchronous  sessions in-\n",
      "person or online. Course may include both  synchronous and asynchronous instructional content.\n",
      "Online  All instructional time occurs online as synchronous meetings,  asynchronous engagement, or a\n",
      "combination of both. Supervision  No class meetings or shared instructional activity. Used for\n",
      "internships, field placements, etc.\n",
      "————————————————————————————————————————————————————————————————————————————————\n"
     ]
    },
    {
     "data": {
      "text/markdown": [
       "\n",
       " **From `CISAT_Student_Handbook_2024-2025.pdf`, page 23**"
      ],
      "text/plain": [
       "<IPython.core.display.Markdown object>"
      ]
     },
     "metadata": {},
     "output_type": "display_data"
    },
    {
     "name": "stdout",
     "output_type": "stream",
     "text": [
      "While cyberspace is being threatened each passing day, the gap in cybersecurity workforce  keeps\n",
      "increasing. To address the shortage of cybersecurity professionals, there is the need to  create a\n",
      "strong pipeline of future cybersecurity leaders. This entails developing programs to  prepare and\n",
      "train cybersecurity professionals with standardized roles in the cybersecurity  workforce. The\n",
      "Cybersecurity EssenTals Series introduces students to various career paths in  cybersecurity,\n",
      "speciﬁcally in the areas of Network Defense, Ethical Hacking, and Digital  Forensics. The purpose is\n",
      "to provide students with the baseline knowledge, as well as the  essenTal cybersecurity skills and\n",
      "abiliTes to advance and expand their cybersecurity career  paths in the areas of their choice.\n",
      "Students will have access to learning resources including  eBooks, video lectures/demos, extensive\n",
      "hands-on labs, and pracTce exams for cerTﬁcaTons. IST 360 Internet of Things: A Hands-on Approach\n",
      "This is the ﬁrst of a two-course sequence on the Internet of Things (IoT) and it is aimed at\n",
      "introducing the general concepts and architecture of IoT applicaTons, the technologies involved,  as\n",
      "well as IoT development kits including Arduino, Single Board Computers (SBC), smartphones,  and how\n",
      "to run code on them. Students will do several hands-on exercises that will prepare  them towards\n",
      "developing IoT applicaTons that meet business and individual needs. There will  also be a major\n",
      "group/individual project on IoT. IST 361 AI Enhanced IoT: Future-Prooﬁng CriTcal Infrastructures\n",
      "This is the second in a series of IoT courses with a focus on Industrial Control Systems (ICS). The\n",
      "main objecTve is to help students acquire skills and experiences they can employ in designing  novel\n",
      "IoT systems in line with the evoluTon of miniaturizaTon technologies. The course will  have both\n",
      "theory and lab secTons.\n",
      "————————————————————————————————————————————————————————————————————————————————\n"
     ]
    },
    {
     "data": {
      "text/markdown": [
       "\n",
       " **From `CISAT_Student_Handbook_2024-2025.pdf`, page 39**"
      ],
      "text/plain": [
       "<IPython.core.display.Markdown object>"
      ]
     },
     "metadata": {},
     "output_type": "display_data"
    },
    {
     "name": "stdout",
     "output_type": "stream",
     "text": [
      "T-Course: Doctoral students must enroll in and complete a Transdisciplinary course  (TNDY)during\n",
      "their careers of study. For assistance in resolving a T-course hold,  contact the Transdisciplinary\n",
      "Studies office. Course Waiver Forms      Course Waivers   To request a waiver for a core course\n",
      "please ﬁll out the Waiver form – can be found in the  documents secTon on CISAT’s SharePoint\n",
      "website. You can also reach out directly to the  Program Coordinator for the form. Students can only\n",
      "waive core courses if they have a taken a  Master’s level course or have equivalent work experience.\n",
      "Note that you need to ﬁll out a form  for each core course. You will also need to submit jusTfying\n",
      "documentaTon as noted on the  form. Once submited to the Program Coordinator, the waiver will be\n",
      "sent to the corresponding  faculty member for approval (see list below for reference).\n",
      "————————————————————————————————————————————————————————————————————————————————\n"
     ]
    }
   ],
   "source": [
    "# Execute the retrieval chain for RAG-Fusion with MMR and get the final re-ranked results\n",
    "rag_fusion_mmr_results_Cisat = retrieval_chain_rag_fusion_mmr_Cisat.invoke({\"question\": question3})\n",
    "\n",
    "print(f\"\\n{'='*40} List of reranked retrieved results using MMR {'='*40}\\n\")\n",
    "\n",
    "print(f\"Total number of results: {len(rag_fusion_mmr_results_Cisat)}\")\n",
    "\n",
    "for i, (doc, score) in enumerate(rag_fusion_mmr_results_Cisat, start=1):\n",
    "    display(Markdown(f\"\\n **From `{doc.metadata['source']}`, page {doc.metadata['page']}**\"))\n",
    "\n",
    "    print(textwrap.fill(doc.page_content, width=100)) \n",
    "    \n",
    "    print(\"—\" * 80) "
   ]
  },
  {
   "cell_type": "code",
   "execution_count": 62,
   "metadata": {},
   "outputs": [
    {
     "name": "stdout",
     "output_type": "stream",
     "text": [
      "\n",
      "======================================== List of reranked retrieved results using MMR ========================================\n",
      "\n",
      "Total number of results: 15\n"
     ]
    },
    {
     "data": {
      "text/markdown": [
       "\n",
       " **From `/Users/stephenkeyen/Documents/GENAI/Assignments/2024-25 student handbook CGU Math programs.pdf`, page 8**"
      ],
      "text/plain": [
       "<IPython.core.display.Markdown object>"
      ]
     },
     "metadata": {},
     "output_type": "display_data"
    },
    {
     "name": "stdout",
     "output_type": "stream",
     "text": [
      "8    Dual Degrees.  Students may earn a dual Master’s degree in Financial Engineering / \n",
      "Mathematics, Financial Engineering / Computational and Applied Mathematics, and Financial \n",
      "Engineering / Statistics and Machine Learning.  If accepted by IMS faculty into the dual degree \n",
      "program, students will be required to complete at least 44 units of coursework, and must \n",
      "satisfy all course requirements of both degrees: core courses, elective courses, and gamma \n",
      "requirements.\n",
      "————————————————————————————————————————————————————————————————————————————————\n"
     ]
    },
    {
     "data": {
      "text/markdown": [
       "\n",
       " **From `/Users/stephenkeyen/Documents/GENAI/Assignments/2024-25 student handbook CGU Math programs.pdf`, page 13**"
      ],
      "text/plain": [
       "<IPython.core.display.Markdown object>"
      ]
     },
     "metadata": {},
     "output_type": "display_data"
    },
    {
     "name": "stdout",
     "output_type": "stream",
     "text": [
      " IST 302 Databases   IST 332 Natural Language Processing  \n",
      "IST 340 Knowledge Discovery and Data Mining   IST 341 CS Insights via Python  \n",
      "IST 342 Managing Data at Scale   IST 343 Data Science Practicum  \n",
      "IST 344 Data Analytics and Visualization\n",
      "————————————————————————————————————————————————————————————————————————————————\n"
     ]
    },
    {
     "data": {
      "text/markdown": [
       "\n",
       " **From `/Users/stephenkeyen/Documents/GENAI/Assignments/2024-25 student handbook CGU Math programs.pdf`, page 11**"
      ],
      "text/plain": [
       "<IPython.core.display.Markdown object>"
      ]
     },
     "metadata": {},
     "output_type": "display_data"
    },
    {
     "name": "stdout",
     "output_type": "stream",
     "text": [
      "11    1. Research seminar requirement.  Over a period of at least two semesters, each student \n",
      "must attend a mathematics research seminar regularly. This may be a CCMS research \n",
      "seminar, mathematics colloquium, faculty‐organized topical seminar, or student‐\n",
      "organized journal club. The student must submit to his or her advisor a list of seminar \n",
      "talks attended, as well as written summaries of three seminar talks. Each summary, of\n",
      "————————————————————————————————————————————————————————————————————————————————\n"
     ]
    },
    {
     "data": {
      "text/markdown": [
       "\n",
       " **From `/Users/stephenkeyen/Documents/GENAI/Assignments/2024-25 student handbook CGU Math programs.pdf`, page 15**"
      ],
      "text/plain": [
       "<IPython.core.display.Markdown object>"
      ]
     },
     "metadata": {},
     "output_type": "display_data"
    },
    {
     "name": "stdout",
     "output_type": "stream",
     "text": [
      "work in public and defends it at a final oral examination by the PhD committee.\n",
      "————————————————————————————————————————————————————————————————————————————————\n"
     ]
    },
    {
     "data": {
      "text/markdown": [
       "\n",
       " **From `/Users/stephenkeyen/Documents/GENAI/Assignments/2024-25 student handbook CGU Math programs.pdf`, page 7**"
      ],
      "text/plain": [
       "<IPython.core.display.Markdown object>"
      ]
     },
     "metadata": {},
     "output_type": "display_data"
    },
    {
     "name": "stdout",
     "output_type": "stream",
     "text": [
      "7    MS in Financial Engineering   \n",
      "The MS in Financial Engineering provides the skills to create and evaluate complex financial \n",
      "products, helping graduates become strategic leaders in the field. Students draw on tools from \n",
      "applied math, statistics, and financial and economic theory, to convert into (i) software \n",
      "programs in the most modern programming languages and (ii) successful decision‐making. The \n",
      "program prepares graduates for careers in portfolio management and in risk management at\n",
      "————————————————————————————————————————————————————————————————————————————————\n"
     ]
    },
    {
     "data": {
      "text/markdown": [
       "\n",
       " **From `/Users/stephenkeyen/Documents/GENAI/Assignments/2024-25 student handbook CGU Math programs.pdf`, page 16**"
      ],
      "text/plain": [
       "<IPython.core.display.Markdown object>"
      ]
     },
     "metadata": {},
     "output_type": "display_data"
    },
    {
     "name": "stdout",
     "output_type": "stream",
     "text": [
      "available at: https://my.cgu.edu/registrar/forms/.\n",
      "————————————————————————————————————————————————————————————————————————————————\n"
     ]
    },
    {
     "data": {
      "text/markdown": [
       "\n",
       " **From `/Users/stephenkeyen/Documents/GENAI/Assignments/2024-25 student handbook CGU Math programs.pdf`, page 13**"
      ],
      "text/plain": [
       "<IPython.core.display.Markdown object>"
      ]
     },
     "metadata": {},
     "output_type": "display_data"
    },
    {
     "name": "stdout",
     "output_type": "stream",
     "text": [
      "13    PhD in Computational Science \n",
      "Offered by the Institute of Mathematical Sciences (IMS) and Center for Information Systems \n",
      "and Technology (CISAT) at CGU, the PhD in Computational Science addresses the need for \n",
      "advanced computational methods to enable scientific discovery across disciplinary boundaries. \n",
      "The program trains applied computational researchers to contribute to cross‐disciplinary \n",
      "research and development in modern academic, government, and industrial settings.\n",
      "————————————————————————————————————————————————————————————————————————————————\n"
     ]
    },
    {
     "data": {
      "text/markdown": [
       "\n",
       " **From `/Users/stephenkeyen/Documents/GENAI/Assignments/2024-25 student handbook CGU Math programs.pdf`, page 17**"
      ],
      "text/plain": [
       "<IPython.core.display.Markdown object>"
      ]
     },
     "metadata": {},
     "output_type": "display_data"
    },
    {
     "name": "stdout",
     "output_type": "stream",
     "text": [
      "Andrew Nguyen  Adjunct Professor  andrew.nguyen@cgu.edu  909‐607‐8036                     \n",
      "Qidi Peng  Research Associate Professor \n",
      "qidi.peng@cgu.edu                                                         909‐607‐9490   \n",
      "Allon Percus (IMS Director 2024‐25)  Joseph H. Pengilly Professor  allon.percus@cgu.edu \n",
      "909‐607‐0744                                                                  Claudia Rangel \n",
      "Adjunct Professor  claudia.rangel@cgu.edu  213‐740‐2404\n",
      "————————————————————————————————————————————————————————————————————————————————\n"
     ]
    },
    {
     "data": {
      "text/markdown": [
       "\n",
       " **From `/Users/stephenkeyen/Documents/GENAI/Assignments/2024-25 student handbook CGU Math programs.pdf`, page 13**"
      ],
      "text/plain": [
       "<IPython.core.display.Markdown object>"
      ]
     },
     "metadata": {},
     "output_type": "display_data"
    },
    {
     "name": "stdout",
     "output_type": "stream",
     "text": [
      "Course Requirements. A total of 72 units of coursework is required to complete the doctoral \n",
      "degree. These units must include 4 units of Transdisciplinary (TNDY) course(s) per University \n",
      "Policy.    24 units of Mathematics coursework taken at IMS.  These include one course each, \n",
      "from at least three of the following four categories.  o Mathematical Modeling  \n",
      "Math 387 Discrete Mathematical Modeling   Math 388 Continuous Mathematical Modeling  o\n",
      "Advanced Statistics with Computation\n",
      "————————————————————————————————————————————————————————————————————————————————\n"
     ]
    },
    {
     "data": {
      "text/markdown": [
       "\n",
       " **From `/Users/stephenkeyen/Documents/GENAI/Assignments/2024-25 student handbook CGU Math programs.pdf`, page 2**"
      ],
      "text/plain": [
       "<IPython.core.display.Markdown object>"
      ]
     },
     "metadata": {},
     "output_type": "display_data"
    },
    {
     "name": "stdout",
     "output_type": "stream",
     "text": [
      "Program Coordinator.    \n",
      "All IMS Master’s and PhD students must receive written approval from their faculty advisor to \n",
      "select any course outside those listed on the Graduate Math Courses List.\n",
      "————————————————————————————————————————————————————————————————————————————————\n"
     ]
    },
    {
     "data": {
      "text/markdown": [
       "\n",
       " **From `/Users/stephenkeyen/Documents/GENAI/Assignments/2024-25 student handbook CGU Math programs.pdf`, page 2**"
      ],
      "text/plain": [
       "<IPython.core.display.Markdown object>"
      ]
     },
     "metadata": {},
     "output_type": "display_data"
    },
    {
     "name": "stdout",
     "output_type": "stream",
     "text": [
      "2    Welcome to the Institute of Mathematical Sciences (IMS)!   \n",
      "This handbook is designed to assist mathematics students in smoothly progressing through \n",
      "their respective programs.  It introduces major program milestones, registration details, and \n",
      "general information about the school.   \n",
      "Please note that it is the student’s responsibility to be familiar with the CGU Student Bulletin \n",
      "(available at bulletin.cgu.edu) for official CGU policies and procedures.     \n",
      "New Student Orientation\n",
      "————————————————————————————————————————————————————————————————————————————————\n"
     ]
    },
    {
     "data": {
      "text/markdown": [
       "\n",
       " **From `/Users/stephenkeyen/Documents/GENAI/Assignments/2024-25 student handbook CGU Math programs.pdf`, page 8**"
      ],
      "text/plain": [
       "<IPython.core.display.Markdown object>"
      ]
     },
     "metadata": {},
     "output_type": "display_data"
    },
    {
     "name": "stdout",
     "output_type": "stream",
     "text": [
      "requirements of the course.  \n",
      "A written description of the work must be submitted by the student to the IMS Director \n",
      "for review.  That documentation should include a description of the extra work, and \n",
      "how it will be evaluated by the instructor (written or oral exam, written report/project, \n",
      "etc.). If the IMS Director approves, that document is placed in the student's file.    \n",
      "Upon completion of the course, the instructor must communicate to the IMS Program\n",
      "————————————————————————————————————————————————————————————————————————————————\n"
     ]
    },
    {
     "data": {
      "text/markdown": [
       "\n",
       " **From `/Users/stephenkeyen/Documents/GENAI/Assignments/2024-25 student handbook CGU Math programs.pdf`, page 14**"
      ],
      "text/plain": [
       "<IPython.core.display.Markdown object>"
      ]
     },
     "metadata": {},
     "output_type": "display_data"
    },
    {
     "name": "stdout",
     "output_type": "stream",
     "text": [
      "a PhD committee, consisting of at least three faculty members, normally chaired by the advisor, \n",
      "with at least one IMS faculty member and at least one CISAT faculty member. The student \n",
      "prepares a written account of research work performed and its results, and then presents the \n",
      "work orally to the members of the PhD committee. Should a student fail the qualifying exam, \n",
      "one additional attempt to pass the examination will be allowed.\n",
      "————————————————————————————————————————————————————————————————————————————————\n"
     ]
    },
    {
     "data": {
      "text/markdown": [
       "\n",
       " **From `/Users/stephenkeyen/Documents/GENAI/Assignments/2024-25 student handbook CGU Math programs.pdf`, page 17**"
      ],
      "text/plain": [
       "<IPython.core.display.Markdown object>"
      ]
     },
     "metadata": {},
     "output_type": "display_data"
    },
    {
     "name": "stdout",
     "output_type": "stream",
     "text": [
      "17    IMS Department Contacts    Anya Istakhorov  Program Coordinator  anna.istakhorov@cgu.edu \n",
      "909‐621‐8080      John Angus  Professor  john.angus@cgu.edu  909‐607‐3376    Yu Bai \n",
      "Research Associate Professor  yu.bai@cgu.edu      Marina Chugunova  Ellis Cumberbatch Professor \n",
      "marina.chugunova@cgu.edu  909‐607‐9489    Hrushikesh Mhaskar  Distinguished Research Professor \n",
      "hmhaska@gmail.com      Ali Nadim  Professor  ali.nadim@cgu.edu  909‐607‐9413    Andrew Nguyen \n",
      "Adjunct Professor  andrew.nguyen@cgu.edu\n",
      "————————————————————————————————————————————————————————————————————————————————\n"
     ]
    },
    {
     "data": {
      "text/markdown": [
       "\n",
       " **From `/Users/stephenkeyen/Documents/GENAI/Assignments/2024-25 student handbook CGU Math programs.pdf`, page 1**"
      ],
      "text/plain": [
       "<IPython.core.display.Markdown object>"
      ]
     },
     "metadata": {},
     "output_type": "display_data"
    },
    {
     "name": "stdout",
     "output_type": "stream",
     "text": [
      "2024-2025    Institute of Mathematical  Sciences    Student Handbook\n",
      "————————————————————————————————————————————————————————————————————————————————\n"
     ]
    }
   ],
   "source": [
    "# Execute the retrieval chain for RAG-Fusion with MMR and get the final re-ranked results\n",
    "rag_fusion_mmr_results_math = retrieval_chain_rag_fusion_mmr_math.invoke({\"question\": question3})\n",
    "\n",
    "print(f\"\\n{'='*40} List of reranked retrieved results using MMR {'='*40}\\n\")\n",
    "\n",
    "print(f\"Total number of results: {len(rag_fusion_mmr_results_math)}\")\n",
    "\n",
    "for i, (doc, score) in enumerate(rag_fusion_mmr_results_math, start=1):\n",
    "    display(Markdown(f\"\\n **From `{doc.metadata['source']}`, page {doc.metadata['page']}**\"))\n",
    "\n",
    "    print(textwrap.fill(doc.page_content, width=100)) \n",
    "    \n",
    "    print(\"—\" * 80) "
   ]
  },
  {
   "cell_type": "markdown",
   "metadata": {},
   "source": [
    "## metadata Filtering"
   ]
  },
  {
   "cell_type": "code",
   "execution_count": 63,
   "metadata": {},
   "outputs": [],
   "source": [
    "# Define a retrieval chain that applies a metadata filter before similarity search\n",
    "retrieval_chain_metadata_filter = (\n",
    "    multi_query_generator \n",
    "    | CGUHandbook_data_vector_store.as_retriever(\n",
    "        search_type=\"similarity\", \n",
    "        search_kwargs={'k': 5,  # Retrieve only the top 5 most relevant documents\n",
    "                       'filter': {\n",
    "                           'page': {'$lte': 30},   # Include only documents with page numbers ≤ 300\n",
    "                           'source': {'$eq' : '/Users/stephenkeyen/Documents/GENAI/Assignments/DBOS PSYCH Handbook 2023-2024 (final).pdf'} # Restrict search to a specific source file\n",
    "                           }\n",
    "                        }\n",
    "                    ).map() \n",
    "    | reciprocal_rank_fusion  )"
   ]
  },
  {
   "cell_type": "code",
   "execution_count": 64,
   "metadata": {},
   "outputs": [
    {
     "name": "stdout",
     "output_type": "stream",
     "text": [
      "\n",
      "======================================== List of reranked retrieved results using metadata filter ========================================\n",
      "\n",
      "Total number of results: 7\n"
     ]
    },
    {
     "data": {
      "text/markdown": [
       "\n",
       " **From `/Users/stephenkeyen/Documents/GENAI/Assignments/DBOS PSYCH Handbook 2023-2024 (final).pdf`, page 26**"
      ],
      "text/plain": [
       "<IPython.core.display.Markdown object>"
      ]
     },
     "metadata": {},
     "output_type": "display_data"
    },
    {
     "name": "stdout",
     "output_type": "stream",
     "text": [
      "webpage. DBOS requires the following additional specifications:  •  Acceptable dissertation research\n",
      "conducted with the approval of an advisory committee must  be submitted.  •  Dissertation committees\n",
      "must consist of at least four examiners, including one DBOS Core  Faculty member and one visiting\n",
      "examiner from outside the Claremont community. The  committee must be approved by the Dean prior to\n",
      "approval of the dissertation proposal.\n",
      "————————————————————————————————————————————————————————————————————————————————\n"
     ]
    },
    {
     "data": {
      "text/markdown": [
       "\n",
       " **From `/Users/stephenkeyen/Documents/GENAI/Assignments/DBOS PSYCH Handbook 2023-2024 (final).pdf`, page 25**"
      ],
      "text/plain": [
       "<IPython.core.display.Markdown object>"
      ]
     },
     "metadata": {},
     "output_type": "display_data"
    },
    {
     "name": "stdout",
     "output_type": "stream",
     "text": [
      "in research tools tailored to the individual needs of the student. Faculty approval of specific\n",
      "tools  and satisfactory evidence of their mastery is required within the first three years of\n",
      "graduate study.  Two research tools must be completed before taking the oral qualifying examination.\n",
      "A list of the  approved research tools is available on the DBOS internal website.    ORAL QUALIFYING\n",
      "EXAMINATION  The oral qualifying examination is intended to demonstrate the student’s ability to\n",
      "organize,\n",
      "————————————————————————————————————————————————————————————————————————————————\n"
     ]
    },
    {
     "data": {
      "text/markdown": [
       "\n",
       " **From `/Users/stephenkeyen/Documents/GENAI/Assignments/DBOS PSYCH Handbook 2023-2024 (final).pdf`, page 26**"
      ],
      "text/plain": [
       "<IPython.core.display.Markdown object>"
      ]
     },
     "metadata": {},
     "output_type": "display_data"
    },
    {
     "name": "stdout",
     "output_type": "stream",
     "text": [
      "approval by the Dean, the student is advanced to candidacy.   Final Dissertation Defense: A\n",
      "recommendation of the committee membership by the dissertation  chair and the department chair must\n",
      "be given to the DBOS Dean three weeks before the date of  the final dissertation defense. The form\n",
      "is accompanied by an abstract of the dissertation no more  than 350 words in length. All final\n",
      "dissertation defense committees in DBOS consist of at least four\n",
      "————————————————————————————————————————————————————————————————————————————————\n"
     ]
    },
    {
     "data": {
      "text/markdown": [
       "\n",
       " **From `/Users/stephenkeyen/Documents/GENAI/Assignments/DBOS PSYCH Handbook 2023-2024 (final).pdf`, page 24**"
      ],
      "text/plain": [
       "<IPython.core.display.Markdown object>"
      ]
     },
     "metadata": {},
     "output_type": "display_data"
    },
    {
     "name": "stdout",
     "output_type": "stream",
     "text": [
      "Students are required to take  an additional 24 units of  Positive Organizational  Psychology or\n",
      "related  coursework, following an  approved plan of study.  Recommended elective  courses include:\n",
      "PSYCH  350W; PSYCH 350M;  PSYCH 350Y; PSYCH 350H;  PSYCH 350PP; PSYCH  352R; PSYCH 331; PSYCH\n",
      "315CC; PSYCH 315Q;  PSYCH 357; PSYCH 352S;  and PSYCH 352V.     TEACHING OR FIELD PLACEMENT  All\n",
      "DBOS PhD students are required to take either the Field Placement Seminar with an\n",
      "————————————————————————————————————————————————————————————————————————————————\n"
     ]
    },
    {
     "data": {
      "text/markdown": [
       "\n",
       " **From `/Users/stephenkeyen/Documents/GENAI/Assignments/DBOS PSYCH Handbook 2023-2024 (final).pdf`, page 26**"
      ],
      "text/plain": [
       "<IPython.core.display.Markdown object>"
      ]
     },
     "metadata": {},
     "output_type": "display_data"
    },
    {
     "name": "stdout",
     "output_type": "stream",
     "text": [
      "DBOS Core Faculty member (the others may be drawn from the Extended Faculty). The committee  must be\n",
      "approved by the DBOS Dean prior to approval of the dissertation proposal. The procedure  is for the\n",
      "committee chair, in consultation with the student, to select two other faculty and secure  their\n",
      "agreement to be on the committee. After a draft of the dissertation has been approved by the  chair,\n",
      "a fourth committee member will be chosen from outside the Claremont Colleges.\n",
      "————————————————————————————————————————————————————————————————————————————————\n"
     ]
    },
    {
     "data": {
      "text/markdown": [
       "\n",
       " **From `/Users/stephenkeyen/Documents/GENAI/Assignments/DBOS PSYCH Handbook 2023-2024 (final).pdf`, page 26**"
      ],
      "text/plain": [
       "<IPython.core.display.Markdown object>"
      ]
     },
     "metadata": {},
     "output_type": "display_data"
    },
    {
     "name": "stdout",
     "output_type": "stream",
     "text": [
      "examination, the examining committee will have the following available for their review:  •\n",
      "Statement of professional development from the student. Guidelines and samples are  available in the\n",
      "DBOS office.  •  Current curriculum vitae from the student.  Summary of academic progress from\n",
      "department files, including portfolio and accompanying  documents. Kept in DBOS office.\n",
      "DISSERTATION  Doctoral Degree Regulations are detailed in the current Academic Bulletin and on the\n",
      "Registrar’s\n",
      "————————————————————————————————————————————————————————————————————————————————\n"
     ]
    },
    {
     "data": {
      "text/markdown": [
       "\n",
       " **From `/Users/stephenkeyen/Documents/GENAI/Assignments/DBOS PSYCH Handbook 2023-2024 (final).pdf`, page 18**"
      ],
      "text/plain": [
       "<IPython.core.display.Markdown object>"
      ]
     },
     "metadata": {},
     "output_type": "display_data"
    },
    {
     "name": "stdout",
     "output_type": "stream",
     "text": [
      "Last amended July 2023.  Master of Arts Programs  Degree Checklist  Student Name:\n",
      "_____________________________    Concentration: ___________________________  Prerequisites: All DBOS\n",
      "students are required to have prerequisite courses in the following four areas of  psychology from\n",
      "an accredited undergraduate or graduate institution. For information on qualifying  courses, see the\n",
      "DBOS Pre-req Form.  □General Methodology/Statistics □Social Psychology/Org Behavior □Cognitive\n",
      "Psychology\n",
      "————————————————————————————————————————————————————————————————————————————————\n"
     ]
    }
   ],
   "source": [
    "# Display the intermediate retrieval process\n",
    "rag_fusion_metadata_filter_results = retrieval_chain_metadata_filter.invoke({\"question\": question})\n",
    "\n",
    "print(f\"\\n{'='*40} List of reranked retrieved results using metadata filter {'='*40}\\n\")\n",
    "\n",
    "print(f\"Total number of results: {len(rag_fusion_metadata_filter_results)}\")\n",
    "\n",
    "for i, (doc, score) in enumerate(rag_fusion_metadata_filter_results, start=1):\n",
    "    display(Markdown(f\"\\n **From `{doc.metadata['source']}`, page {doc.metadata['page']}**\"))\n",
    "\n",
    "    print(textwrap.fill(doc.page_content, width=100)) \n",
    "    \n",
    "    print(\"—\" * 80) "
   ]
  },
  {
   "cell_type": "markdown",
   "metadata": {},
   "source": [
    "## Question 2: metadata filtering"
   ]
  },
  {
   "cell_type": "code",
   "execution_count": 65,
   "metadata": {},
   "outputs": [],
   "source": [
    "# Define a retrieval chain that applies a metadata filter before similarity search\n",
    "retrieval_chain_metadata_filter2 = (\n",
    "    multi_query_generator \n",
    "    | CGUHandbook_data_vector_store.as_retriever(\n",
    "        search_type=\"similarity\", \n",
    "        search_kwargs={'k': 5,  # Retrieve only the top 5 most relevant documents\n",
    "                       'filter': {\n",
    "                           'page': {'$lte': 36},   # Include only documents with page numbers ≤ 300\n",
    "                           'source': {'$eq' : '/Users/stephenkeyen/Documents/GENAI/Assignments/MPH-Student-Handbook-2023-2024.pdf'} # Restrict search to a specific source file\n",
    "                           }\n",
    "                        }\n",
    "                    ).map() \n",
    "    | reciprocal_rank_fusion  )"
   ]
  },
  {
   "cell_type": "code",
   "execution_count": 66,
   "metadata": {},
   "outputs": [
    {
     "name": "stdout",
     "output_type": "stream",
     "text": [
      "\n",
      "======================================== List of reranked retrieved results using metadata filter ========================================\n",
      "\n",
      "Total number of results: 6\n"
     ]
    },
    {
     "data": {
      "text/markdown": [
       "\n",
       " **From `/Users/stephenkeyen/Documents/GENAI/Assignments/MPH-Student-Handbook-2023-2024.pdf`, page 30**"
      ],
      "text/plain": [
       "<IPython.core.display.Markdown object>"
      ]
     },
     "metadata": {},
     "output_type": "display_data"
    },
    {
     "name": "stdout",
     "output_type": "stream",
     "text": [
      "students enrolled in Claremont Graduate University’s Master of Public Health Program during their\n",
      "last  semester prior to graduation.   The course will draw upon students ‘prior training in the five\n",
      "core areas of public health (i.e., Social and  Behavioral Science, Biostatistics, Epidemiology,\n",
      "Health Services, and Environmental and Occupational  Health), additional required coursework in\n",
      "their specified concentration, and their real-world experience\n",
      "————————————————————————————————————————————————————————————————————————————————\n"
     ]
    },
    {
     "data": {
      "text/markdown": [
       "\n",
       " **From `/Users/stephenkeyen/Documents/GENAI/Assignments/MPH-Student-Handbook-2023-2024.pdf`, page 27**"
      ],
      "text/plain": [
       "<IPython.core.display.Markdown object>"
      ]
     },
     "metadata": {},
     "output_type": "display_data"
    },
    {
     "name": "stdout",
     "output_type": "stream",
     "text": [
      "requirements. The MPH degree requires 44 semester units, consisting of 13 courses:     •  Nine core\n",
      "courses which cover the core public health competencies and provide a foundation for  further\n",
      "coursework in a chosen concentration    •  Choice of one of three concentrations, with four courses\n",
      "required in each. Students can specialize  in (1) Health Promotion, Education and Evaluation; (2)\n",
      "Applied Biostatistics and Epidemiology;  and (3) Leadership and Management.     •\n",
      "————————————————————————————————————————————————————————————————————————————————\n"
     ]
    },
    {
     "data": {
      "text/markdown": [
       "\n",
       " **From `/Users/stephenkeyen/Documents/GENAI/Assignments/MPH-Student-Handbook-2023-2024.pdf`, page 23**"
      ],
      "text/plain": [
       "<IPython.core.display.Markdown object>"
      ]
     },
     "metadata": {},
     "output_type": "display_data"
    },
    {
     "name": "stdout",
     "output_type": "stream",
     "text": [
      "23      Foundational Knowledge and Competencies    The master’s degree in public health program uses\n",
      "a competency-based format for instruction. Each  student in the MPH program (standard and\n",
      "accelerated schedules) is expected to meet minimum  requirements for a basic set of competencies\n",
      "through prior experience, coursework, participation in  interprofessional events, applied practice\n",
      "experience (supervised field training) and integrative learning\n",
      "————————————————————————————————————————————————————————————————————————————————\n"
     ]
    },
    {
     "data": {
      "text/markdown": [
       "\n",
       " **From `/Users/stephenkeyen/Documents/GENAI/Assignments/MPH-Student-Handbook-2023-2024.pdf`, page 28**"
      ],
      "text/plain": [
       "<IPython.core.display.Markdown object>"
      ]
     },
     "metadata": {},
     "output_type": "display_data"
    },
    {
     "name": "stdout",
     "output_type": "stream",
     "text": [
      "Applied Biostatistics & Epidemiology (STEM: MPH-ABE)  CGH 312  Data Analysis (SAS)   4  CGH 313\n",
      "Research Methods   4  CGH 314  Emerging Chronic & Infectious Diseases Worldwide   4  CGH 315  GIS\n",
      "Applications in Public Health  4    Leadership & Management  CGH 316  Public Health Leadership for\n",
      "the 21st Century   4  CGH 317  Ethics, Human Rights & Cultural Diversity   4  CGH 318  Management of\n",
      "International Health Programs & Organizations   4  CGH 319  Health Advocacy  4\n",
      "————————————————————————————————————————————————————————————————————————————————\n"
     ]
    },
    {
     "data": {
      "text/markdown": [
       "\n",
       " **From `/Users/stephenkeyen/Documents/GENAI/Assignments/MPH-Student-Handbook-2023-2024.pdf`, page 27**"
      ],
      "text/plain": [
       "<IPython.core.display.Markdown object>"
      ]
     },
     "metadata": {},
     "output_type": "display_data"
    },
    {
     "name": "stdout",
     "output_type": "stream",
     "text": [
      "sponsored community-based research project, with the purpose of integrating course concepts  into a\n",
      "real-world setting.    •  An integrative learning experience whereby students demonstrate mastery of\n",
      "MPH  competencies through the creation of a professional portfolio and final paper in the public\n",
      "health  capstone course.     Core Courses      CGH 300  Theoretical Foundations in Health Promotion\n",
      "& Education   4  CGH 301  Biostatistics   4  CGH 302  Epidemiology   4  CGH 303\n",
      "————————————————————————————————————————————————————————————————————————————————\n"
     ]
    },
    {
     "data": {
      "text/markdown": [
       "\n",
       " **From `/Users/stephenkeyen/Documents/GENAI/Assignments/MPH-Student-Handbook-2023-2024.pdf`, page 27**"
      ],
      "text/plain": [
       "<IPython.core.display.Markdown object>"
      ]
     },
     "metadata": {},
     "output_type": "display_data"
    },
    {
     "name": "stdout",
     "output_type": "stream",
     "text": [
      "The accelerated program may be completed in 12-18 months (full-time). Part time study is available\n",
      "(less  than 8 units per semester).     Course Requirements    All students working towards the MPH\n",
      "will complete courses designed to provide a deep understanding  of the issues, skills and\n",
      "competencies necessary for leaders in the field. MPH students must also complete  coursework related\n",
      "to each discipline in public health to fulfill the breadth, integration and capstone\n",
      "————————————————————————————————————————————————————————————————————————————————\n"
     ]
    }
   ],
   "source": [
    "# Display the intermediate retrieval process\n",
    "rag_fusion_metadata_filter_results2 = retrieval_chain_metadata_filter2.invoke({\"question\": question2})\n",
    "\n",
    "print(f\"\\n{'='*40} List of reranked retrieved results using metadata filter {'='*40}\\n\")\n",
    "\n",
    "print(f\"Total number of results: {len(rag_fusion_metadata_filter_results2)}\")\n",
    "\n",
    "for i, (doc, score) in enumerate(rag_fusion_metadata_filter_results2, start=1):\n",
    "    display(Markdown(f\"\\n **From `{doc.metadata['source']}`, page {doc.metadata['page']}**\"))\n",
    "\n",
    "    print(textwrap.fill(doc.page_content, width=100)) \n",
    "    \n",
    "    print(\"—\" * 80) "
   ]
  },
  {
   "cell_type": "code",
   "execution_count": 67,
   "metadata": {},
   "outputs": [],
   "source": [
    "# Define a retrieval chain that applies a metadata filter before similarity search\n",
    "retrieval_chain_metadata_filter3a = (\n",
    "    multi_query_generator \n",
    "    | CGUHandbook_data_vector_store.as_retriever(\n",
    "        search_type=\"similarity\", \n",
    "        search_kwargs={'k': 5,  # Retrieve only the top 5 most relevant documents\n",
    "                       'filter': {\n",
    "                           'page': {'$lte': 40},   # Include only documents with page numbers ≤ 300\n",
    "                           'source': {'$eq' : 'CISAT_Student_Handbook_2024-2025.pdf'} # Restrict search to a specific source file\n",
    "                           }\n",
    "                        }\n",
    "                    ).map() \n",
    "    | reciprocal_rank_fusion  )\n",
    "\n",
    "# Define a retrieval chain that applies a metadata filter before similarity search\n",
    "retrieval_chain_metadata_filter3b = (\n",
    "    multi_query_generator \n",
    "    | CGUHandbook_data_vector_store.as_retriever(\n",
    "        search_type=\"similarity\", \n",
    "        search_kwargs={'k': 5,  # Retrieve only the top 5 most relevant documents\n",
    "                       'filter': {\n",
    "                           'page': {'$lte': 17},   # Include only documents with page numbers ≤ 300\n",
    "                           'source': {'$eq' : '/Users/stephenkeyen/Documents/GENAI/Assignments/2024-25 student handbook CGU Math programs.pdf'} # Restrict search to a specific source file\n",
    "                           }\n",
    "                        }\n",
    "                    ).map() \n",
    "    | reciprocal_rank_fusion  )"
   ]
  },
  {
   "cell_type": "code",
   "execution_count": 68,
   "metadata": {},
   "outputs": [
    {
     "name": "stdout",
     "output_type": "stream",
     "text": [
      "\n",
      "======================================== List of reranked retrieved results using metadata filter ========================================\n",
      "\n",
      "Total number of results: 6\n"
     ]
    },
    {
     "data": {
      "text/markdown": [
       "\n",
       " **From `CISAT_Student_Handbook_2024-2025.pdf`, page 13**"
      ],
      "text/plain": [
       "<IPython.core.display.Markdown object>"
      ]
     },
     "metadata": {},
     "output_type": "display_data"
    },
    {
     "name": "stdout",
     "output_type": "stream",
     "text": [
      "program prepares students to parTcipate in the academic IS&T research community. It is a demanding\n",
      "program focused on IS&T research. Ph.D. graduates from CISAT are prepared  to conduct rigorous and\n",
      "relevant IS&T research, as well as to apply what they know about IS&T  research to teaching,\n",
      "consulTng, and other acTviTes. Total Units to Degree: 76 units* / 19 courses    REQUIREMENT\n",
      "OVERVIEW:   300-Level Core Courses (16 units)   500-Level Research Core Courses (20 units)   IST\n",
      "ConcentraTon Area (16 units / 4 courses)   IST ElecTve Courses (20 units / 4 courses)\n",
      "Transdisciplinary ElecTve (4 units / 1 course)\n",
      "————————————————————————————————————————————————————————————————————————————————\n"
     ]
    },
    {
     "data": {
      "text/markdown": [
       "\n",
       " **From `CISAT_Student_Handbook_2024-2025.pdf`, page 16**"
      ],
      "text/plain": [
       "<IPython.core.display.Markdown object>"
      ]
     },
     "metadata": {},
     "output_type": "display_data"
    },
    {
     "name": "stdout",
     "output_type": "stream",
     "text": [
      "•  CISAT ElecTves o 12 Units (3  courses) from CISAT counts towards  the 48 units       Dual DEGREE:\n",
      "MSHI   M.S. Degree in Healthcare Innovation (Health Information Systems & Technology) -  Joint\n",
      "CISAT-SCGH Program    Total Units Required: 36  This new M.S. in Healthcare Innovation program will\n",
      "replace the M.S. in Health  Information Systems & Technology program.\n",
      "————————————————————————————————————————————————————————————————————————————————\n"
     ]
    },
    {
     "data": {
      "text/markdown": [
       "\n",
       " **From `CISAT_Student_Handbook_2024-2025.pdf`, page 15**"
      ],
      "text/plain": [
       "<IPython.core.display.Markdown object>"
      ]
     },
     "metadata": {},
     "output_type": "display_data"
    },
    {
     "name": "stdout",
     "output_type": "stream",
     "text": [
      "Tech. ElecTve Courses (8 units)  ElecTve CGU Courses (8 units)  D. Tech. Applied Research Courses\n",
      "(16 units)  24 units of approved graduate transfer credit are applied toward the D. Tech. degree\n",
      "Dual DEGREE: MSIS&T/MBA   The Master of Science in InformaTon Systems and Technology / Master of\n",
      "Business AdministraTon degree program is offered jointly by the Center for InformaTon Systems  and\n",
      "Technology and the Drucker School of Management and was created for those individuals  seeking to\n",
      "expand their knowledge in the ﬁelds of technology and management. The dual degree opTon allows you\n",
      "to earn two degrees simultaneously from expert faculty in  both areas. This program will provide you\n",
      "with an outstanding opportunity to increase your  marketability and gain a disTnct compeTTve\n",
      "advantage in the professional IS&T marketplace. PROGRAM OVERVIEW   •  19 courses, 76 units total   •\n",
      "IS&T and management coursework can be taken simultaneously   •  Provides the full scope of\n",
      "coursework offered by both schools   MSIS&T COURSES (36 UNITS)   •  Core Courses 12 Units (3\n",
      "courses) o Databases o SoŌware  Development o CommunicaTon and Networking   •  IST ConcentraTon\n",
      "Courses o 16 Units (4 courses)   •  MGT ElecTves Courses o 8 Units (2 courses)  from MGT counts\n",
      "towards the 36 units       MBA COURSES (48 UNITS)   •  Core Courses o QuanTtaTve  Methods o\n",
      "Financial AccounTng o  Strategy o OperaTons Management  o Corporate Finance o MarkeTng  Management\n",
      "o OrganizaTonal Behavior   •  MGT ElecTves o 12 Units (3 courses)\n",
      "————————————————————————————————————————————————————————————————————————————————\n"
     ]
    },
    {
     "data": {
      "text/markdown": [
       "\n",
       " **From `CISAT_Student_Handbook_2024-2025.pdf`, page 8**"
      ],
      "text/plain": [
       "<IPython.core.display.Markdown object>"
      ]
     },
     "metadata": {},
     "output_type": "display_data"
    },
    {
     "name": "stdout",
     "output_type": "stream",
     "text": [
      "Used for  independent research with instructor guidance. Example: A student arranges to complete a\n",
      "research paper on a  topic related to their research; they arrange independent check- ins with an\n",
      "instructor to supervise their progress and grade the  completed work         WAIVING COURSE   The\n",
      "only courses that can be waived are the core level courses (IST 302, IST 303, IST 304, IST 305  and\n",
      "IST 321). To waive a course, students need to ﬁll out a waiver request form for each course  they\n",
      "want to waive, which can be found on the CISAT SharePoint page in the documents secTon. The form and\n",
      "jusTfying documentaTon should be sent to the program coordinator. The  program coordinator oversees\n",
      "the course waiver process, but faculty approves it. Students will  receive an email from the program\n",
      "coordinator staTng whether their course waiver has been  approved or denied. If approved a milestone\n",
      "will be added to their transcript indicaTng the  waived course(s). Please note that waiving a course\n",
      "does not waive the units, students sTll  need to make up those units by either transferring in\n",
      "credit or taking another course. TRANSFERRING CREDIT FROM PREVIOUS GRADUATE-LEVEL COURSEWORK   The\n",
      "University’s policy on transfer credit applies. For the MSIS CISAT does not allow any units to  be\n",
      "transferred in.. PhD students may request to transfer credits (up to 24 units) from graduate- level\n",
      "courses taken at other accredited insTtuTons. To qualify for transfer credit, the courses must be\n",
      "comparable and passed with a grade of B or  beter. The transfer of doctoral research courses, which\n",
      "must be taken at CISAT, is prohibited.\n",
      "————————————————————————————————————————————————————————————————————————————————\n"
     ]
    },
    {
     "data": {
      "text/markdown": [
       "\n",
       " **From `CISAT_Student_Handbook_2024-2025.pdf`, page 13**"
      ],
      "text/plain": [
       "<IPython.core.display.Markdown object>"
      ]
     },
     "metadata": {},
     "output_type": "display_data"
    },
    {
     "name": "stdout",
     "output_type": "stream",
     "text": [
      "PROGRAM REQUIREMENTS      MASTER’S ACADEMIC PLAN    The MSIS degree offers a disTncTve blend of\n",
      "pracTce-based courses within a renowned  research environment. The curriculum has been designed to\n",
      "provide the technical and  managerial skills you will need to succeed in the informaTon systems and\n",
      "technologies realm. The MSIS degree provides a cuƫng-edge pornolio of concepts, skills, and\n",
      "applicaTons designed  to prepare you for the ever growing and changing demands of the IS&T industry.\n",
      "Total Units to Degree: 36 units / 9 courses   TIME TO COMPLETION:   Full-Tme: 12 to 18 months\n",
      "Part-Tme: 18 to 24 months      REQUIREMENTS   IST Core Course (12 units/ 3 courses)   IST\n",
      "ConcentraTon Area (12 units / 3 courses)   IST ElecTves or Another ConcentraTon Area (12 units / 3\n",
      "course)            Ph.D. ACADEMIC PLAN   Our Ph.D.\n",
      "————————————————————————————————————————————————————————————————————————————————\n"
     ]
    },
    {
     "data": {
      "text/markdown": [
       "\n",
       " **From `CISAT_Student_Handbook_2024-2025.pdf`, page 16**"
      ],
      "text/plain": [
       "<IPython.core.display.Markdown object>"
      ]
     },
     "metadata": {},
     "output_type": "display_data"
    },
    {
     "name": "stdout",
     "output_type": "stream",
     "text": [
      "It will commence from Fall semester 2024. Program Overview:  The Center for InformaTon Systems and\n",
      "Technology (CISAT) along with the School of  Community and Global Health (SCGH) of Claremont\n",
      "Graduate University offer an  interﬁled Master’s Degree Program in Healthcare InnovaTon (formerly:\n",
      "Health  InformaTon Systems & Technology). This degree will train and educate students to be\n",
      "thinkers, innovators and leaders who will drive and shape the future of public health  innovaTon for\n",
      "the coming foreseeable future. The program provides students with the  concepts, methods, tools, and\n",
      "skills needed to innovate, develop, manage, and support  informaTon technology systems in public\n",
      "health, and to work in a variety of health IT  posiTons. Degree Requirements:  Coursework: The\n",
      "36-unit program includes:   Core – 16 units (Choose Any 4 courses)  •  IST 380 Introduction to\n",
      "Health Informatics (4 units)  •  CGH 301 Biostatistics (4 units)\n",
      "————————————————————————————————————————————————————————————————————————————————\n"
     ]
    }
   ],
   "source": [
    "# Display the intermediate retrieval process\n",
    "rag_fusion_metadata_filter_results3a = retrieval_chain_metadata_filter3a.invoke({\"question\": question3})\n",
    "\n",
    "print(f\"\\n{'='*40} List of reranked retrieved results using metadata filter {'='*40}\\n\")\n",
    "\n",
    "print(f\"Total number of results: {len(rag_fusion_metadata_filter_results3a)}\")\n",
    "\n",
    "for i, (doc, score) in enumerate(rag_fusion_metadata_filter_results3a, start=1):\n",
    "    display(Markdown(f\"\\n **From `{doc.metadata['source']}`, page {doc.metadata['page']}**\"))\n",
    "\n",
    "    print(textwrap.fill(doc.page_content, width=100)) \n",
    "    \n",
    "    print(\"—\" * 80) "
   ]
  },
  {
   "cell_type": "code",
   "execution_count": 69,
   "metadata": {},
   "outputs": [
    {
     "name": "stdout",
     "output_type": "stream",
     "text": [
      "\n",
      "======================================== List of reranked retrieved results using metadata filter ========================================\n",
      "\n",
      "Total number of results: 10\n"
     ]
    },
    {
     "data": {
      "text/markdown": [
       "\n",
       " **From `/Users/stephenkeyen/Documents/GENAI/Assignments/2024-25 student handbook CGU Math programs.pdf`, page 2**"
      ],
      "text/plain": [
       "<IPython.core.display.Markdown object>"
      ]
     },
     "metadata": {},
     "output_type": "display_data"
    },
    {
     "name": "stdout",
     "output_type": "stream",
     "text": [
      "Program Coordinator.    \n",
      "All IMS Master’s and PhD students must receive written approval from their faculty advisor to \n",
      "select any course outside those listed on the Graduate Math Courses List.\n",
      "————————————————————————————————————————————————————————————————————————————————\n"
     ]
    },
    {
     "data": {
      "text/markdown": [
       "\n",
       " **From `/Users/stephenkeyen/Documents/GENAI/Assignments/2024-25 student handbook CGU Math programs.pdf`, page 8**"
      ],
      "text/plain": [
       "<IPython.core.display.Markdown object>"
      ]
     },
     "metadata": {},
     "output_type": "display_data"
    },
    {
     "name": "stdout",
     "output_type": "stream",
     "text": [
      "8    Dual Degrees.  Students may earn a dual Master’s degree in Financial Engineering / \n",
      "Mathematics, Financial Engineering / Computational and Applied Mathematics, and Financial \n",
      "Engineering / Statistics and Machine Learning.  If accepted by IMS faculty into the dual degree \n",
      "program, students will be required to complete at least 44 units of coursework, and must \n",
      "satisfy all course requirements of both degrees: core courses, elective courses, and gamma \n",
      "requirements.\n",
      "————————————————————————————————————————————————————————————————————————————————\n"
     ]
    },
    {
     "data": {
      "text/markdown": [
       "\n",
       " **From `/Users/stephenkeyen/Documents/GENAI/Assignments/2024-25 student handbook CGU Math programs.pdf`, page 2**"
      ],
      "text/plain": [
       "<IPython.core.display.Markdown object>"
      ]
     },
     "metadata": {},
     "output_type": "display_data"
    },
    {
     "name": "stdout",
     "output_type": "stream",
     "text": [
      "Courses list (https://www.cgu.edu/wp‐content/uploads/2017/01/CGU‐IMS‐\n",
      "GraduateMathCourses.pdf) to verify prerequisites and course descriptions.  All students must \n",
      "meet with their academic advisors each semester to plan their coursework and update their  plan of s\n",
      "tudy.  It is the student’s responsibility to satisfy all prerequisites before enrolling in a \n",
      "course.   \n",
      "Students who wish to enroll in an Independent Study course (Math 398/498) must complete an\n",
      "————————————————————————————————————————————————————————————————————————————————\n"
     ]
    },
    {
     "data": {
      "text/markdown": [
       "\n",
       " **From `/Users/stephenkeyen/Documents/GENAI/Assignments/2024-25 student handbook CGU Math programs.pdf`, page 2**"
      ],
      "text/plain": [
       "<IPython.core.display.Markdown object>"
      ]
     },
     "metadata": {},
     "output_type": "display_data"
    },
    {
     "name": "stdout",
     "output_type": "stream",
     "text": [
      "2    Welcome to the Institute of Mathematical Sciences (IMS)!   \n",
      "This handbook is designed to assist mathematics students in smoothly progressing through \n",
      "their respective programs.  It introduces major program milestones, registration details, and \n",
      "general information about the school.   \n",
      "Please note that it is the student’s responsibility to be familiar with the CGU Student Bulletin \n",
      "(available at bulletin.cgu.edu) for official CGU policies and procedures.     \n",
      "New Student Orientation\n",
      "————————————————————————————————————————————————————————————————————————————————\n"
     ]
    },
    {
     "data": {
      "text/markdown": [
       "\n",
       " **From `/Users/stephenkeyen/Documents/GENAI/Assignments/2024-25 student handbook CGU Math programs.pdf`, page 13**"
      ],
      "text/plain": [
       "<IPython.core.display.Markdown object>"
      ]
     },
     "metadata": {},
     "output_type": "display_data"
    },
    {
     "name": "stdout",
     "output_type": "stream",
     "text": [
      "Course Requirements. A total of 72 units of coursework is required to complete the doctoral \n",
      "degree. These units must include 4 units of Transdisciplinary (TNDY) course(s) per University \n",
      "Policy.    24 units of Mathematics coursework taken at IMS.  These include one course each, \n",
      "from at least three of the following four categories.  o Mathematical Modeling  \n",
      "Math 387 Discrete Mathematical Modeling   Math 388 Continuous Mathematical Modeling  o\n",
      "Advanced Statistics with Computation\n",
      "————————————————————————————————————————————————————————————————————————————————\n"
     ]
    },
    {
     "data": {
      "text/markdown": [
       "\n",
       " **From `/Users/stephenkeyen/Documents/GENAI/Assignments/2024-25 student handbook CGU Math programs.pdf`, page 17**"
      ],
      "text/plain": [
       "<IPython.core.display.Markdown object>"
      ]
     },
     "metadata": {},
     "output_type": "display_data"
    },
    {
     "name": "stdout",
     "output_type": "stream",
     "text": [
      "17    IMS Department Contacts    Anya Istakhorov  Program Coordinator  anna.istakhorov@cgu.edu \n",
      "909‐621‐8080      John Angus  Professor  john.angus@cgu.edu  909‐607‐3376    Yu Bai \n",
      "Research Associate Professor  yu.bai@cgu.edu      Marina Chugunova  Ellis Cumberbatch Professor \n",
      "marina.chugunova@cgu.edu  909‐607‐9489    Hrushikesh Mhaskar  Distinguished Research Professor \n",
      "hmhaska@gmail.com      Ali Nadim  Professor  ali.nadim@cgu.edu  909‐607‐9413    Andrew Nguyen \n",
      "Adjunct Professor  andrew.nguyen@cgu.edu\n",
      "————————————————————————————————————————————————————————————————————————————————\n"
     ]
    },
    {
     "data": {
      "text/markdown": [
       "\n",
       " **From `/Users/stephenkeyen/Documents/GENAI/Assignments/2024-25 student handbook CGU Math programs.pdf`, page 7**"
      ],
      "text/plain": [
       "<IPython.core.display.Markdown object>"
      ]
     },
     "metadata": {},
     "output_type": "display_data"
    },
    {
     "name": "stdout",
     "output_type": "stream",
     "text": [
      " Math 358 Mathematical Finance   Math 458 Quantitative Risk Management  \n",
      "Math 351 Time Series Data Analysis  \n",
      "Elective Courses (8 units). The following courses are recommended electives. Choose \n",
      "two out of three.   Math 364 Machine Learning for Asset Pricing  \n",
      "Mgmt 402 Asset Management Practicum   Math 454 Statistical Learning   \n",
      "Other electives in the Drucker School of Management or the Institute of Mathematical Sciences\n",
      "————————————————————————————————————————————————————————————————————————————————\n"
     ]
    },
    {
     "data": {
      "text/markdown": [
       "\n",
       " **From `/Users/stephenkeyen/Documents/GENAI/Assignments/2024-25 student handbook CGU Math programs.pdf`, page 8**"
      ],
      "text/plain": [
       "<IPython.core.display.Markdown object>"
      ]
     },
     "metadata": {},
     "output_type": "display_data"
    },
    {
     "name": "stdout",
     "output_type": "stream",
     "text": [
      "requirements of the course.  \n",
      "A written description of the work must be submitted by the student to the IMS Director \n",
      "for review.  That documentation should include a description of the extra work, and \n",
      "how it will be evaluated by the instructor (written or oral exam, written report/project, \n",
      "etc.). If the IMS Director approves, that document is placed in the student's file.    \n",
      "Upon completion of the course, the instructor must communicate to the IMS Program\n",
      "————————————————————————————————————————————————————————————————————————————————\n"
     ]
    },
    {
     "data": {
      "text/markdown": [
       "\n",
       " **From `/Users/stephenkeyen/Documents/GENAI/Assignments/2024-25 student handbook CGU Math programs.pdf`, page 2**"
      ],
      "text/plain": [
       "<IPython.core.display.Markdown object>"
      ]
     },
     "metadata": {},
     "output_type": "display_data"
    },
    {
     "name": "stdout",
     "output_type": "stream",
     "text": [
      "Registration   \n",
      "Registration in the IMS is primarily online through the CGU Student Portal.  Upon matriculation, \n",
      "each student receives a network ID and password with which they can register.  Continuing \n",
      "students who do not register by the pre‐semester deadline (early August for Fall registration, \n",
      "early December for Spring registration) must pay a $170 late registration fee.   \n",
      "While many mathematics courses are unrestricted, students should consult the Graduate Math\n",
      "————————————————————————————————————————————————————————————————————————————————\n"
     ]
    },
    {
     "data": {
      "text/markdown": [
       "\n",
       " **From `/Users/stephenkeyen/Documents/GENAI/Assignments/2024-25 student handbook CGU Math programs.pdf`, page 13**"
      ],
      "text/plain": [
       "<IPython.core.display.Markdown object>"
      ]
     },
     "metadata": {},
     "output_type": "display_data"
    },
    {
     "name": "stdout",
     "output_type": "stream",
     "text": [
      " IST 302 Databases   IST 332 Natural Language Processing  \n",
      "IST 340 Knowledge Discovery and Data Mining   IST 341 CS Insights via Python  \n",
      "IST 342 Managing Data at Scale   IST 343 Data Science Practicum  \n",
      "IST 344 Data Analytics and Visualization\n",
      "————————————————————————————————————————————————————————————————————————————————\n"
     ]
    }
   ],
   "source": [
    "# Display the intermediate retrieval process\n",
    "rag_fusion_metadata_filter_results3b = retrieval_chain_metadata_filter3b.invoke({\"question\": question3})\n",
    "\n",
    "print(f\"\\n{'='*40} List of reranked retrieved results using metadata filter {'='*40}\\n\")\n",
    "\n",
    "print(f\"Total number of results: {len(rag_fusion_metadata_filter_results3b)}\")\n",
    "\n",
    "for i, (doc, score) in enumerate(rag_fusion_metadata_filter_results3b, start=1):\n",
    "    display(Markdown(f\"\\n **From `{doc.metadata['source']}`, page {doc.metadata['page']}**\"))\n",
    "\n",
    "    print(textwrap.fill(doc.page_content, width=100)) \n",
    "    \n",
    "    print(\"—\" * 80) "
   ]
  },
  {
   "cell_type": "markdown",
   "metadata": {},
   "source": [
    "## Generation for final responses from above context "
   ]
  },
  {
   "cell_type": "code",
   "execution_count": 70,
   "metadata": {},
   "outputs": [],
   "source": [
    "from operator import itemgetter\n",
    "\n",
    "# Define a flexible Q&A prompt where the AI can use retrieved context as a reference \n",
    "# but is also allowed to incorporate its broader knowledge if necessary.\n",
    "# This is useful when the retrieved documents may be incomplete or missing key details.\n",
    "flexible_QA_prompt = PromptTemplate.from_template(\n",
    "    \"\"\"You are a knowledgeable AI assistant answering the following question. \n",
    "    If the provided context is relevant, incorporate it into your response. If not, \n",
    "    rely on your broader knowledge to provide the most accurate and informative answer.\n",
    "    \n",
    "    **Question:** {question}\n",
    "    \n",
    "    **Reference Context (if applicable):**  \n",
    "    {context}\n",
    "    \n",
    "    **Answer:**\"\"\"\n",
    ")\n",
    "\n",
    "# Define a strict Q&A prompt where the AI must strictly adhere to the retrieved context \n",
    "# and avoid adding any external knowledge. If the context does not contain the required \n",
    "# information, the AI should explicitly state that. \n",
    "# This is ideal for high-accuracy applications such as legal, financial, or academic domains.\n",
    "strict_QA_prompt = PromptTemplate.from_template(\n",
    "    \"\"\"You are an AI assistant tasked with answering the following question **as accurately as possible** \n",
    "    based solely on the provided context. If the context does not contain sufficient information, explicitly state that. \n",
    "    \n",
    "    **Question:** {question}\n",
    "    \n",
    "    **Context:**  \n",
    "    {context}\n",
    "    \n",
    "    **Answer:**\"\"\"\n",
    ")\n",
    "\n",
    "\n",
    "# Define the final RAG generation pipeline\n",
    "final_rag_chain = (\n",
    "    {\"context\": retrieval_chain_rag_fusion_mmr,  # Retrieve relevant documents using RAG-Fusion with MMR\n",
    "     \"question\": itemgetter(\"question\")} # Extract the \"question\" field from the input dictionary\n",
    "    | flexible_QA_prompt # Apply the flexible prompt as a demo\n",
    "    | llm\n",
    "    | StrOutputParser() # Convert the output into a simple string format for easier processing\n",
    ")\n",
    "\n",
    "# Execute the final RAG pipeline\n",
    "final_answer = final_rag_chain.invoke({\"question\": question})"
   ]
  },
  {
   "cell_type": "markdown",
   "metadata": {},
   "source": [
    "## Results for question 1"
   ]
  },
  {
   "cell_type": "code",
   "execution_count": 71,
   "metadata": {},
   "outputs": [
    {
     "name": "stdout",
     "output_type": "stream",
     "text": [
      "\n",
      "============================================================ Final Answer ============================================================\n",
      "\n"
     ]
    },
    {
     "data": {
      "text/markdown": [
       ">\n",
       "> The graduation requirements for the PhD in the Department of Behavioral and Organizational Sciences\n",
       "(DBOS) include several key components:  1. **Dissertation Research**: You must conduct acceptable\n",
       "dissertation research with the approval of an advisory committee. This research must be submitted as\n",
       "part of your graduation requirements.  2. **Dissertation Committee**: Your dissertation committee\n",
       "must consist of at least four examiners. This includes one DBOS Core Faculty member and one visiting\n",
       "examiner from outside the Claremont community. The committee must be approved by the Dean before the\n",
       "dissertation proposal is approved.  3. **Coursework and Residency**: You need to complete all\n",
       "required coursework and fulfill residency requirements. This includes completing not less than two\n",
       "years of full-time graduate study (48 units) or their equivalent, including any period for which\n",
       "transfer credit was received.  4. **Portfolio Items**: Completion of all portfolio items is\n",
       "necessary before you can take the oral qualifying examination.  5. **Oral Qualifying Examination**:\n",
       "You must pass an oral qualifying examination to demonstrate your ability to integrate, and evaluate\n",
       "knowledge in your area of concentration.  These requirements ensure that you are well-prepared for\n",
       "scholarly careers and leadership roles in various organizations."
      ],
      "text/plain": [
       "<IPython.core.display.Markdown object>"
      ]
     },
     "metadata": {},
     "output_type": "display_data"
    },
    {
     "name": "stdout",
     "output_type": "stream",
     "text": [
      "\n",
      "======================================== List of Queries for Database Search ========================================\n",
      "\n",
      "**Original Question:** What are the graduation requirements for the PhD in DBOS?\n",
      "**Generated Query 1:** What criteria must be met to complete a PhD in DBOS?  \n",
      "**Generated Query 2:** What are the necessary steps to fulfill the graduation requirements for a PhD in DBOS?  \n",
      "**Generated Query 3:** What qualifications are needed to graduate with a PhD in DBOS?\n",
      "\n",
      "======================================== List of Reranked Retrieved Results Using Metadata Filter ========================================\n",
      "\n",
      "Total Number of Retrieved Results: 8\n",
      "\n"
     ]
    },
    {
     "data": {
      "text/markdown": [
       "**Result 1:**\n",
       "**From `/Users/stephenkeyen/Documents/GENAI/Assignments/DBOS PSYCH Handbook 2023-2024 (final).pdf`, Page 26**"
      ],
      "text/plain": [
       "<IPython.core.display.Markdown object>"
      ]
     },
     "metadata": {},
     "output_type": "display_data"
    },
    {
     "name": "stdout",
     "output_type": "stream",
     "text": [
      "webpage. DBOS requires the following additional specifications:  •  Acceptable dissertation research\n",
      "conducted with the approval of an advisory committee must  be submitted.  •  Dissertation committees\n",
      "must consist of at least four examiners, including one DBOS Core  Faculty member and one visiting\n",
      "examiner from outside the Claremont community. The  committee must be approved by the Dean prior to\n",
      "approval of the dissertation proposal.\n",
      "————————————————————————————————————————————————————————————————————————————————\n"
     ]
    },
    {
     "data": {
      "text/markdown": [
       "**Result 2:**\n",
       "**From `/Users/stephenkeyen/Documents/GENAI/Assignments/DBOS PSYCH Handbook 2023-2024 (final).pdf`, Page 21**"
      ],
      "text/plain": [
       "<IPython.core.display.Markdown object>"
      ]
     },
     "metadata": {},
     "output_type": "display_data"
    },
    {
     "name": "stdout",
     "output_type": "stream",
     "text": [
      "20   PHD PSYCHOLOGY PROGRAM  The doctoral program in Psychology prepares students for scholarly\n",
      "careers and for leadership  roles in a variety of organizations. Study is organized around six\n",
      "defined major areas:  APPLIED COGNITIVE PSYCHOLOGY  APPLIED SOCIAL PSYCHOLOGY  EVALUATION AND\n",
      "APPLIED   RESEARCH METHODS  ORGANIZATIONAL BEHAVIOR  POSITIVE DEVELOPMENTAL PSYCHOLOGY  POSITIVE\n",
      "ORGANIZATIONAL PSYCHOLOGY    SUMMARY OF STEPS IN THE PSYCHOLOGY PHD PROGRAM  UNIT REQUIREMENTS\n",
      "————————————————————————————————————————————————————————————————————————————————\n"
     ]
    },
    {
     "data": {
      "text/markdown": [
       "**Result 3:**\n",
       "**From `/Users/stephenkeyen/Documents/GENAI/Assignments/DBOS PSYCH Handbook 2023-2024 (final).pdf`, Page 29**"
      ],
      "text/plain": [
       "<IPython.core.display.Markdown object>"
      ]
     },
     "metadata": {},
     "output_type": "display_data"
    },
    {
     "name": "stdout",
     "output_type": "stream",
     "text": [
      "Degree awarded (Congratulations!)  Possible Dissertation completion    By the end of the fifth year:\n",
      "Dissertation complete    Degree awarded (Congratulations!)\n",
      "————————————————————————————————————————————————————————————————————————————————\n"
     ]
    },
    {
     "data": {
      "text/markdown": [
       "**Result 4:**\n",
       "**From `/Users/stephenkeyen/Documents/GENAI/Assignments/DBOS PSYCH Handbook 2023-2024 (final).pdf`, Page 25**"
      ],
      "text/plain": [
       "<IPython.core.display.Markdown object>"
      ]
     },
     "metadata": {},
     "output_type": "display_data"
    },
    {
     "name": "stdout",
     "output_type": "stream",
     "text": [
      "integrate, and evaluate knowledge in an area of concentration. The following requirements must  be\n",
      "met before a student is permitted to take the oral qualifying examination:  •  Completion of\n",
      "coursework  •  Completion of all portfolio items  •  Completion of residency  •  Completion of not\n",
      "less than two years of full-time graduate study (48 units) or their equivalent  (including the\n",
      "period for which transfer credit was received).\n",
      "————————————————————————————————————————————————————————————————————————————————\n"
     ]
    },
    {
     "data": {
      "text/markdown": [
       "**Result 5:**\n",
       "**From `/Users/stephenkeyen/Documents/GENAI/Assignments/DBOS PSYCH Handbook 2023-2024 (final).pdf`, Page 10**"
      ],
      "text/plain": [
       "<IPython.core.display.Markdown object>"
      ]
     },
     "metadata": {},
     "output_type": "display_data"
    },
    {
     "name": "stdout",
     "output_type": "stream",
     "text": [
      "students need to prioritize continuous research progress as well. Specifically, planning well in\n",
      "advance for research project and thesis deadlines is important for your continuing success in the\n",
      "program. We recommended regularly being in contact with your advisor and committee to make  sure you\n",
      "are on track.    STUDENT PROGRESS EVALUATION PROCEDURE  DBOS faculty meet at the end of each\n",
      "semester to review the academic performance and progress\n",
      "————————————————————————————————————————————————————————————————————————————————\n"
     ]
    },
    {
     "data": {
      "text/markdown": [
       "**Result 6:**\n",
       "**From `/Users/stephenkeyen/Documents/GENAI/Assignments/DBOS PSYCH Handbook 2023-2024 (final).pdf`, Page 20**"
      ],
      "text/plain": [
       "<IPython.core.display.Markdown object>"
      ]
     },
     "metadata": {},
     "output_type": "display_data"
    },
    {
     "name": "stdout",
     "output_type": "stream",
     "text": [
      "•  Adjustment and transition to graduate school   •  Accommodations for disabilities   •  Discussion\n",
      "of prerequisite requirements   •  Course selection relevance to goals   •  Progress on non-\n",
      "coursework activities, such as research or professional development   •  Career goals & internship\n",
      "or job options    DBOS ADVISING & REGISTRATION GUIDE  Administrative Staff have created the DBOS\n",
      "Advising & Registration Guide on SharePoint to\n",
      "————————————————————————————————————————————————————————————————————————————————\n"
     ]
    },
    {
     "data": {
      "text/markdown": [
       "**Result 7:**\n",
       "**From `/Users/stephenkeyen/Documents/GENAI/Assignments/DBOS PSYCH Handbook 2023-2024 (final).pdf`, Page 27**"
      ],
      "text/plain": [
       "<IPython.core.display.Markdown object>"
      ]
     },
     "metadata": {},
     "output_type": "display_data"
    },
    {
     "name": "stdout",
     "output_type": "stream",
     "text": [
      "you complete your master's thesis at CGU, the department ordinarily will schedule you for a  program\n",
      "and portfolio planning meeting with a faculty committee to formalize an individualized plan  for\n",
      "completing your PhD program. By that time, you are not only expected to be informed about  program\n",
      "requirements and deadlines, but to have realistic plans about how you will meet those  requirements.\n",
      "————————————————————————————————————————————————————————————————————————————————\n"
     ]
    },
    {
     "data": {
      "text/markdown": [
       "**Result 8:**\n",
       "**From `/Users/stephenkeyen/Documents/GENAI/Assignments/DBOS PSYCH Handbook 2023-2024 (final).pdf`, Page 3**"
      ],
      "text/plain": [
       "<IPython.core.display.Markdown object>"
      ]
     },
     "metadata": {},
     "output_type": "display_data"
    },
    {
     "name": "stdout",
     "output_type": "stream",
     "text": [
      "are available in the 2023-2024 Academic Bulletin and the DBOS SharePoint website. It is our hope\n",
      "that you consult these resources often.     We think you will find our programs offer a unique\n",
      "combination of elements that make your graduate  studies stimulating and rewarding. Its\n",
      "distinctiveness comes from the blending of apparent  contradictions: the curriculum allows students\n",
      "to tailor their graduate program to their own individual\n",
      "————————————————————————————————————————————————————————————————————————————————\n"
     ]
    }
   ],
   "source": [
    "# Display the final AI-generated answer based on retrieved context\n",
    "print(\"\\n\" + \"=\"*60 + \" Final Answer \" + \"=\"*60 + \"\\n\")\n",
    "display(Markdown(f\">\\n> {textwrap.fill(final_answer, width=100)}\"))\n",
    "\n",
    "# Display the list of generated query variations for database search\n",
    "print(f\"\\n{'='*40} List of Queries for Database Search {'='*40}\\n\")\n",
    "\n",
    "# Show the original user question before query transformations\n",
    "print(f\"**Original Question:** {question}\")  \n",
    "\n",
    "# Iterate over the generated queries and display them sequentially\n",
    "for i, query in enumerate(generated_queries, start=1): \n",
    "    print(f\"**Generated Query {i}:** {query}\")\n",
    "\n",
    "# Display the list of retrieved documents\n",
    "print(f\"\\n{'='*40} List of Reranked Retrieved Results Using Metadata Filter {'='*40}\\n\")\n",
    "\n",
    "# Print the total number of retrieved and re-ranked results\n",
    "print(f\"Total Number of Retrieved Results: {len(rag_fusion_mmr_results)}\\n\")\n",
    "\n",
    "# Iterate through the retrieved documents and display their metadata and content\n",
    "for i, (doc, score) in enumerate(rag_fusion_mmr_results, start=1):\n",
    "    display(Markdown(f\"**Result {i}:**\\n**From `{doc.metadata['source']}`, Page {doc.metadata['page']}**\"))\n",
    "\n",
    "    print(textwrap.fill(doc.page_content, width=100)) \n",
    "\n",
    "    print(\"—\" * 80)"
   ]
  },
  {
   "cell_type": "markdown",
   "metadata": {},
   "source": [
    "# generating results: Question 2"
   ]
  },
  {
   "cell_type": "code",
   "execution_count": 72,
   "metadata": {},
   "outputs": [],
   "source": [
    "# Define the final RAG generation pipeline\n",
    "final_rag_chain = (\n",
    "    {\"context\": retrieval_chain_rag_fusion_mmr2,  # Retrieve relevant documents using RAG-Fusion with MMR\n",
    "     \"question\": itemgetter(\"question\")} # Extract the \"question\" field from the input dictionary\n",
    "    | flexible_QA_prompt # Apply the flexible prompt as a demo\n",
    "    | llm\n",
    "    | StrOutputParser() # Convert the output into a simple string format for easier processing\n",
    ")\n",
    "\n",
    "# Execute the final RAG pipeline\n",
    "final_answer2 = final_rag_chain.invoke({\"question\": question2})"
   ]
  },
  {
   "cell_type": "code",
   "execution_count": 73,
   "metadata": {},
   "outputs": [
    {
     "name": "stdout",
     "output_type": "stream",
     "text": [
      "\n",
      "============================================================ Final Answer ============================================================\n",
      "\n"
     ]
    },
    {
     "data": {
      "text/markdown": [
       ">\n",
       "> As a new student in the Master of Public Health (MPH) program, your course selection for the next\n",
       "semester should ideally focus on building a strong foundation in the core public health\n",
       "competencies. According to the provided context from the MPH Student Handbook, the program requires\n",
       "you to complete nine core courses that cover essential public health competencies. These core\n",
       "courses are designed to provide a foundation for further coursework in your chosen concentration.\n",
       "Given this information, it would be beneficial to start with some of the core courses if you haven't\n",
       "already. These might include:  1. **Biostatistics** - This course will train you in statistical\n",
       "methods used in clinical and experimental research, which is crucial for analyzing public health\n",
       "data. 2. **Epidemiology** - Understanding the distribution and determinants of health-related states\n",
       "or events in specific populations is fundamental to public health. 3. **Social and Behavioral\n",
       "Sciences** - This course will help you understand the social and behavioral factors affecting health\n",
       "and how to address them. 4. **Health Services** - This course covers the organization, delivery, and\n",
       "financing of health services, which is essential for understanding the healthcare system. 5.\n",
       "**Environmental and Occupational Health** - This course will provide insights into how environmental\n",
       "and occupational factors affect health.  Additionally, if you have already decided on a\n",
       "concentration, you might want to consider taking one of the introductory courses in that area. The\n",
       "program offers concentrations in Health Promotion, Education and Evaluation; Applied Biostatistics\n",
       "and Epidemiology; and Leadership and Management. Each concentration has specific courses that will\n",
       "further your expertise in that area.  Ultimately, your course selection should align with your\n",
       "career goals and interests within public health. It might also be helpful to consult with your\n",
       "academic advisor to tailor your course plan to best fit your educational and professional\n",
       "objectives."
      ],
      "text/plain": [
       "<IPython.core.display.Markdown object>"
      ]
     },
     "metadata": {},
     "output_type": "display_data"
    },
    {
     "name": "stdout",
     "output_type": "stream",
     "text": [
      "\n",
      "======================================== List of Queries for Database Search ========================================\n",
      "\n",
      "**Original Question:** What are the graduation requirements for the PhD in DBOS?\n",
      "**Generated Query 1:** What are the recommended courses for a first-semester student in the Master of Public Health program?  \n",
      "**Generated Query 2:** Which classes are essential for a new student starting the MPH program next semester?  \n",
      "**Generated Query 3:** As a new enrollee in the MPH program, what courses should I prioritize for my upcoming semester?\n",
      "\n",
      "======================================== List of Reranked Retrieved Results Using Metadata Filter ========================================\n",
      "\n",
      "Total Number of Retrieved Results: 14\n",
      "\n"
     ]
    },
    {
     "data": {
      "text/markdown": [
       "**Result 1:**\n",
       "**From `/Users/stephenkeyen/Documents/GENAI/Assignments/MPH-Student-Handbook-2023-2024.pdf`, Page 30**"
      ],
      "text/plain": [
       "<IPython.core.display.Markdown object>"
      ]
     },
     "metadata": {},
     "output_type": "display_data"
    },
    {
     "name": "stdout",
     "output_type": "stream",
     "text": [
      "students enrolled in Claremont Graduate University’s Master of Public Health Program during their\n",
      "last  semester prior to graduation.   The course will draw upon students ‘prior training in the five\n",
      "core areas of public health (i.e., Social and  Behavioral Science, Biostatistics, Epidemiology,\n",
      "Health Services, and Environmental and Occupational  Health), additional required coursework in\n",
      "their specified concentration, and their real-world experience\n",
      "————————————————————————————————————————————————————————————————————————————————\n"
     ]
    },
    {
     "data": {
      "text/markdown": [
       "**Result 2:**\n",
       "**From `/Users/stephenkeyen/Documents/GENAI/Assignments/MPH-Student-Handbook-2023-2024.pdf`, Page 23**"
      ],
      "text/plain": [
       "<IPython.core.display.Markdown object>"
      ]
     },
     "metadata": {},
     "output_type": "display_data"
    },
    {
     "name": "stdout",
     "output_type": "stream",
     "text": [
      "23      Foundational Knowledge and Competencies    The master’s degree in public health program uses\n",
      "a competency-based format for instruction. Each  student in the MPH program (standard and\n",
      "accelerated schedules) is expected to meet minimum  requirements for a basic set of competencies\n",
      "through prior experience, coursework, participation in  interprofessional events, applied practice\n",
      "experience (supervised field training) and integrative learning\n",
      "————————————————————————————————————————————————————————————————————————————————\n"
     ]
    },
    {
     "data": {
      "text/markdown": [
       "**Result 3:**\n",
       "**From `/Users/stephenkeyen/Documents/GENAI/Assignments/MPH-Student-Handbook-2023-2024.pdf`, Page 27**"
      ],
      "text/plain": [
       "<IPython.core.display.Markdown object>"
      ]
     },
     "metadata": {},
     "output_type": "display_data"
    },
    {
     "name": "stdout",
     "output_type": "stream",
     "text": [
      "requirements. The MPH degree requires 44 semester units, consisting of 13 courses:     •  Nine core\n",
      "courses which cover the core public health competencies and provide a foundation for  further\n",
      "coursework in a chosen concentration    •  Choice of one of three concentrations, with four courses\n",
      "required in each. Students can specialize  in (1) Health Promotion, Education and Evaluation; (2)\n",
      "Applied Biostatistics and Epidemiology;  and (3) Leadership and Management.     •\n",
      "————————————————————————————————————————————————————————————————————————————————\n"
     ]
    },
    {
     "data": {
      "text/markdown": [
       "**Result 4:**\n",
       "**From `/Users/stephenkeyen/Documents/GENAI/Assignments/MPH-Student-Handbook-2023-2024.pdf`, Page 28**"
      ],
      "text/plain": [
       "<IPython.core.display.Markdown object>"
      ]
     },
     "metadata": {},
     "output_type": "display_data"
    },
    {
     "name": "stdout",
     "output_type": "stream",
     "text": [
      "Applied Biostatistics & Epidemiology (STEM: MPH-ABE)  CGH 312  Data Analysis (SAS)   4  CGH 313\n",
      "Research Methods   4  CGH 314  Emerging Chronic & Infectious Diseases Worldwide   4  CGH 315  GIS\n",
      "Applications in Public Health  4    Leadership & Management  CGH 316  Public Health Leadership for\n",
      "the 21st Century   4  CGH 317  Ethics, Human Rights & Cultural Diversity   4  CGH 318  Management of\n",
      "International Health Programs & Organizations   4  CGH 319  Health Advocacy  4\n",
      "————————————————————————————————————————————————————————————————————————————————\n"
     ]
    },
    {
     "data": {
      "text/markdown": [
       "**Result 5:**\n",
       "**From `/Users/stephenkeyen/Documents/GENAI/Assignments/MPH-Student-Handbook-2023-2024.pdf`, Page 37**"
      ],
      "text/plain": [
       "<IPython.core.display.Markdown object>"
      ]
     },
     "metadata": {},
     "output_type": "display_data"
    },
    {
     "name": "stdout",
     "output_type": "stream",
     "text": [
      "Concentration in Health Promotion, Education & Evaluation    CGH 308 – Foundations of Program\n",
      "Planning. (Fall or Spring, 4 units)  This course introduces the core concepts, values, and methods\n",
      "of public health program planning and\n",
      "————————————————————————————————————————————————————————————————————————————————\n"
     ]
    },
    {
     "data": {
      "text/markdown": [
       "**Result 6:**\n",
       "**From `/Users/stephenkeyen/Documents/GENAI/Assignments/MPH-Student-Handbook-2023-2024.pdf`, Page 27**"
      ],
      "text/plain": [
       "<IPython.core.display.Markdown object>"
      ]
     },
     "metadata": {},
     "output_type": "display_data"
    },
    {
     "name": "stdout",
     "output_type": "stream",
     "text": [
      "27      MPH Curriculum    The Master of Public Health degree is the most widely recognized\n",
      "professional credential for leadership  in public health. The MPH program is designed for motivated\n",
      "students and professionals interested in the  application of health promotion and disease prevention\n",
      "technologies and interventions designed to  improve and enhance the quality of life. The standard\n",
      "MPH program typically spans two years (full-time).\n",
      "————————————————————————————————————————————————————————————————————————————————\n"
     ]
    },
    {
     "data": {
      "text/markdown": [
       "**Result 7:**\n",
       "**From `/Users/stephenkeyen/Documents/GENAI/Assignments/MPH-Student-Handbook-2023-2024.pdf`, Page 3**"
      ],
      "text/plain": [
       "<IPython.core.display.Markdown object>"
      ]
     },
     "metadata": {},
     "output_type": "display_data"
    },
    {
     "name": "stdout",
     "output_type": "stream",
     "text": [
      "regulations stipulated by the MPH program and the university. If you have any questions regarding\n",
      "these  requirements or policies, please do not hesitate to contact your academic advisor.\n",
      "Darleen Peterson, PhD, MPH, MA, MCHES  Professor of Practice  Senior Associate Dean for Academic\n",
      "Affairs  Director, Certificates and MPH Programs  Co-Director, Positive Health Psychology Program\n",
      "Co-Director, Health Information Systems & Technology Program    Bree Hemingway, PhD, MPH, CHES\n",
      "————————————————————————————————————————————————————————————————————————————————\n"
     ]
    },
    {
     "data": {
      "text/markdown": [
       "**Result 8:**\n",
       "**From `/Users/stephenkeyen/Documents/GENAI/Assignments/MPH-Student-Handbook-2023-2024.pdf`, Page 3**"
      ],
      "text/plain": [
       "<IPython.core.display.Markdown object>"
      ]
     },
     "metadata": {},
     "output_type": "display_data"
    },
    {
     "name": "stdout",
     "output_type": "stream",
     "text": [
      "3      Handbook Overview    Welcome to the MPH program at Claremont Graduate University! You are\n",
      "beginning a rewarding  educational experience that will prepare you for an important role in\n",
      "promoting and protecting the  public’s health.   This Handbook is designed to assist you in\n",
      "understanding and applying the policies, procedures, and  guidelines specific to the MPH program in\n",
      "the School of Community & Global Health. It supplements and\n",
      "————————————————————————————————————————————————————————————————————————————————\n"
     ]
    },
    {
     "data": {
      "text/markdown": [
       "**Result 9:**\n",
       "**From `/Users/stephenkeyen/Documents/GENAI/Assignments/MPH-Student-Handbook-2023-2024.pdf`, Page 1**"
      ],
      "text/plain": [
       "<IPython.core.display.Markdown object>"
      ]
     },
     "metadata": {},
     "output_type": "display_data"
    },
    {
     "name": "stdout",
     "output_type": "stream",
     "text": [
      "1                                      Student Handbook  Master of Public Health Programs Standard &\n",
      "Accelerated 2023 - 2024\n",
      "————————————————————————————————————————————————————————————————————————————————\n"
     ]
    },
    {
     "data": {
      "text/markdown": [
       "**Result 10:**\n",
       "**From `/Users/stephenkeyen/Documents/GENAI/Assignments/MPH-Student-Handbook-2023-2024.pdf`, Page 41**"
      ],
      "text/plain": [
       "<IPython.core.display.Markdown object>"
      ]
     },
     "metadata": {},
     "output_type": "display_data"
    },
    {
     "name": "stdout",
     "output_type": "stream",
     "text": [
      "DO Students may enter the program in their first or second year of medical school. Students may\n",
      "pursue  any of the three MPH concentrations and complete the program in three or four years.\n",
      "————————————————————————————————————————————————————————————————————————————————\n"
     ]
    },
    {
     "data": {
      "text/markdown": [
       "**Result 11:**\n",
       "**From `/Users/stephenkeyen/Documents/GENAI/Assignments/MPH-Student-Handbook-2023-2024.pdf`, Page 23**"
      ],
      "text/plain": [
       "<IPython.core.display.Markdown object>"
      ]
     },
     "metadata": {},
     "output_type": "display_data"
    },
    {
     "name": "stdout",
     "output_type": "stream",
     "text": [
      "List major causes and trends of morbidity and mortality in the  US or other community relevant to\n",
      "the school or program  FK-MPH 5  Discuss the science of primary, secondary and tertiary  prevention\n",
      "in population, including health promotion,  screening  FK-MPH 6  Explain the critical importance of\n",
      "evidence in advancing public  health  FK-MPH7  Factors Related to Human  Health  Explain effects of\n",
      "environmental factors on a population’s  health  FK-MPH 8\n",
      "————————————————————————————————————————————————————————————————————————————————\n"
     ]
    },
    {
     "data": {
      "text/markdown": [
       "**Result 12:**\n",
       "**From `/Users/stephenkeyen/Documents/GENAI/Assignments/MPH-Student-Handbook-2023-2024.pdf`, Page 24**"
      ],
      "text/plain": [
       "<IPython.core.display.Markdown object>"
      ]
     },
     "metadata": {},
     "output_type": "display_data"
    },
    {
     "name": "stdout",
     "output_type": "stream",
     "text": [
      "programs  FC-MPH 9  Design a population-based policy, program, project or  intervention  FC-MPH 10\n",
      "Explain basic principles and tools of budget and resource  management  FC-MPH 11  Select methods to\n",
      "evaluate public health programs  FC-MPH 12  Policy in Public Health  Discuss multiple dimensions of\n",
      "the policy-making process,  including the role of ethics and evidence  FC-MPH 13  Propose strategies\n",
      "to identify stakeholders and build  coalitions and partnerships for influencing public health\n",
      "outcomes\n",
      "————————————————————————————————————————————————————————————————————————————————\n"
     ]
    },
    {
     "data": {
      "text/markdown": [
       "**Result 13:**\n",
       "**From `/Users/stephenkeyen/Documents/GENAI/Assignments/MPH-Student-Handbook-2023-2024.pdf`, Page 36**"
      ],
      "text/plain": [
       "<IPython.core.display.Markdown object>"
      ]
     },
     "metadata": {},
     "output_type": "display_data"
    },
    {
     "name": "stdout",
     "output_type": "stream",
     "text": [
      "community, institutional and policy levels. The course features guest appearances by representatives\n",
      "from  community-based organizations who relate course material to current challenges in public\n",
      "health practice.    CGH 301 – Biostatistics (Fall/Spring, 4 units)  Students are trained in the most\n",
      "used statistical methods in clinical and experimental research. Students  learn to select the most\n",
      "appropriate data analytic methods; how to apply these methods to actual data;\n",
      "————————————————————————————————————————————————————————————————————————————————\n"
     ]
    },
    {
     "data": {
      "text/markdown": [
       "**Result 14:**\n",
       "**From `/Users/stephenkeyen/Documents/GENAI/Assignments/MPH-Student-Handbook-2023-2024.pdf`, Page 39**"
      ],
      "text/plain": [
       "<IPython.core.display.Markdown object>"
      ]
     },
     "metadata": {},
     "output_type": "display_data"
    },
    {
     "name": "stdout",
     "output_type": "stream",
     "text": [
      "39      emphasized. Necessary tools for applying epidemiologic approaches to chronic disease\n",
      "prevention are  provided. The course will also cover topics in microbiology, immunology, laboratory\n",
      "diagnosis, outbreak  investigation, infectious disease diagnosis and control in populations and very\n",
      "basic analytic methods. It  provides students with exposure to local public health department\n",
      "experts with knowledge on topics such  as vector control, emerging infections and bioterrorism.\n",
      "Prerequisite: CGH 302\n",
      "————————————————————————————————————————————————————————————————————————————————\n"
     ]
    }
   ],
   "source": [
    "# Display the final AI-generated answer based on retrieved context\n",
    "print(\"\\n\" + \"=\"*60 + \" Final Answer \" + \"=\"*60 + \"\\n\")\n",
    "display(Markdown(f\">\\n> {textwrap.fill(final_answer2, width=100)}\"))\n",
    "\n",
    "# Display the list of generated query variations for database search\n",
    "print(f\"\\n{'='*40} List of Queries for Database Search {'='*40}\\n\")\n",
    "\n",
    "# Show the original user question before query transformations\n",
    "print(f\"**Original Question:** {question}\")  \n",
    "\n",
    "# Iterate over the generated queries and display them sequentially\n",
    "for i, query in enumerate(generated_queries2, start=1): \n",
    "    print(f\"**Generated Query {i}:** {query}\")\n",
    "\n",
    "# Display the list of retrieved documents\n",
    "print(f\"\\n{'='*40} List of Reranked Retrieved Results Using Metadata Filter {'='*40}\\n\")\n",
    "\n",
    "# Print the total number of retrieved and re-ranked results\n",
    "print(f\"Total Number of Retrieved Results: {len(rag_fusion_mmr_results2)}\\n\")\n",
    "\n",
    "# Iterate through the retrieved documents and display their metadata and content\n",
    "for i, (doc, score) in enumerate(rag_fusion_mmr_results2, start=1):\n",
    "    display(Markdown(f\"**Result {i}:**\\n**From `{doc.metadata['source']}`, Page {doc.metadata['page']}**\"))\n",
    "\n",
    "    print(textwrap.fill(doc.page_content, width=100)) \n",
    "\n",
    "    print(\"—\" * 80)"
   ]
  },
  {
   "cell_type": "markdown",
   "metadata": {},
   "source": [
    "# generating results: Question 3"
   ]
  },
  {
   "cell_type": "code",
   "execution_count": 74,
   "metadata": {},
   "outputs": [],
   "source": [
    "# Define the final RAG generation pipeline\n",
    "final_rag_chain3a = (\n",
    "    {\"context\": retrieval_chain_rag_fusion_mmr_Cisat,  # Retrieve relevant documents using RAG-Fusion with MMR\n",
    "     \"question\": itemgetter(\"question\")} # Extract the \"question\" field from the input dictionary\n",
    "    | flexible_QA_prompt # Apply the flexible prompt as a demo\n",
    "    | llm\n",
    "    | StrOutputParser() # Convert the output into a simple string format for easier processing\n",
    ")\n",
    "\n",
    "# Execute the final RAG pipeline\n",
    "final_answer3a = final_rag_chain.invoke({\"question\": question3})"
   ]
  },
  {
   "cell_type": "code",
   "execution_count": 75,
   "metadata": {},
   "outputs": [
    {
     "name": "stdout",
     "output_type": "stream",
     "text": [
      "\n",
      "============================================================ Final Answer ============================================================\n",
      "\n"
     ]
    },
    {
     "data": {
      "text/markdown": [
       ">\n",
       "> To pursue an interfiled degree between the Center for Information Systems and Technology (CISAT) and\n",
       "the Institute of Management Studies (IMS), you would typically need to take a combination of courses\n",
       "from both fields. While the provided context does not specify exact courses for such a degree, it\n",
       "does mention areas of emphasis within CISAT, such as Information Systems Technology Management,\n",
       "Mobile App Development, Geographic Information Systems, Health Informatics, Cybersecurity, and\n",
       "Networking.   For a more tailored course selection, you would likely need to consult with academic\n",
       "advisors from both CISAT and IMS to design a curriculum that meets the requirements of both fields.\n",
       "This might include foundational courses in information systems and technology, as well as management\n",
       "and strategy courses from IMS. Additionally, interdisciplinary courses that bridge both areas, such\n",
       "as IT strategy, innovation, and health informatics, could be relevant.  Ultimately, the specific\n",
       "courses would depend on the degree requirements set by the institutions and the specific focus you\n",
       "wish to pursue within the interfiled degree."
      ],
      "text/plain": [
       "<IPython.core.display.Markdown object>"
      ]
     },
     "metadata": {},
     "output_type": "display_data"
    },
    {
     "name": "stdout",
     "output_type": "stream",
     "text": [
      "\n",
      "======================================== List of Queries for Database Search ========================================\n",
      "\n",
      "**Original Question:** What are the graduation requirements for the PhD in DBOS?\n",
      "**Generated Query 1:** What courses are required for an interdisciplinary degree combining CISAT and IMS?  \n",
      "**Generated Query 2:** Which classes should I enroll in for a joint degree program between CISAT and IMS?  \n",
      "**Generated Query 3:** What is the recommended coursework for pursuing a degree that integrates CISAT and IMS studies?\n",
      "\n",
      "======================================== List of Reranked Retrieved Results Using Metadata Filter ========================================\n",
      "\n",
      "Total Number of Retrieved Results: 6\n",
      "\n"
     ]
    },
    {
     "data": {
      "text/markdown": [
       "**Result 1:**\n",
       "**From `CISAT_Student_Handbook_2024-2025.pdf`, Page 13**"
      ],
      "text/plain": [
       "<IPython.core.display.Markdown object>"
      ]
     },
     "metadata": {},
     "output_type": "display_data"
    },
    {
     "name": "stdout",
     "output_type": "stream",
     "text": [
      "program prepares students to parTcipate in the academic IS&T research community. It is a demanding\n",
      "program focused on IS&T research. Ph.D. graduates from CISAT are prepared  to conduct rigorous and\n",
      "relevant IS&T research, as well as to apply what they know about IS&T  research to teaching,\n",
      "consulTng, and other acTviTes. Total Units to Degree: 76 units* / 19 courses    REQUIREMENT\n",
      "OVERVIEW:   300-Level Core Courses (16 units)   500-Level Research Core Courses (20 units)   IST\n",
      "ConcentraTon Area (16 units / 4 courses)   IST ElecTve Courses (20 units / 4 courses)\n",
      "Transdisciplinary ElecTve (4 units / 1 course)\n",
      "————————————————————————————————————————————————————————————————————————————————\n"
     ]
    },
    {
     "data": {
      "text/markdown": [
       "**Result 2:**\n",
       "**From `CISAT_Student_Handbook_2024-2025.pdf`, Page 16**"
      ],
      "text/plain": [
       "<IPython.core.display.Markdown object>"
      ]
     },
     "metadata": {},
     "output_type": "display_data"
    },
    {
     "name": "stdout",
     "output_type": "stream",
     "text": [
      "It will commence from Fall semester 2024. Program Overview:  The Center for InformaTon Systems and\n",
      "Technology (CISAT) along with the School of  Community and Global Health (SCGH) of Claremont\n",
      "Graduate University offer an  interﬁled Master’s Degree Program in Healthcare InnovaTon (formerly:\n",
      "Health  InformaTon Systems & Technology). This degree will train and educate students to be\n",
      "thinkers, innovators and leaders who will drive and shape the future of public health  innovaTon for\n",
      "the coming foreseeable future. The program provides students with the  concepts, methods, tools, and\n",
      "skills needed to innovate, develop, manage, and support  informaTon technology systems in public\n",
      "health, and to work in a variety of health IT  posiTons. Degree Requirements:  Coursework: The\n",
      "36-unit program includes:   Core – 16 units (Choose Any 4 courses)  •  IST 380 Introduction to\n",
      "Health Informatics (4 units)  •  CGH 301 Biostatistics (4 units)\n",
      "————————————————————————————————————————————————————————————————————————————————\n"
     ]
    },
    {
     "data": {
      "text/markdown": [
       "**Result 3:**\n",
       "**From `CISAT_Student_Handbook_2024-2025.pdf`, Page 1**"
      ],
      "text/plain": [
       "<IPython.core.display.Markdown object>"
      ]
     },
     "metadata": {},
     "output_type": "display_data"
    },
    {
     "name": "stdout",
     "output_type": "stream",
     "text": [
      "CISAT Student Handbook\n",
      "————————————————————————————————————————————————————————————————————————————————\n"
     ]
    },
    {
     "data": {
      "text/markdown": [
       "**Result 4:**\n",
       "**From `CISAT_Student_Handbook_2024-2025.pdf`, Page 7**"
      ],
      "text/plain": [
       "<IPython.core.display.Markdown object>"
      ]
     },
     "metadata": {},
     "output_type": "display_data"
    },
    {
     "name": "stdout",
     "output_type": "stream",
     "text": [
      "For any assistance with registraTon, students can reach out to the program coordinator. COURSE\n",
      "MODALITIES  CISAT has several course modality opTons degree opTons including in-person, online,\n",
      "hybrid  and hybrid ﬂexible. Please see the chart below for informaTon on what each modality means.\n",
      "InternaTonal students should always have at least 4 units of in-person or hybrid courses (with  51%\n",
      "of the course being offered in person)    Instruction Mode  Description  In-Person  All\n",
      "instructional time occurs during face-to-face, synchronous  meetings on-campus or another location.\n",
      "Hybrid  Instructional time includes in-person meetings and online  meetings/activities which may be\n",
      "synchronous, asynchronous or a  combination of both. Students are expected to attend class\n",
      "according to the scheduled modality. Hybrid-Flexible  (HyFlex)  All synchronous instructional time\n",
      "occurs in-person and online  simultaneously. Students can choose to attend synchronous  sessions in-\n",
      "person or online. Course may include both  synchronous and asynchronous instructional content.\n",
      "Online  All instructional time occurs online as synchronous meetings,  asynchronous engagement, or a\n",
      "combination of both. Supervision  No class meetings or shared instructional activity. Used for\n",
      "internships, field placements, etc.\n",
      "————————————————————————————————————————————————————————————————————————————————\n"
     ]
    },
    {
     "data": {
      "text/markdown": [
       "**Result 5:**\n",
       "**From `CISAT_Student_Handbook_2024-2025.pdf`, Page 23**"
      ],
      "text/plain": [
       "<IPython.core.display.Markdown object>"
      ]
     },
     "metadata": {},
     "output_type": "display_data"
    },
    {
     "name": "stdout",
     "output_type": "stream",
     "text": [
      "While cyberspace is being threatened each passing day, the gap in cybersecurity workforce  keeps\n",
      "increasing. To address the shortage of cybersecurity professionals, there is the need to  create a\n",
      "strong pipeline of future cybersecurity leaders. This entails developing programs to  prepare and\n",
      "train cybersecurity professionals with standardized roles in the cybersecurity  workforce. The\n",
      "Cybersecurity EssenTals Series introduces students to various career paths in  cybersecurity,\n",
      "speciﬁcally in the areas of Network Defense, Ethical Hacking, and Digital  Forensics. The purpose is\n",
      "to provide students with the baseline knowledge, as well as the  essenTal cybersecurity skills and\n",
      "abiliTes to advance and expand their cybersecurity career  paths in the areas of their choice.\n",
      "Students will have access to learning resources including  eBooks, video lectures/demos, extensive\n",
      "hands-on labs, and pracTce exams for cerTﬁcaTons. IST 360 Internet of Things: A Hands-on Approach\n",
      "This is the ﬁrst of a two-course sequence on the Internet of Things (IoT) and it is aimed at\n",
      "introducing the general concepts and architecture of IoT applicaTons, the technologies involved,  as\n",
      "well as IoT development kits including Arduino, Single Board Computers (SBC), smartphones,  and how\n",
      "to run code on them. Students will do several hands-on exercises that will prepare  them towards\n",
      "developing IoT applicaTons that meet business and individual needs. There will  also be a major\n",
      "group/individual project on IoT. IST 361 AI Enhanced IoT: Future-Prooﬁng CriTcal Infrastructures\n",
      "This is the second in a series of IoT courses with a focus on Industrial Control Systems (ICS). The\n",
      "main objecTve is to help students acquire skills and experiences they can employ in designing  novel\n",
      "IoT systems in line with the evoluTon of miniaturizaTon technologies. The course will  have both\n",
      "theory and lab secTons.\n",
      "————————————————————————————————————————————————————————————————————————————————\n"
     ]
    },
    {
     "data": {
      "text/markdown": [
       "**Result 6:**\n",
       "**From `CISAT_Student_Handbook_2024-2025.pdf`, Page 39**"
      ],
      "text/plain": [
       "<IPython.core.display.Markdown object>"
      ]
     },
     "metadata": {},
     "output_type": "display_data"
    },
    {
     "name": "stdout",
     "output_type": "stream",
     "text": [
      "T-Course: Doctoral students must enroll in and complete a Transdisciplinary course  (TNDY)during\n",
      "their careers of study. For assistance in resolving a T-course hold,  contact the Transdisciplinary\n",
      "Studies office. Course Waiver Forms      Course Waivers   To request a waiver for a core course\n",
      "please ﬁll out the Waiver form – can be found in the  documents secTon on CISAT’s SharePoint\n",
      "website. You can also reach out directly to the  Program Coordinator for the form. Students can only\n",
      "waive core courses if they have a taken a  Master’s level course or have equivalent work experience.\n",
      "Note that you need to ﬁll out a form  for each core course. You will also need to submit jusTfying\n",
      "documentaTon as noted on the  form. Once submited to the Program Coordinator, the waiver will be\n",
      "sent to the corresponding  faculty member for approval (see list below for reference).\n",
      "————————————————————————————————————————————————————————————————————————————————\n"
     ]
    }
   ],
   "source": [
    "# Display the final AI-generated answer based on retrieved context\n",
    "print(\"\\n\" + \"=\"*60 + \" Final Answer \" + \"=\"*60 + \"\\n\")\n",
    "display(Markdown(f\">\\n> {textwrap.fill(final_answer3a, width=100)}\"))\n",
    "\n",
    "# Display the list of generated query variations for database search\n",
    "print(f\"\\n{'='*40} List of Queries for Database Search {'='*40}\\n\")\n",
    "\n",
    "# Show the original user question before query transformations\n",
    "print(f\"**Original Question:** {question}\")  \n",
    "\n",
    "# Iterate over the generated queries and display them sequentially\n",
    "for i, query in enumerate(generated_queries3, start=1): \n",
    "    print(f\"**Generated Query {i}:** {query}\")\n",
    "\n",
    "# Display the list of retrieved documents\n",
    "print(f\"\\n{'='*40} List of Reranked Retrieved Results Using Metadata Filter {'='*40}\\n\")\n",
    "\n",
    "# Print the total number of retrieved and re-ranked results\n",
    "print(f\"Total Number of Retrieved Results: {len(rag_fusion_mmr_results_Cisat)}\\n\")\n",
    "\n",
    "# Iterate through the retrieved documents and display their metadata and content\n",
    "for i, (doc, score) in enumerate(rag_fusion_mmr_results_Cisat, start=1):\n",
    "    display(Markdown(f\"**Result {i}:**\\n**From `{doc.metadata['source']}`, Page {doc.metadata['page']}**\"))\n",
    "\n",
    "    print(textwrap.fill(doc.page_content, width=100)) \n",
    "\n",
    "    print(\"—\" * 80)"
   ]
  },
  {
   "cell_type": "code",
   "execution_count": 76,
   "metadata": {},
   "outputs": [],
   "source": [
    "# Define the final RAG generation pipeline\n",
    "final_rag_chain3b = (\n",
    "    {\"context\": retrieval_chain_rag_fusion_mmr_math,  # Retrieve relevant documents using RAG-Fusion with MMR\n",
    "     \"question\": itemgetter(\"question\")} # Extract the \"question\" field from the input dictionary\n",
    "    | flexible_QA_prompt # Apply the flexible prompt as a demo\n",
    "    | llm\n",
    "    | StrOutputParser() # Convert the output into a simple string format for easier processing\n",
    ")\n",
    "\n",
    "# Execute the final RAG pipeline\n",
    "final_answer3b = final_rag_chain.invoke({\"question\": question3})"
   ]
  },
  {
   "cell_type": "code",
   "execution_count": 77,
   "metadata": {},
   "outputs": [
    {
     "name": "stdout",
     "output_type": "stream",
     "text": [
      "\n",
      "============================================================ Final Answer ============================================================\n",
      "\n"
     ]
    },
    {
     "data": {
      "text/markdown": [
       ">\n",
       "> To pursue an interfiled degree between the Center for Information Systems and Technology (CISAT) and\n",
       "the Institute of Management Studies (IMS), you would typically need to take a combination of courses\n",
       "from both fields. While the provided context does not specify exact courses for such a degree, I can\n",
       "offer a general guideline based on typical offerings in these areas.  1. **CISAT Courses:**    -\n",
       "**Information Systems Technology Management:** Courses like IST 330 (Supervised Professional\n",
       "Practice in IST) and IST 323 (IT Strategy & Innovation Practicum) are recommended.    -\n",
       "**Specializations:** You might also consider courses in Mobile App Development, Geographic\n",
       "Information Systems, Health Informatics, Cybersecurity, and Networking, depending on your interests.\n",
       "2. **IMS Courses:**    - **Management and Strategy:** Courses in management principles, strategic\n",
       "thinking, and innovation are likely to be part of the curriculum.    - **Business Practices:** You\n",
       "might also take courses in finance, accounting, marketing, and entrepreneurship to complement your\n",
       "technical skills.  3. **Interdisciplinary Courses:**    - Look for courses that bridge technology\n",
       "and management, such as those focusing on IT management, digital transformation, or data analytics\n",
       "for business.  4. **Consultation with Advisors:**    - It's crucial to work closely with academic\n",
       "advisors from both CISAT and IMS to tailor your course selection to meet the requirements of both\n",
       "fields and to ensure a cohesive educational experience.  For a precise course list and to design a\n",
       "customized program, you should consult the academic advisors or program directors at your\n",
       "institution. They can provide specific guidance based on the latest curriculum and your career\n",
       "goals."
      ],
      "text/plain": [
       "<IPython.core.display.Markdown object>"
      ]
     },
     "metadata": {},
     "output_type": "display_data"
    },
    {
     "name": "stdout",
     "output_type": "stream",
     "text": [
      "\n",
      "======================================== List of Queries for Database Search ========================================\n",
      "\n",
      "**Original Question:** What are the graduation requirements for the PhD in DBOS?\n",
      "**Generated Query 1:** What courses are required for an interdisciplinary degree combining CISAT and IMS?  \n",
      "**Generated Query 2:** Which classes should I enroll in for a joint degree program between CISAT and IMS?  \n",
      "**Generated Query 3:** What is the recommended coursework for pursuing a degree that integrates CISAT and IMS studies?\n",
      "\n",
      "======================================== List of Reranked Retrieved Results Using Metadata Filter ========================================\n",
      "\n",
      "Total Number of Retrieved Results: 15\n",
      "\n"
     ]
    },
    {
     "data": {
      "text/markdown": [
       "**Result 1:**\n",
       "**From `/Users/stephenkeyen/Documents/GENAI/Assignments/2024-25 student handbook CGU Math programs.pdf`, Page 8**"
      ],
      "text/plain": [
       "<IPython.core.display.Markdown object>"
      ]
     },
     "metadata": {},
     "output_type": "display_data"
    },
    {
     "name": "stdout",
     "output_type": "stream",
     "text": [
      "8    Dual Degrees.  Students may earn a dual Master’s degree in Financial Engineering / \n",
      "Mathematics, Financial Engineering / Computational and Applied Mathematics, and Financial \n",
      "Engineering / Statistics and Machine Learning.  If accepted by IMS faculty into the dual degree \n",
      "program, students will be required to complete at least 44 units of coursework, and must \n",
      "satisfy all course requirements of both degrees: core courses, elective courses, and gamma \n",
      "requirements.\n",
      "————————————————————————————————————————————————————————————————————————————————\n"
     ]
    },
    {
     "data": {
      "text/markdown": [
       "**Result 2:**\n",
       "**From `/Users/stephenkeyen/Documents/GENAI/Assignments/2024-25 student handbook CGU Math programs.pdf`, Page 13**"
      ],
      "text/plain": [
       "<IPython.core.display.Markdown object>"
      ]
     },
     "metadata": {},
     "output_type": "display_data"
    },
    {
     "name": "stdout",
     "output_type": "stream",
     "text": [
      " IST 302 Databases   IST 332 Natural Language Processing  \n",
      "IST 340 Knowledge Discovery and Data Mining   IST 341 CS Insights via Python  \n",
      "IST 342 Managing Data at Scale   IST 343 Data Science Practicum  \n",
      "IST 344 Data Analytics and Visualization\n",
      "————————————————————————————————————————————————————————————————————————————————\n"
     ]
    },
    {
     "data": {
      "text/markdown": [
       "**Result 3:**\n",
       "**From `/Users/stephenkeyen/Documents/GENAI/Assignments/2024-25 student handbook CGU Math programs.pdf`, Page 11**"
      ],
      "text/plain": [
       "<IPython.core.display.Markdown object>"
      ]
     },
     "metadata": {},
     "output_type": "display_data"
    },
    {
     "name": "stdout",
     "output_type": "stream",
     "text": [
      "11    1. Research seminar requirement.  Over a period of at least two semesters, each student \n",
      "must attend a mathematics research seminar regularly. This may be a CCMS research \n",
      "seminar, mathematics colloquium, faculty‐organized topical seminar, or student‐\n",
      "organized journal club. The student must submit to his or her advisor a list of seminar \n",
      "talks attended, as well as written summaries of three seminar talks. Each summary, of\n",
      "————————————————————————————————————————————————————————————————————————————————\n"
     ]
    },
    {
     "data": {
      "text/markdown": [
       "**Result 4:**\n",
       "**From `/Users/stephenkeyen/Documents/GENAI/Assignments/2024-25 student handbook CGU Math programs.pdf`, Page 15**"
      ],
      "text/plain": [
       "<IPython.core.display.Markdown object>"
      ]
     },
     "metadata": {},
     "output_type": "display_data"
    },
    {
     "name": "stdout",
     "output_type": "stream",
     "text": [
      "work in public and defends it at a final oral examination by the PhD committee.\n",
      "————————————————————————————————————————————————————————————————————————————————\n"
     ]
    },
    {
     "data": {
      "text/markdown": [
       "**Result 5:**\n",
       "**From `/Users/stephenkeyen/Documents/GENAI/Assignments/2024-25 student handbook CGU Math programs.pdf`, Page 7**"
      ],
      "text/plain": [
       "<IPython.core.display.Markdown object>"
      ]
     },
     "metadata": {},
     "output_type": "display_data"
    },
    {
     "name": "stdout",
     "output_type": "stream",
     "text": [
      "7    MS in Financial Engineering   \n",
      "The MS in Financial Engineering provides the skills to create and evaluate complex financial \n",
      "products, helping graduates become strategic leaders in the field. Students draw on tools from \n",
      "applied math, statistics, and financial and economic theory, to convert into (i) software \n",
      "programs in the most modern programming languages and (ii) successful decision‐making. The \n",
      "program prepares graduates for careers in portfolio management and in risk management at\n",
      "————————————————————————————————————————————————————————————————————————————————\n"
     ]
    },
    {
     "data": {
      "text/markdown": [
       "**Result 6:**\n",
       "**From `/Users/stephenkeyen/Documents/GENAI/Assignments/2024-25 student handbook CGU Math programs.pdf`, Page 16**"
      ],
      "text/plain": [
       "<IPython.core.display.Markdown object>"
      ]
     },
     "metadata": {},
     "output_type": "display_data"
    },
    {
     "name": "stdout",
     "output_type": "stream",
     "text": [
      "available at: https://my.cgu.edu/registrar/forms/.\n",
      "————————————————————————————————————————————————————————————————————————————————\n"
     ]
    },
    {
     "data": {
      "text/markdown": [
       "**Result 7:**\n",
       "**From `/Users/stephenkeyen/Documents/GENAI/Assignments/2024-25 student handbook CGU Math programs.pdf`, Page 13**"
      ],
      "text/plain": [
       "<IPython.core.display.Markdown object>"
      ]
     },
     "metadata": {},
     "output_type": "display_data"
    },
    {
     "name": "stdout",
     "output_type": "stream",
     "text": [
      "13    PhD in Computational Science \n",
      "Offered by the Institute of Mathematical Sciences (IMS) and Center for Information Systems \n",
      "and Technology (CISAT) at CGU, the PhD in Computational Science addresses the need for \n",
      "advanced computational methods to enable scientific discovery across disciplinary boundaries. \n",
      "The program trains applied computational researchers to contribute to cross‐disciplinary \n",
      "research and development in modern academic, government, and industrial settings.\n",
      "————————————————————————————————————————————————————————————————————————————————\n"
     ]
    },
    {
     "data": {
      "text/markdown": [
       "**Result 8:**\n",
       "**From `/Users/stephenkeyen/Documents/GENAI/Assignments/2024-25 student handbook CGU Math programs.pdf`, Page 17**"
      ],
      "text/plain": [
       "<IPython.core.display.Markdown object>"
      ]
     },
     "metadata": {},
     "output_type": "display_data"
    },
    {
     "name": "stdout",
     "output_type": "stream",
     "text": [
      "Andrew Nguyen  Adjunct Professor  andrew.nguyen@cgu.edu  909‐607‐8036                     \n",
      "Qidi Peng  Research Associate Professor \n",
      "qidi.peng@cgu.edu                                                         909‐607‐9490   \n",
      "Allon Percus (IMS Director 2024‐25)  Joseph H. Pengilly Professor  allon.percus@cgu.edu \n",
      "909‐607‐0744                                                                  Claudia Rangel \n",
      "Adjunct Professor  claudia.rangel@cgu.edu  213‐740‐2404\n",
      "————————————————————————————————————————————————————————————————————————————————\n"
     ]
    },
    {
     "data": {
      "text/markdown": [
       "**Result 9:**\n",
       "**From `/Users/stephenkeyen/Documents/GENAI/Assignments/2024-25 student handbook CGU Math programs.pdf`, Page 13**"
      ],
      "text/plain": [
       "<IPython.core.display.Markdown object>"
      ]
     },
     "metadata": {},
     "output_type": "display_data"
    },
    {
     "name": "stdout",
     "output_type": "stream",
     "text": [
      "Course Requirements. A total of 72 units of coursework is required to complete the doctoral \n",
      "degree. These units must include 4 units of Transdisciplinary (TNDY) course(s) per University \n",
      "Policy.    24 units of Mathematics coursework taken at IMS.  These include one course each, \n",
      "from at least three of the following four categories.  o Mathematical Modeling  \n",
      "Math 387 Discrete Mathematical Modeling   Math 388 Continuous Mathematical Modeling  o\n",
      "Advanced Statistics with Computation\n",
      "————————————————————————————————————————————————————————————————————————————————\n"
     ]
    },
    {
     "data": {
      "text/markdown": [
       "**Result 10:**\n",
       "**From `/Users/stephenkeyen/Documents/GENAI/Assignments/2024-25 student handbook CGU Math programs.pdf`, Page 2**"
      ],
      "text/plain": [
       "<IPython.core.display.Markdown object>"
      ]
     },
     "metadata": {},
     "output_type": "display_data"
    },
    {
     "name": "stdout",
     "output_type": "stream",
     "text": [
      "Program Coordinator.    \n",
      "All IMS Master’s and PhD students must receive written approval from their faculty advisor to \n",
      "select any course outside those listed on the Graduate Math Courses List.\n",
      "————————————————————————————————————————————————————————————————————————————————\n"
     ]
    },
    {
     "data": {
      "text/markdown": [
       "**Result 11:**\n",
       "**From `/Users/stephenkeyen/Documents/GENAI/Assignments/2024-25 student handbook CGU Math programs.pdf`, Page 2**"
      ],
      "text/plain": [
       "<IPython.core.display.Markdown object>"
      ]
     },
     "metadata": {},
     "output_type": "display_data"
    },
    {
     "name": "stdout",
     "output_type": "stream",
     "text": [
      "2    Welcome to the Institute of Mathematical Sciences (IMS)!   \n",
      "This handbook is designed to assist mathematics students in smoothly progressing through \n",
      "their respective programs.  It introduces major program milestones, registration details, and \n",
      "general information about the school.   \n",
      "Please note that it is the student’s responsibility to be familiar with the CGU Student Bulletin \n",
      "(available at bulletin.cgu.edu) for official CGU policies and procedures.     \n",
      "New Student Orientation\n",
      "————————————————————————————————————————————————————————————————————————————————\n"
     ]
    },
    {
     "data": {
      "text/markdown": [
       "**Result 12:**\n",
       "**From `/Users/stephenkeyen/Documents/GENAI/Assignments/2024-25 student handbook CGU Math programs.pdf`, Page 8**"
      ],
      "text/plain": [
       "<IPython.core.display.Markdown object>"
      ]
     },
     "metadata": {},
     "output_type": "display_data"
    },
    {
     "name": "stdout",
     "output_type": "stream",
     "text": [
      "requirements of the course.  \n",
      "A written description of the work must be submitted by the student to the IMS Director \n",
      "for review.  That documentation should include a description of the extra work, and \n",
      "how it will be evaluated by the instructor (written or oral exam, written report/project, \n",
      "etc.). If the IMS Director approves, that document is placed in the student's file.    \n",
      "Upon completion of the course, the instructor must communicate to the IMS Program\n",
      "————————————————————————————————————————————————————————————————————————————————\n"
     ]
    },
    {
     "data": {
      "text/markdown": [
       "**Result 13:**\n",
       "**From `/Users/stephenkeyen/Documents/GENAI/Assignments/2024-25 student handbook CGU Math programs.pdf`, Page 14**"
      ],
      "text/plain": [
       "<IPython.core.display.Markdown object>"
      ]
     },
     "metadata": {},
     "output_type": "display_data"
    },
    {
     "name": "stdout",
     "output_type": "stream",
     "text": [
      "a PhD committee, consisting of at least three faculty members, normally chaired by the advisor, \n",
      "with at least one IMS faculty member and at least one CISAT faculty member. The student \n",
      "prepares a written account of research work performed and its results, and then presents the \n",
      "work orally to the members of the PhD committee. Should a student fail the qualifying exam, \n",
      "one additional attempt to pass the examination will be allowed.\n",
      "————————————————————————————————————————————————————————————————————————————————\n"
     ]
    },
    {
     "data": {
      "text/markdown": [
       "**Result 14:**\n",
       "**From `/Users/stephenkeyen/Documents/GENAI/Assignments/2024-25 student handbook CGU Math programs.pdf`, Page 17**"
      ],
      "text/plain": [
       "<IPython.core.display.Markdown object>"
      ]
     },
     "metadata": {},
     "output_type": "display_data"
    },
    {
     "name": "stdout",
     "output_type": "stream",
     "text": [
      "17    IMS Department Contacts    Anya Istakhorov  Program Coordinator  anna.istakhorov@cgu.edu \n",
      "909‐621‐8080      John Angus  Professor  john.angus@cgu.edu  909‐607‐3376    Yu Bai \n",
      "Research Associate Professor  yu.bai@cgu.edu      Marina Chugunova  Ellis Cumberbatch Professor \n",
      "marina.chugunova@cgu.edu  909‐607‐9489    Hrushikesh Mhaskar  Distinguished Research Professor \n",
      "hmhaska@gmail.com      Ali Nadim  Professor  ali.nadim@cgu.edu  909‐607‐9413    Andrew Nguyen \n",
      "Adjunct Professor  andrew.nguyen@cgu.edu\n",
      "————————————————————————————————————————————————————————————————————————————————\n"
     ]
    },
    {
     "data": {
      "text/markdown": [
       "**Result 15:**\n",
       "**From `/Users/stephenkeyen/Documents/GENAI/Assignments/2024-25 student handbook CGU Math programs.pdf`, Page 1**"
      ],
      "text/plain": [
       "<IPython.core.display.Markdown object>"
      ]
     },
     "metadata": {},
     "output_type": "display_data"
    },
    {
     "name": "stdout",
     "output_type": "stream",
     "text": [
      "2024-2025    Institute of Mathematical  Sciences    Student Handbook\n",
      "————————————————————————————————————————————————————————————————————————————————\n"
     ]
    }
   ],
   "source": [
    "# Display the final AI-generated answer based on retrieved context\n",
    "print(\"\\n\" + \"=\"*60 + \" Final Answer \" + \"=\"*60 + \"\\n\")\n",
    "display(Markdown(f\">\\n> {textwrap.fill(final_answer3b, width=100)}\"))\n",
    "\n",
    "# Display the list of generated query variations for database search\n",
    "print(f\"\\n{'='*40} List of Queries for Database Search {'='*40}\\n\")\n",
    "\n",
    "# Show the original user question before query transformations\n",
    "print(f\"**Original Question:** {question}\")  \n",
    "\n",
    "# Iterate over the generated queries and display them sequentially\n",
    "for i, query in enumerate(generated_queries3, start=1): \n",
    "    print(f\"**Generated Query {i}:** {query}\")\n",
    "\n",
    "# Display the list of retrieved documents\n",
    "print(f\"\\n{'='*40} List of Reranked Retrieved Results Using Metadata Filter {'='*40}\\n\")\n",
    "\n",
    "# Print the total number of retrieved and re-ranked results\n",
    "print(f\"Total Number of Retrieved Results: {len(rag_fusion_mmr_results_math)}\\n\")\n",
    "\n",
    "# Iterate through the retrieved documents and display their metadata and content\n",
    "for i, (doc, score) in enumerate(rag_fusion_mmr_results_math, start=1):\n",
    "    display(Markdown(f\"**Result {i}:**\\n**From `{doc.metadata['source']}`, Page {doc.metadata['page']}**\"))\n",
    "\n",
    "    print(textwrap.fill(doc.page_content, width=100)) \n",
    "\n",
    "    print(\"—\" * 80)"
   ]
  }
 ],
 "metadata": {
  "kernelspec": {
   "display_name": "GenAI_Steph",
   "language": "python",
   "name": "python3"
  },
  "language_info": {
   "codemirror_mode": {
    "name": "ipython",
    "version": 3
   },
   "file_extension": ".py",
   "mimetype": "text/x-python",
   "name": "python",
   "nbconvert_exporter": "python",
   "pygments_lexer": "ipython3",
   "version": "3.10.10"
  }
 },
 "nbformat": 4,
 "nbformat_minor": 2
}
